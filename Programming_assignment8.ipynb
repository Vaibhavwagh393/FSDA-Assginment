{
  "nbformat": 4,
  "nbformat_minor": 0,
  "metadata": {
    "colab": {
      "provenance": []
    },
    "kernelspec": {
      "name": "python3",
      "display_name": "Python 3"
    },
    "language_info": {
      "name": "python"
    }
  },
  "cells": [
    {
      "cell_type": "markdown",
      "source": [
        "1. Write a Python Program to Add Two Matrices?"
      ],
      "metadata": {
        "id": "Xw7G9pe8S-gM"
      }
    },
    {
      "cell_type": "code",
      "source": [
        "import numpy as np"
      ],
      "metadata": {
        "id": "cMRKpw9vUO6y"
      },
      "execution_count": 59,
      "outputs": []
    },
    {
      "cell_type": "code",
      "source": [
        "a = np.array([[1,2],[3,4]])\n",
        "b = np.array([[1,1],[2,2]])\n",
        "a+b"
      ],
      "metadata": {
        "colab": {
          "base_uri": "https://localhost:8080/"
        },
        "id": "VCKurP0uURi0",
        "outputId": "ddf47974-fa2f-42aa-e11a-aca8c3c92e0d"
      },
      "execution_count": 60,
      "outputs": [
        {
          "output_type": "execute_result",
          "data": {
            "text/plain": [
              "array([[2, 3],\n",
              "       [5, 6]])"
            ]
          },
          "metadata": {},
          "execution_count": 60
        }
      ]
    },
    {
      "cell_type": "code",
      "source": [
        "a = np.arange(1,10)\n",
        "a.reshape(3,3)\n",
        "\n",
        "b = np.arange(1,10)\n",
        "b.reshape(3,3)\n",
        "\n",
        "print((a+b).reshape(3,3))"
      ],
      "metadata": {
        "colab": {
          "base_uri": "https://localhost:8080/"
        },
        "id": "-MTWp13HUp5V",
        "outputId": "9a99c239-5303-4989-afcc-99dac436ec4b"
      },
      "execution_count": 61,
      "outputs": [
        {
          "output_type": "stream",
          "name": "stdout",
          "text": [
            "[[ 2  4  6]\n",
            " [ 8 10 12]\n",
            " [14 16 18]]\n"
          ]
        }
      ]
    },
    {
      "cell_type": "markdown",
      "source": [
        "2. Write a Python Program to Multiply Two Matrices?"
      ],
      "metadata": {
        "id": "sUU2C8IWS-nf"
      }
    },
    {
      "cell_type": "code",
      "source": [
        "a = np.array([[1,2],\n",
        "              [3,4]])\n",
        "\n",
        "b = np.array([[1,1],\n",
        "              [2,2]])\n",
        "a*b"
      ],
      "metadata": {
        "colab": {
          "base_uri": "https://localhost:8080/"
        },
        "id": "cnTZYUqPVKY7",
        "outputId": "a0a5c139-8ee2-4418-8a05-3ae0bd903ab1"
      },
      "execution_count": 62,
      "outputs": [
        {
          "output_type": "execute_result",
          "data": {
            "text/plain": [
              "array([[1, 2],\n",
              "       [6, 8]])"
            ]
          },
          "metadata": {},
          "execution_count": 62
        }
      ]
    },
    {
      "cell_type": "markdown",
      "source": [
        "3. Write a Python Program to Transpose a Matrix?"
      ],
      "metadata": {
        "id": "LOv5gshYS-uc"
      }
    },
    {
      "cell_type": "code",
      "source": [
        "a = np.array([[1,2,3,10],\n",
        "              [3,-4,5,8]])\n",
        "transposed_arr = np.transpose(a)\n",
        "transposed_arr\n"
      ],
      "metadata": {
        "colab": {
          "base_uri": "https://localhost:8080/"
        },
        "id": "xWkehUMoVS_L",
        "outputId": "ec7557c2-bf2b-43db-9647-46a95b15d797"
      },
      "execution_count": 63,
      "outputs": [
        {
          "output_type": "execute_result",
          "data": {
            "text/plain": [
              "array([[ 1,  3],\n",
              "       [ 2, -4],\n",
              "       [ 3,  5],\n",
              "       [10,  8]])"
            ]
          },
          "metadata": {},
          "execution_count": 63
        }
      ]
    },
    {
      "cell_type": "markdown",
      "source": [
        "4. Write a Python Program to Sort Words in Alphabetic Order?"
      ],
      "metadata": {
        "id": "r3DnuIIXS-1i"
      }
    },
    {
      "cell_type": "code",
      "source": [
        "def to_sort(words):\n",
        "  if type(words)==list:\n",
        "    return ' '.join(sorted(words))      # for list of words\n",
        "  else:\n",
        "    return ''.join(sorted(words))         # for single words "
      ],
      "metadata": {
        "id": "vTcgP43QV5aP"
      },
      "execution_count": 64,
      "outputs": []
    },
    {
      "cell_type": "code",
      "source": [
        "lst = ['hello','world','bike','eye','wow','house']\n",
        "to_sort(lst)\n"
      ],
      "metadata": {
        "colab": {
          "base_uri": "https://localhost:8080/",
          "height": 35
        },
        "id": "D3bMpp0_XnGn",
        "outputId": "27947f16-fbcc-4b4d-f556-2611652d0934"
      },
      "execution_count": 65,
      "outputs": [
        {
          "output_type": "execute_result",
          "data": {
            "text/plain": [
              "'bike eye hello house world wow'"
            ],
            "application/vnd.google.colaboratory.intrinsic+json": {
              "type": "string"
            }
          },
          "metadata": {},
          "execution_count": 65
        }
      ]
    },
    {
      "cell_type": "code",
      "source": [
        "to_sort('PythonHelloWorld')"
      ],
      "metadata": {
        "colab": {
          "base_uri": "https://localhost:8080/",
          "height": 35
        },
        "id": "CAQNVO4IYg-C",
        "outputId": "5ebffc44-8cbe-4d81-d8e7-57d189a96474"
      },
      "execution_count": 66,
      "outputs": [
        {
          "output_type": "execute_result",
          "data": {
            "text/plain": [
              "'HPWdehlllnooorty'"
            ],
            "application/vnd.google.colaboratory.intrinsic+json": {
              "type": "string"
            }
          },
          "metadata": {},
          "execution_count": 66
        }
      ]
    },
    {
      "cell_type": "markdown",
      "source": [
        "5. Write a Python Program to Remove Punctuation From a String?\n"
      ],
      "metadata": {
        "id": "zAkmiyQ1S-8c"
      }
    },
    {
      "cell_type": "code",
      "source": [
        "import string\n",
        "def to_remove(sentence): \n",
        "   new_sen = ''                  # to make new string \n",
        "   # Get the set of punctuation marks\n",
        "   punctuation_marks = set(string.punctuation)      # set of all puctucation marks present in the string library\n",
        "   for i in sentence:\n",
        "    if i not in punctuation_marks:\n",
        "      new_sen = new_sen + i\n",
        "   return new_sen"
      ],
      "metadata": {
        "id": "kg9-80tiZq3q"
      },
      "execution_count": 67,
      "outputs": []
    },
    {
      "cell_type": "code",
      "source": [
        "sen = \"The thunder roared, rain poured relentlessly, and the wind howled fiercely, creating a symphony of nature's fury! \"\n",
        "to_remove(sen)"
      ],
      "metadata": {
        "colab": {
          "base_uri": "https://localhost:8080/",
          "height": 35
        },
        "id": "GR3aFrzWbkNA",
        "outputId": "f7a52953-d139-4854-fe6d-32dd3b302257"
      },
      "execution_count": 68,
      "outputs": [
        {
          "output_type": "execute_result",
          "data": {
            "text/plain": [
              "'The thunder roared rain poured relentlessly and the wind howled fiercely creating a symphony of natures fury '"
            ],
            "application/vnd.google.colaboratory.intrinsic+json": {
              "type": "string"
            }
          },
          "metadata": {},
          "execution_count": 68
        }
      ]
    },
    {
      "cell_type": "code",
      "source": [],
      "metadata": {
        "id": "HKDr4Z6TgE5l"
      },
      "execution_count": null,
      "outputs": []
    }
  ]
}
