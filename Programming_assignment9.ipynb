{
  "nbformat": 4,
  "nbformat_minor": 0,
  "metadata": {
    "colab": {
      "provenance": []
    },
    "kernelspec": {
      "name": "python3",
      "display_name": "Python 3"
    },
    "language_info": {
      "name": "python"
    }
  },
  "cells": [
    {
      "cell_type": "markdown",
      "source": [
        "##Assginment 9"
      ],
      "metadata": {
        "id": "BeDUxAZwf6Lx"
      }
    },
    {
      "cell_type": "markdown",
      "source": [
        "1. Write a Python program to check if the given number is a Disarium Number?"
      ],
      "metadata": {
        "id": "XZJ8HFzGf-rg"
      }
    },
    {
      "cell_type": "code",
      "source": [
        "n = int(input(\"Enter the number : \"))\n",
        "num = n\n",
        "a = len(str(n))\n",
        "sum = 0\n",
        "while num > 0:\n",
        "  digit = num % 10\n",
        "  sum = sum + digit**(a)\n",
        "  num = num // 10\n",
        "  a=a-1\n",
        "if sum == n:\n",
        "  print(f\"{n} is a Disarium Number\")\n",
        "else:\n",
        "  print(f\"{n} is a not Disarium Number\")\n"
      ],
      "metadata": {
        "colab": {
          "base_uri": "https://localhost:8080/"
        },
        "id": "mGxEu1nac4Od",
        "outputId": "70302588-1462-43f7-a41f-01bb1fa4edcd"
      },
      "execution_count": null,
      "outputs": [
        {
          "output_type": "stream",
          "name": "stdout",
          "text": [
            "Enter the number : 135\n",
            "135 is a Disarium Number\n"
          ]
        }
      ]
    },
    {
      "cell_type": "markdown",
      "source": [
        "2. Write a Python program to print all disarium numbers between 1 to 100?"
      ],
      "metadata": {
        "id": "4-CZGz9HgET7"
      }
    },
    {
      "cell_type": "code",
      "source": [
        "d=list()\n",
        "for j in range(1,101):\n",
        "  num = j\n",
        "  a = len(str(j))\n",
        "  sum = 0\n",
        "  while num > 0:\n",
        "    digit = num % 10\n",
        "    sum = sum + digit**(a)\n",
        "    num = num // 10\n",
        "    a = a -1\n",
        "  if j==sum:\n",
        "    d.append(j)\n",
        "print(\"This are the disarium number between 1 to 100\",d)\n"
      ],
      "metadata": {
        "colab": {
          "base_uri": "https://localhost:8080/"
        },
        "id": "M7oBGCCvgk38",
        "outputId": "e630be7b-c2d8-4c63-dbfe-0bfdad43d3ff"
      },
      "execution_count": null,
      "outputs": [
        {
          "output_type": "stream",
          "name": "stdout",
          "text": [
            "This are the disarium number between 1 to 100 [1, 2, 3, 4, 5, 6, 7, 8, 9, 89]\n"
          ]
        }
      ]
    },
    {
      "cell_type": "markdown",
      "source": [
        "3. Write a Python program to check if the given number is Happy Number?"
      ],
      "metadata": {
        "id": "kd88rHA0gERk"
      }
    },
    {
      "cell_type": "code",
      "source": [
        "def happy(num):\n",
        "  sum = 0\n",
        "  while num > 0:\n",
        "    digit = num % 10\n",
        "    sum = sum + digit**(2)\n",
        "    num = num // 10\n",
        "  return sum\n",
        "\n",
        "\"\"\" ---------------------------------------------------------- \"\"\"\n",
        "\n",
        "num = int(input(\"Enter the Number : \"))\n",
        "ans = num\n",
        "while(ans != 1 and ans != 4):    \n",
        "    ans = happy(ans);\n",
        "\n",
        "if(ans == 1):    \n",
        "    print(str(num) + \" is a happy number\"); \n",
        "elif(ans == 4):  \n",
        "    print(str(num) + \" not is a happy number\"); "
      ],
      "metadata": {
        "colab": {
          "base_uri": "https://localhost:8080/"
        },
        "id": "J0XJcKZMoovs",
        "outputId": "be4e2be1-a4a5-4973-c781-5f98d8b27c3e"
      },
      "execution_count": null,
      "outputs": [
        {
          "output_type": "stream",
          "name": "stdout",
          "text": [
            "Enter the Number : 32\n",
            "32 is a happy number\n"
          ]
        }
      ]
    },
    {
      "cell_type": "markdown",
      "source": [
        "4. Write a Python program to print all happy numbers between 1 and 100?"
      ],
      "metadata": {
        "id": "30CKG8PdgEPD"
      }
    },
    {
      "cell_type": "code",
      "source": [
        "h= list()\n",
        "\n",
        "for j in range ( 1, 101):\n",
        "    ans = j\n",
        "    while(ans != 1 and ans != 4):    \n",
        "        ans = happy(ans);\n",
        "\n",
        "    if(ans == 1):    \n",
        "      #print(str(num) + \" is a happy number\"); \n",
        "      h.append(j)\n",
        "   \n",
        "    \n",
        "print(f\"happy numbers between 1 and 100 are {h}\")"
      ],
      "metadata": {
        "colab": {
          "base_uri": "https://localhost:8080/"
        },
        "id": "2tFZduhCwrWE",
        "outputId": "34a808dc-4e4a-46a3-b8b2-28ab83ba6bab"
      },
      "execution_count": null,
      "outputs": [
        {
          "output_type": "stream",
          "name": "stdout",
          "text": [
            "happy numbers between 1 and 100 are [1, 7, 10, 13, 19, 23, 28, 31, 32, 44, 49, 68, 70, 79, 82, 86, 91, 94, 97, 100]\n"
          ]
        }
      ]
    },
    {
      "cell_type": "markdown",
      "source": [
        "5. Write a Python program to determine whether the given number is a Harshad Number?"
      ],
      "metadata": {
        "id": "-e3f9zZ1gEAV"
      }
    },
    {
      "cell_type": "code",
      "source": [
        "\n",
        "def harshad(num):\n",
        "    sum = 0\n",
        "    while num > 0:\n",
        "      digit = num % 10\n",
        "      sum = sum + digit\n",
        "      num = num // 10\n",
        "    return sum\n",
        "\n",
        "n = int(input(\"Enter the Number : \"))\n",
        "a = harshad(n)\n",
        "if  n % a == 0 :\n",
        "  print(f\"{n} is Harshad number\")\n",
        "else :\n",
        "  print(f\"{n} is not Harshad number\")"
      ],
      "metadata": {
        "colab": {
          "base_uri": "https://localhost:8080/"
        },
        "id": "COx_cNaCRdSD",
        "outputId": "413393f3-e76b-4ab4-af52-3870294a8e06"
      },
      "execution_count": 12,
      "outputs": [
        {
          "output_type": "stream",
          "name": "stdout",
          "text": [
            "Enter the Number : 21\n",
            "21 is Harshad number\n"
          ]
        }
      ]
    },
    {
      "cell_type": "markdown",
      "source": [
        "6. Write a Python program to print all pronic numbers between 1 and 100?"
      ],
      "metadata": {
        "id": "ve-LS6ybghhM"
      }
    },
    {
      "cell_type": "code",
      "source": [
        "\n",
        "def roots(i):\n",
        "  a=i\n",
        "  b=list()\n",
        "  for j in range(1,a+1):     \n",
        "    if i % j==0:\n",
        "      b.append(j)\n",
        "  return b\n",
        "\n",
        "def check(r):\n",
        "  count = 0\n",
        "  for i in range(len(r)-1):\n",
        "    if (r[i]+1)== r[i+1]:\n",
        "      if ( (r[i]) * r[i+1] ) == num1 :\n",
        "        count = count +1\n",
        "  return count\n",
        "\n",
        "\n",
        "\"\"\"--------------------------------------------------------------------- \"\"\"\n",
        "number = list()\n",
        "for num1 in range(1,101):\n",
        "    r = roots(num1)       #find divisor\n",
        "    c = check(r)           # to check n (n+1) == n\n",
        "    if  c!=0:\n",
        "      number.append(num1)\n",
        "print(f\"{number} are the pronic numbers between the 1 and 100\")"
      ],
      "metadata": {
        "colab": {
          "base_uri": "https://localhost:8080/"
        },
        "id": "SAuHfS0rWFNS",
        "outputId": "259b161c-5fee-451b-87df-c18219e0ba42"
      },
      "execution_count": 84,
      "outputs": [
        {
          "output_type": "stream",
          "name": "stdout",
          "text": [
            "[2, 6, 12, 20, 30, 42, 56, 72, 90] are the pronic numbers between the 1 and 100\n"
          ]
        }
      ]
    },
    {
      "cell_type": "code",
      "source": [
        "#Another method\n",
        "\n",
        "def check_num(num):\n",
        "  flag = False\n",
        "  for i in range(1,num+1):\n",
        "    if ( i * (i+1) == num):\n",
        "      flag = True;\n",
        "      break;\n",
        "  return flag\n",
        "  \n",
        "b = list()\n",
        "\n",
        "for i in range(1,101):\n",
        "  if (check_num(i)):\n",
        "    b.append(i)\n",
        "print(f\"{b} are the pronic numbers between the 1 and 100\")"
      ],
      "metadata": {
        "colab": {
          "base_uri": "https://localhost:8080/"
        },
        "id": "bBQjA-ueh9FK",
        "outputId": "75dd463a-defa-47f4-e3ff-1db791605378"
      },
      "execution_count": 82,
      "outputs": [
        {
          "output_type": "stream",
          "name": "stdout",
          "text": [
            "[2, 6, 12, 20, 30, 42, 56, 72, 90] are the pronic numbers between the 1 and 100\n"
          ]
        }
      ]
    },
    {
      "cell_type": "code",
      "source": [],
      "metadata": {
        "id": "tpR5i_KekFvD"
      },
      "execution_count": null,
      "outputs": []
    }
  ]
}
