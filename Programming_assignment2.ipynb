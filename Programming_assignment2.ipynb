{
  "nbformat": 4,
  "nbformat_minor": 0,
  "metadata": {
    "colab": {
      "provenance": []
    },
    "kernelspec": {
      "name": "python3",
      "display_name": "Python 3"
    },
    "language_info": {
      "name": "python"
    }
  },
  "cells": [
    {
      "cell_type": "markdown",
      "source": [
        "1. Write a Python program to convert kilometers to miles?"
      ],
      "metadata": {
        "id": "DfdHJ9Fj-zdO"
      }
    },
    {
      "cell_type": "code",
      "source": [
        "km = float(input(\"Enter Distance in Kilometers : \"))\n",
        "\n",
        "m = 0.62437 * km\n",
        "print(f\"{km} Kilometer is equivalent to {m} in miles.\")"
      ],
      "metadata": {
        "colab": {
          "base_uri": "https://localhost:8080/"
        },
        "id": "Sz_hU3dG-3jw",
        "outputId": "ed0eee9c-f59a-4d4d-cdd2-f1e7daa6082f"
      },
      "execution_count": 4,
      "outputs": [
        {
          "output_type": "stream",
          "name": "stdout",
          "text": [
            "Enter Distance in Kilometers : 5\n",
            "5.0 Kilometer is equivalent to 3.12185 in miles.\n"
          ]
        }
      ]
    },
    {
      "cell_type": "markdown",
      "source": [
        "2. Write a Python program to convert Celsius to Fahrenheit?"
      ],
      "metadata": {
        "id": "F3RYy6j--kNF"
      }
    },
    {
      "cell_type": "code",
      "source": [
        "c = int(input(\"Enter the Temperature in Celsius : \"))\n",
        "\n",
        "f= (c *( 9/5) + 32 )\n",
        "\n",
        "print(f\"{c} Celsius is {f} in Farhrenheit.\")"
      ],
      "metadata": {
        "colab": {
          "base_uri": "https://localhost:8080/"
        },
        "id": "PpHZQbWtABkk",
        "outputId": "f79ebf67-811a-4b3e-cc0d-0cc996bea736"
      },
      "execution_count": 6,
      "outputs": [
        {
          "output_type": "stream",
          "name": "stdout",
          "text": [
            "Enter the Temperature in Celsius : 35\n",
            "35 Celsius is 95.0 in Farhrenheit.\n"
          ]
        }
      ]
    },
    {
      "cell_type": "markdown",
      "source": [
        "3. Write a Python program to display calendar?\n"
      ],
      "metadata": {
        "id": "IwigvvEJ-ktt"
      }
    },
    {
      "cell_type": "code",
      "source": [
        "# This is monthwise Calender\n",
        "import calendar\n",
        "yy = int(input(\"Enter year: \"))\n",
        "mm = int(input(\"Enter month: \"))      \n",
        "print(calendar.month(yy, mm))"
      ],
      "metadata": {
        "colab": {
          "base_uri": "https://localhost:8080/"
        },
        "id": "DG0k0W0wA3zQ",
        "outputId": "23feb64b-95b4-46f2-bd3e-f0867ba87df2"
      },
      "execution_count": 8,
      "outputs": [
        {
          "output_type": "stream",
          "name": "stdout",
          "text": [
            "Enter year: 2023\n",
            "Enter month: 01\n",
            "    January 2023\n",
            "Mo Tu We Th Fr Sa Su\n",
            "                   1\n",
            " 2  3  4  5  6  7  8\n",
            " 9 10 11 12 13 14 15\n",
            "16 17 18 19 20 21 22\n",
            "23 24 25 26 27 28 29\n",
            "30 31\n",
            "\n"
          ]
        }
      ]
    },
    {
      "cell_type": "code",
      "source": [
        "# This is yearwise Calender\n",
        "import calendar\n",
        "yy = int(input(\"Enter year: \"))\n",
        "print(calendar.calendar(yy))"
      ],
      "metadata": {
        "colab": {
          "base_uri": "https://localhost:8080/"
        },
        "id": "T6kBVes9Brkp",
        "outputId": "f8ad51e7-4ba4-4d40-8eac-f419a99da330"
      },
      "execution_count": 12,
      "outputs": [
        {
          "output_type": "stream",
          "name": "stdout",
          "text": [
            "Enter year: 2023\n",
            "                                  2023\n",
            "\n",
            "      January                   February                   March\n",
            "Mo Tu We Th Fr Sa Su      Mo Tu We Th Fr Sa Su      Mo Tu We Th Fr Sa Su\n",
            "                   1             1  2  3  4  5             1  2  3  4  5\n",
            " 2  3  4  5  6  7  8       6  7  8  9 10 11 12       6  7  8  9 10 11 12\n",
            " 9 10 11 12 13 14 15      13 14 15 16 17 18 19      13 14 15 16 17 18 19\n",
            "16 17 18 19 20 21 22      20 21 22 23 24 25 26      20 21 22 23 24 25 26\n",
            "23 24 25 26 27 28 29      27 28                     27 28 29 30 31\n",
            "30 31\n",
            "\n",
            "       April                      May                       June\n",
            "Mo Tu We Th Fr Sa Su      Mo Tu We Th Fr Sa Su      Mo Tu We Th Fr Sa Su\n",
            "                1  2       1  2  3  4  5  6  7                1  2  3  4\n",
            " 3  4  5  6  7  8  9       8  9 10 11 12 13 14       5  6  7  8  9 10 11\n",
            "10 11 12 13 14 15 16      15 16 17 18 19 20 21      12 13 14 15 16 17 18\n",
            "17 18 19 20 21 22 23      22 23 24 25 26 27 28      19 20 21 22 23 24 25\n",
            "24 25 26 27 28 29 30      29 30 31                  26 27 28 29 30\n",
            "\n",
            "        July                     August                  September\n",
            "Mo Tu We Th Fr Sa Su      Mo Tu We Th Fr Sa Su      Mo Tu We Th Fr Sa Su\n",
            "                1  2          1  2  3  4  5  6                   1  2  3\n",
            " 3  4  5  6  7  8  9       7  8  9 10 11 12 13       4  5  6  7  8  9 10\n",
            "10 11 12 13 14 15 16      14 15 16 17 18 19 20      11 12 13 14 15 16 17\n",
            "17 18 19 20 21 22 23      21 22 23 24 25 26 27      18 19 20 21 22 23 24\n",
            "24 25 26 27 28 29 30      28 29 30 31               25 26 27 28 29 30\n",
            "31\n",
            "\n",
            "      October                   November                  December\n",
            "Mo Tu We Th Fr Sa Su      Mo Tu We Th Fr Sa Su      Mo Tu We Th Fr Sa Su\n",
            "                   1             1  2  3  4  5                   1  2  3\n",
            " 2  3  4  5  6  7  8       6  7  8  9 10 11 12       4  5  6  7  8  9 10\n",
            " 9 10 11 12 13 14 15      13 14 15 16 17 18 19      11 12 13 14 15 16 17\n",
            "16 17 18 19 20 21 22      20 21 22 23 24 25 26      18 19 20 21 22 23 24\n",
            "23 24 25 26 27 28 29      27 28 29 30               25 26 27 28 29 30 31\n",
            "30 31\n",
            "\n"
          ]
        }
      ]
    },
    {
      "cell_type": "markdown",
      "source": [
        "4. Write a Python program to solve quadratic equation?"
      ],
      "metadata": {
        "id": "g6mffVYe-kzR"
      }
    },
    {
      "cell_type": "code",
      "source": [
        "import cmath\n",
        "print(\"Your Expression is in format aX^2 + bX + c = 0 & a not equal to 0 \")\n",
        "a = int(input(\"Enter the value of a \"))\n",
        "b = int(input(\"Enter the value of b \"))\n",
        "c = int(input(\"Enter the value of c \"))\n",
        "d = (b**2) - 4*a*c\n",
        "\n",
        "if d > 0 :\n",
        "  print(\"Roots are Real and Unequal\")\n",
        "  sol1 = ((-b - cmath.sqrt(d) / 2* a))\n",
        "  sol2 = ((-b + cmath.sqrt(d) / 2* a))\n",
        "  print(f\"Solutions are {sol1} and {sol2}\")\n",
        "elif d == 0 :\n",
        "  print(\"Roots are Real and Equal\")\n",
        "  sol1 = ((-b - cmath.sqrt(d) / 2* a))\n",
        "  sol2 = ((-b + cmath.sqrt(d) / 2* a))\n",
        "  print(f\"Solutions are {sol1} and {sol2}\")\n",
        "else:\n",
        "  print(\"Roots are Complex\")\n",
        "  sol1 = ((-b - cmath.sqrt(d) / 2* a))\n",
        "  sol2 = ((-b + cmath.sqrt(d) / 2* a))\n",
        "  print(f\"Solutions are {sol1} and {sol2}\")\n"
      ],
      "metadata": {
        "colab": {
          "base_uri": "https://localhost:8080/"
        },
        "id": "-C2dys4dHwcS",
        "outputId": "9c0ca5a8-4fb0-4ddc-d01f-cb53f1f77924"
      },
      "execution_count": 32,
      "outputs": [
        {
          "output_type": "stream",
          "name": "stdout",
          "text": [
            "Your Expression is in format aX^2 + bX + c = 0 & a not equal to 0 \n",
            "Enter the value of a 1\n",
            "Enter the value of b -1\n",
            "Enter the value of c 1\n",
            "Roots are Complex\n",
            "Solutions are (1-0.8660254037844386j) and (1+0.8660254037844386j)\n"
          ]
        }
      ]
    },
    {
      "cell_type": "markdown",
      "source": [
        "5. Write a Python program to swap two variables without temp variable?-"
      ],
      "metadata": {
        "id": "bvFOknog-k3K"
      }
    },
    {
      "cell_type": "code",
      "source": [
        "a = int(input(\"a =\"))\n",
        "b = int(input(\"b =\"))\n",
        "print(f\"Numbers before swap a={a} and b={b}\")\n",
        "a = a + b \n",
        "b = a - b\n",
        "a = a - b\n",
        "print(f\"Numbers after swap a={a} and b={b}\")\n"
      ],
      "metadata": {
        "colab": {
          "base_uri": "https://localhost:8080/"
        },
        "id": "Z2DQ6t95Cr-3",
        "outputId": "261fac15-ecf7-4b14-a84f-afb736fd76a1"
      },
      "execution_count": 18,
      "outputs": [
        {
          "output_type": "stream",
          "name": "stdout",
          "text": [
            "a =5\n",
            "b =3\n",
            "Numbers before swap a=5 and b=3\n",
            "Numbers after swap a=3 and b=5\n"
          ]
        }
      ]
    },
    {
      "cell_type": "code",
      "source": [],
      "metadata": {
        "id": "MpXpHu_rJ75e"
      },
      "execution_count": null,
      "outputs": []
    }
  ]
}
