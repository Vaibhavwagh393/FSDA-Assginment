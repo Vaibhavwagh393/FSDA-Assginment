{
  "nbformat": 4,
  "nbformat_minor": 0,
  "metadata": {
    "colab": {
      "provenance": []
    },
    "kernelspec": {
      "name": "python3",
      "display_name": "Python 3"
    },
    "language_info": {
      "name": "python"
    }
  },
  "cells": [
    {
      "cell_type": "markdown",
      "source": [
        "**1. What are escape characters, and how do you use them?**\n",
        "  --> Escape characters are special characters used in strings to represent characters that are difficult or impossible to type directly. They are denoted by a backslash (\\) followed by a character. Escape characters allow you to include characters such as newlines, tabs, or quotes within a string."
      ],
      "metadata": {
        "id": "-STxwiGidWav"
      }
    },
    {
      "cell_type": "markdown",
      "source": [
        "**2. What do the escape characters n and t stand for?**\n",
        "  --> The escape character **\\n** represents a newline. When it is encountered in a string, it causes a line break.\n",
        "  The escape character **\\t** represents a tab. It inserts a horizontal tab or indentation in the string.\n",
        "\n"
      ],
      "metadata": {
        "id": "cNGCEMucdWhP"
      }
    },
    {
      "cell_type": "code",
      "source": [
        "print(\"1. HelloWorld\")\n",
        "print(\"2. Hello\\nWorld\")\n",
        "print(\"3.\\tHello World\")"
      ],
      "metadata": {
        "colab": {
          "base_uri": "https://localhost:8080/"
        },
        "id": "XFYGya9ufh-W",
        "outputId": "0d6b7e7f-2309-4267-ba15-cc56dc009a6c"
      },
      "execution_count": null,
      "outputs": [
        {
          "output_type": "stream",
          "name": "stdout",
          "text": [
            "1. HelloWorld\n",
            "2. Hello\n",
            "World\n",
            "3.\tHello World\n"
          ]
        }
      ]
    },
    {
      "cell_type": "markdown",
      "source": [
        "**3. What is the way to include backslash characters in a string?**\n",
        "  --> To include a backslash character itself in a string, you can use a double backslash **(\\\\)**. The first backslash acts as an escape character, and the second backslash represents the literal backslash character.\n"
      ],
      "metadata": {
        "id": "45xvUB9cdWmL"
      }
    },
    {
      "cell_type": "code",
      "source": [
        "print(\"Hello World\\\\\")"
      ],
      "metadata": {
        "colab": {
          "base_uri": "https://localhost:8080/"
        },
        "id": "2KYCHzlsgCkw",
        "outputId": "edae5684-e042-4809-f3c5-9275bc79b176"
      },
      "execution_count": null,
      "outputs": [
        {
          "output_type": "stream",
          "name": "stdout",
          "text": [
            "Hello World\\\n"
          ]
        }
      ]
    },
    {
      "cell_type": "markdown",
      "source": [
        "**4. The string \"Howl's Moving Castle\" is a correct value. Why isn't the single quote character in the word Howl's not escaped a problem?**\n",
        "  --> The single quote character within the word \"Howl's\" is not causing a\n",
        "      problem because the string is enclosed in double quotes (\"). In Python, you can use either single quotes or double quotes to define a string. So, when a string is enclosed in double quotes, the presence of a single quote character within the string does not require escaping.\n"
      ],
      "metadata": {
        "id": "y7cYnBVRdWo1"
      }
    },
    {
      "cell_type": "markdown",
      "source": [
        "**5. How do you write a string of newlines if you don't want to use the n character?**\n",
        "  --> By Default print() right in very next Line\n"
      ],
      "metadata": {
        "id": "80adj8lidWrK"
      }
    },
    {
      "cell_type": "code",
      "source": [
        "print('This is line 1.')\n",
        "print('This is line 2.')\n",
        "print('This is line 3.')\n"
      ],
      "metadata": {
        "id": "amLkxN4niTsE",
        "colab": {
          "base_uri": "https://localhost:8080/"
        },
        "outputId": "f0c36bb8-a201-4b21-dd8c-53c09bd3cb5c"
      },
      "execution_count": 21,
      "outputs": [
        {
          "output_type": "stream",
          "name": "stdout",
          "text": [
            "This is line 1.\n",
            "This is line 2.\n",
            "This is line 3.\n"
          ]
        }
      ]
    },
    {
      "cell_type": "markdown",
      "source": [
        "**6. What are the values of the given expressions?\n",
        "'Hello, world!'[1]\n",
        "'Hello, world!'[0:5]\n",
        "'Hello, world!'[:5]\n",
        "'Hello, world!'[3:]**\n",
        "\n"
      ],
      "metadata": {
        "id": "oNsiKjaTdWts"
      }
    },
    {
      "cell_type": "code",
      "source": [
        "print('Hello, world!'[1] )   # returns the character at index 1, which is 'e'\n",
        "print('Hello, world!'[0:5])  # returns the substring from index 0 to 4 (excluding 5), which is 'Hello'\n",
        "print('Hello, world!'[:5] )  # returns the substring from index 0 to 4, which is 'Hello'.\n",
        "print('Hello, world!'[3:])   #  returns the substring from index 3 to the end of the string, which is 'lo, world!'"
      ],
      "metadata": {
        "colab": {
          "base_uri": "https://localhost:8080/"
        },
        "id": "EHV_DMdpjO2G",
        "outputId": "4fbc5d36-8f2b-411a-e0dd-4e562fc5a145"
      },
      "execution_count": null,
      "outputs": [
        {
          "output_type": "stream",
          "name": "stdout",
          "text": [
            "e\n",
            "Hello\n",
            "Hello\n",
            "lo, world!\n"
          ]
        }
      ]
    },
    {
      "cell_type": "markdown",
      "source": [
        "**7. What are the values of the following expressions?  \\\n",
        "'Hello'.upper()\n",
        "'Hello'.upper().isupper()\n",
        "'Hello'.upper().lower()**\n"
      ],
      "metadata": {
        "id": "nHot2Q_7dWwA"
      }
    },
    {
      "cell_type": "code",
      "source": [
        "print('Hello'.upper())  # returns the string 'HELLO' by converting all the characters to uppercase.\n",
        "print('Hello'.upper().isupper()) # returns True because the string 'HELLO' is entirely composed of uppercase characters.\n",
        "print('Hello'.upper().lower()) # returns the string 'hello' by converting all the characters to lowercase after first converting them to uppercase."
      ],
      "metadata": {
        "colab": {
          "base_uri": "https://localhost:8080/"
        },
        "id": "d4-Mat1ZkIs2",
        "outputId": "c697002b-e00e-4d59-d6fa-8f5178c2935d"
      },
      "execution_count": null,
      "outputs": [
        {
          "output_type": "stream",
          "name": "stdout",
          "text": [
            "HELLO\n",
            "True\n",
            "hello\n"
          ]
        }
      ]
    },
    {
      "cell_type": "markdown",
      "source": [
        "**8. What are the values of the following expressions?\n",
        "'Remember, remember, the fifth of July.'.split()\n",
        "'-'.join('There can only one.'.split())**"
      ],
      "metadata": {
        "id": "B2E2WppKdWy5"
      }
    },
    {
      "cell_type": "code",
      "source": [
        "'Remember, remember, the fifth of July.'.split()   # splits the string into a list of substrings, separated by whitespace by default."
      ],
      "metadata": {
        "colab": {
          "base_uri": "https://localhost:8080/"
        },
        "id": "pNyyqikZkVNy",
        "outputId": "555e5719-9919-4ea0-99b9-a0371f6d1dcc"
      },
      "execution_count": null,
      "outputs": [
        {
          "output_type": "execute_result",
          "data": {
            "text/plain": [
              "['Remember,', 'remember,', 'the', 'fifth', 'of', 'July.']"
            ]
          },
          "metadata": {},
          "execution_count": 15
        }
      ]
    },
    {
      "cell_type": "code",
      "source": [
        " #  splits the string into a list of substrings, separated by whitespace. Then it joins the substrings using a hyphen (-).\n",
        " '-'.join('There can only one.'.split())"
      ],
      "metadata": {
        "colab": {
          "base_uri": "https://localhost:8080/",
          "height": 35
        },
        "id": "xSevhNgBkiyw",
        "outputId": "322d2732-672c-4b3b-c7e0-d26ee8b1d8f0"
      },
      "execution_count": null,
      "outputs": [
        {
          "output_type": "execute_result",
          "data": {
            "text/plain": [
              "'There-can-only-one.'"
            ],
            "application/vnd.google.colaboratory.intrinsic+json": {
              "type": "string"
            }
          },
          "metadata": {},
          "execution_count": 16
        }
      ]
    },
    {
      "cell_type": "markdown",
      "source": [
        "**9. What are the methods for right-justifying, left-justifying, and centering a string?**\n",
        "    -->\n",
        "  -  **str.rjust(width, fillchar)** - Right-justifies the string within a field of a specified width by padding it with fillchar on the left.\n",
        "  -  **str.ljust(width, fillchar)** - Left-justifies the string within a field of a specified width by padding it with fillchar on the right.\n",
        "  -  **str.center(width, fillchar)** - Centers the string within a field of a specified width by padding it with fillchar on both sides.\n"
      ],
      "metadata": {
        "id": "8i9QEX07dW0y"
      }
    },
    {
      "cell_type": "code",
      "source": [
        "text = 'Hello'\n",
        "width = 20\n",
        "fillchar = '-'\n",
        "\n",
        "right_justified = text.rjust(width, fillchar)\n",
        "left_justified = text.ljust(width, fillchar)\n",
        "centered = text.center(width, fillchar)\n",
        "\n",
        "print(right_justified)\n",
        "print(left_justified)\n",
        "print(centered)\n"
      ],
      "metadata": {
        "colab": {
          "base_uri": "https://localhost:8080/"
        },
        "id": "xesU7nVjlR3T",
        "outputId": "5d9e7087-4047-4855-e6cc-6000454ae456"
      },
      "execution_count": null,
      "outputs": [
        {
          "output_type": "stream",
          "name": "stdout",
          "text": [
            "---------------Hello\n",
            "Hello---------------\n",
            "-------Hello--------\n"
          ]
        }
      ]
    },
    {
      "cell_type": "markdown",
      "source": [
        "**10. What is the best way to remove whitespace characters from the start or end?**\n",
        "  -->  To remove whitespace characters from the start or end of a string in Python, you can use the **str.strip()** method. This method removes leading and trailing whitespace characters, including spaces, tabs, and newline characters."
      ],
      "metadata": {
        "id": "ZJPBMeKydW38"
      }
    },
    {
      "cell_type": "code",
      "source": [
        "stri= \"    Hello World    \"\n",
        "stri.strip()"
      ],
      "metadata": {
        "colab": {
          "base_uri": "https://localhost:8080/",
          "height": 35
        },
        "id": "ZFQ2nlK3k3A5",
        "outputId": "74daf17f-8b95-439f-a66b-1a8c489988ca"
      },
      "execution_count": null,
      "outputs": [
        {
          "output_type": "execute_result",
          "data": {
            "text/plain": [
              "'Hello World'"
            ],
            "application/vnd.google.colaboratory.intrinsic+json": {
              "type": "string"
            }
          },
          "metadata": {},
          "execution_count": 17
        }
      ]
    }
  ]
}