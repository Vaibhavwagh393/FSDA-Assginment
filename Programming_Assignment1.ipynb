{
  "nbformat": 4,
  "nbformat_minor": 0,
  "metadata": {
    "colab": {
      "provenance": []
    },
    "kernelspec": {
      "name": "python3",
      "display_name": "Python 3"
    },
    "language_info": {
      "name": "python"
    }
  },
  "cells": [
    {
      "cell_type": "markdown",
      "source": [
        "1. Write a Python program to print \"Hello Python\"?\n"
      ],
      "metadata": {
        "id": "fYiabZeFfgSh"
      }
    },
    {
      "cell_type": "code",
      "source": [
        "print(\"Hello Python\")"
      ],
      "metadata": {
        "colab": {
          "base_uri": "https://localhost:8080/"
        },
        "id": "R1p7qgR6gQtl",
        "outputId": "03fedd09-95e8-4f9b-ec54-d257b961c0ee"
      },
      "execution_count": null,
      "outputs": [
        {
          "output_type": "stream",
          "name": "stdout",
          "text": [
            "Hello Python\n"
          ]
        }
      ]
    },
    {
      "cell_type": "markdown",
      "source": [
        "2. Write a Python program to do arithmetical operations addition and division.?"
      ],
      "metadata": {
        "id": "yvPUUKcUgB_D"
      }
    },
    {
      "cell_type": "code",
      "source": [
        "a = float(input(\"Enter First Number : \"))\n",
        "b = float(input(\"Enter Second Number : \"))\n",
        "c = a + b\n",
        "d = a / b\n",
        "print(f\"Addition of {a} and {b} is {c}\\nDivison of {a} by {b} is {d}\")  "
      ],
      "metadata": {
        "colab": {
          "base_uri": "https://localhost:8080/"
        },
        "id": "HJwnSC2YgXRK",
        "outputId": "90825be0-cbef-4d13-df91-b0838d927a81"
      },
      "execution_count": null,
      "outputs": [
        {
          "output_type": "stream",
          "name": "stdout",
          "text": [
            "Enter First Number : 8\n",
            "Enter Second Number : 6\n",
            "Addition of 8.0 and 6.0 is 14.0\n",
            "Divison of 8.0 by 6.0 is 1.3333333333333333\n"
          ]
        }
      ]
    },
    {
      "cell_type": "markdown",
      "source": [
        "3.Write a Python program to find the area of a triangle?"
      ],
      "metadata": {
        "id": "hJ9gD-U9gCCe"
      }
    },
    {
      "cell_type": "code",
      "source": [
        " h = int(input(\"Enter height of Triangle : \"))\n",
        " b = int(input(\"Enter base of Triangle : \"))\n",
        " a= 0.5 * b * h\n",
        " print(f\"Area of Triangle is {a}\")"
      ],
      "metadata": {
        "colab": {
          "base_uri": "https://localhost:8080/"
        },
        "id": "xKlCNIW8iBEh",
        "outputId": "849cb5f9-2b88-495d-89e4-928405db9004"
      },
      "execution_count": null,
      "outputs": [
        {
          "output_type": "stream",
          "name": "stdout",
          "text": [
            "Enter height of Triangle : 5\n",
            "Enter base of Triangle : 3\n",
            "Area of Triangle is 7.5\n"
          ]
        }
      ]
    },
    {
      "cell_type": "markdown",
      "source": [
        "4. Write a Python program to swap two variables?"
      ],
      "metadata": {
        "id": "ZaYYFxpJgCFW"
      }
    },
    {
      "cell_type": "code",
      "source": [
        " a = input()\n",
        " b = input()\n",
        "\n",
        "print(f\"Numbers before swap a={a} and b={b}\")\n",
        "\n",
        " temp = b\n",
        " b = a\n",
        " a = temp\n",
        "print(f\"Numbers after swap a={a} and b={b}\")"
      ],
      "metadata": {
        "colab": {
          "base_uri": "https://localhost:8080/"
        },
        "id": "G3oDWE_oi8Fy",
        "outputId": "47a60031-904e-4cea-c34d-2b1de123e1ad"
      },
      "execution_count": null,
      "outputs": [
        {
          "output_type": "stream",
          "name": "stdout",
          "text": [
            "55\n",
            "25\n",
            "Numbers before swap a=55 and b=25\n",
            "Numbers after swap a=25 and b=55\n"
          ]
        }
      ]
    },
    {
      "cell_type": "markdown",
      "source": [
        "5. Write a Python program to generate a random number?"
      ],
      "metadata": {
        "id": "niouadytgCHm"
      }
    },
    {
      "cell_type": "code",
      "source": [
        "import random\n",
        "\n",
        "print(random.randint(0,100))\n"
      ],
      "metadata": {
        "colab": {
          "base_uri": "https://localhost:8080/"
        },
        "id": "bHGmUacBj2jT",
        "outputId": "f470335a-70d0-4d6b-ef2c-7d1148584a1a"
      },
      "execution_count": null,
      "outputs": [
        {
          "output_type": "stream",
          "name": "stdout",
          "text": [
            "51\n"
          ]
        }
      ]
    }
  ]
}