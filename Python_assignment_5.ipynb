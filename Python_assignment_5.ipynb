{
  "nbformat": 4,
  "nbformat_minor": 0,
  "metadata": {
    "colab": {
      "provenance": []
    },
    "kernelspec": {
      "name": "python3",
      "display_name": "Python 3"
    },
    "language_info": {
      "name": "python"
    }
  },
  "cells": [
    {
      "cell_type": "markdown",
      "source": [
        "1. What does an empty dictionary's code look like?\n"
      ],
      "metadata": {
        "id": "oQiXx4kyU0Uy"
      }
    },
    {
      "cell_type": "code",
      "source": [
        "empty_dict = {}"
      ],
      "metadata": {
        "id": "zjvA4vGYYE8C"
      },
      "execution_count": 41,
      "outputs": []
    },
    {
      "cell_type": "markdown",
      "source": [
        "2. What is the value of a dictionary value with the key 'foo' and the value 42?\n"
      ],
      "metadata": {
        "id": "Bs-UQxbkU0dq"
      }
    },
    {
      "cell_type": "code",
      "source": [
        "dictt = {'key': 42}\n",
        "val = dictt['key']\n",
        "print(val)"
      ],
      "metadata": {
        "colab": {
          "base_uri": "https://localhost:8080/"
        },
        "id": "K1SbLNLQYHYh",
        "outputId": "81df3b97-4c7e-490e-f74e-46769aaa0728"
      },
      "execution_count": 42,
      "outputs": [
        {
          "output_type": "stream",
          "name": "stdout",
          "text": [
            "42\n"
          ]
        }
      ]
    },
    {
      "cell_type": "markdown",
      "source": [
        "3. What is the most significant distinction between a dictionary and a list?\n",
        "-> The most significant distinction between a dictionary and a list is that a dictionary is an unordered collection of key-value pairs, whereas a list is an ordered collection of elements. In a dictionary, the values are accessed using their corresponding keys, while in a list, the elements are accessed by their indices."
      ],
      "metadata": {
        "id": "NkB4wrzZX29q"
      }
    },
    {
      "cell_type": "markdown",
      "source": [
        "4. What happens if you try to access spam['foo'] if spam is {'bar': 100}?\n",
        " --> If you try to access spam['foo'] when spam is {'bar': 100}, you will get a KeyError because the key 'foo' does not exist in the dictionary spam. The KeyError is raised when you try to access a key that is not present in the dictionary."
      ],
      "metadata": {
        "id": "o7jWQ37WX3Ce"
      }
    },
    {
      "cell_type": "code",
      "source": [
        "spam = {'bar': 100}\n",
        "spam['foo']"
      ],
      "metadata": {
        "id": "nleCrBcQYYA7"
      },
      "execution_count": 43,
      "outputs": []
    },
    {
      "cell_type": "markdown",
      "source": [
        "5. If a dictionary is stored in spam, what is the difference between the expressions 'cat' in spam and 'cat' in spam.keys()?\n",
        "  --> If a dictionary is stored in spam, the expression 'cat' in spam checks if the key 'cat' exists in the dictionary spam. It returns a Boolean value (True or False) indicating whether the key is present or not.\n",
        "  On the other hand, the expression 'cat' in spam.keys() also checks if the key 'cat' exists in the dictionary spam. However, using spam.keys() explicitly accesses the dictionary's keys and performs the membership check on the keys. The result is the same as 'cat' in spam, but the latter is more concise."
      ],
      "metadata": {
        "id": "hACbLu1DX3Gr"
      }
    },
    {
      "cell_type": "code",
      "source": [
        "print('cat' in spam)\n",
        "print('cat' in spam.keys())\n",
        "print('bar' in spam.keys())"
      ],
      "metadata": {
        "colab": {
          "base_uri": "https://localhost:8080/"
        },
        "id": "oqBnWNaNYlXV",
        "outputId": "3a0cef7b-a28a-49aa-8a3c-8d2514305597"
      },
      "execution_count": 44,
      "outputs": [
        {
          "output_type": "stream",
          "name": "stdout",
          "text": [
            "False\n",
            "False\n",
            "True\n"
          ]
        }
      ]
    },
    {
      "cell_type": "markdown",
      "source": [
        "**6. If a dictionary is stored in spam, what is the difference between the expressions 'cat' in spam and 'cat' in spam.values()?**\n",
        "\n",
        "  --> If a dictionary is stored in spam, the expression 'cat' in spam checks if the key 'cat' exists in the dictionary spam. It returns a Boolean value indicating whether the key is present or not.\n",
        "  On the other hand, the expression 'cat' in spam.values() checks if the value 'cat' exists in any of the values in the dictionary spam. It returns a Boolean value indicating whether the value is present or not.\n"
      ],
      "metadata": {
        "id": "PMTdqMwqX3Kx"
      }
    },
    {
      "cell_type": "code",
      "source": [
        "\n",
        "spam1 = {'cat':42 ,'ff':'cat'}\n",
        "print('cat' in spam1)\n",
        "print('cat' in spam1.values())"
      ],
      "metadata": {
        "colab": {
          "base_uri": "https://localhost:8080/"
        },
        "id": "i8kZdlGbZ9Lm",
        "outputId": "1584e315-0094-4de5-942e-290e0a13a158"
      },
      "execution_count": 45,
      "outputs": [
        {
          "output_type": "stream",
          "name": "stdout",
          "text": [
            "True\n",
            "True\n"
          ]
        }
      ]
    },
    {
      "cell_type": "markdown",
      "source": [
        "**7. What is a shortcut for the following code?**\n",
        "if 'color' not in spam:\n",
        "spam['color'] = 'black'\n",
        "\n",
        "  --> A shortcut for the given code can be achieved using the setdefault() method of dictionaries. The setdefault() method allows you to set a default value for a key if it does not exist in the dictionary."
      ],
      "metadata": {
        "id": "6SjoHwqfX3OM"
      }
    },
    {
      "cell_type": "code",
      "source": [
        "spam1.setdefault('color', 'black')\n",
        "spam1"
      ],
      "metadata": {
        "colab": {
          "base_uri": "https://localhost:8080/"
        },
        "id": "0e7dVdTNbZKN",
        "outputId": "2ae7f39c-3e4e-4bdd-cda1-f9a2de2dc986"
      },
      "execution_count": 46,
      "outputs": [
        {
          "output_type": "execute_result",
          "data": {
            "text/plain": [
              "{'cat': 42, 'ff': 'cat', 'color': 'black'}"
            ]
          },
          "metadata": {},
          "execution_count": 46
        }
      ]
    },
    {
      "cell_type": "markdown",
      "source": [
        "**8. How do you \"pretty print\" dictionary values using which module and function?**\n",
        "  --> To \"pretty print\" dictionary values, you can use the pprint module (pretty print) in Python. The pprint module provides a pprint() function that formats the dictionary in a more readable way."
      ],
      "metadata": {
        "id": "sRQC8Pb2U0jX"
      }
    },
    {
      "cell_type": "code",
      "source": [
        "import pprint\n",
        "\n",
        "my_dict = {'key1': 'value1', 'key2': 'value2', 'key3': 'value3'}\n",
        "pprint.pprint(my_dict)\n",
        "print(\"-\"*30)\n",
        "pprint.pprint(my_dict, width=30, indent=4)\n"
      ],
      "metadata": {
        "colab": {
          "base_uri": "https://localhost:8080/"
        },
        "id": "yU_DA_KJcEtX",
        "outputId": "0716a607-8d42-45e3-853c-d8a9113a6b9c"
      },
      "execution_count": 47,
      "outputs": [
        {
          "output_type": "stream",
          "name": "stdout",
          "text": [
            "{'key1': 'value1', 'key2': 'value2', 'key3': 'value3'}\n",
            "------------------------------\n",
            "{   'key1': 'value1',\n",
            "    'key2': 'value2',\n",
            "    'key3': 'value3'}\n"
          ]
        }
      ]
    },
    {
      "cell_type": "code",
      "source": [],
      "metadata": {
        "id": "h7izsMp4cFZA"
      },
      "execution_count": 47,
      "outputs": []
    }
  ]
}