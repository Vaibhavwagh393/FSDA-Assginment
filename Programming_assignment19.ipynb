{
  "nbformat": 4,
  "nbformat_minor": 0,
  "metadata": {
    "colab": {
      "provenance": []
    },
    "kernelspec": {
      "name": "python3",
      "display_name": "Python 3"
    },
    "language_info": {
      "name": "python"
    }
  },
  "cells": [
    {
      "cell_type": "markdown",
      "source": [
        "1. Create a function that takes a string and returns a string in which each character is repeated once."
      ],
      "metadata": {
        "id": "_UgK0wG2qXUA"
      }
    },
    {
      "cell_type": "code",
      "source": [
        "def double_char(word):\n",
        "  for i in range(len(word)):\n",
        "    print(word[i]*2,end='') "
      ],
      "metadata": {
        "id": "t945yQJ4qcAU"
      },
      "execution_count": 1,
      "outputs": []
    },
    {
      "cell_type": "code",
      "source": [
        "double_char(\"String\")"
      ],
      "metadata": {
        "colab": {
          "base_uri": "https://localhost:8080/"
        },
        "id": "OtVM7zaEqqc1",
        "outputId": "c86f9011-9a81-4754-c541-fac1798bf93c"
      },
      "execution_count": 2,
      "outputs": [
        {
          "output_type": "stream",
          "name": "stdout",
          "text": [
            "SSttrriinngg"
          ]
        }
      ]
    },
    {
      "cell_type": "code",
      "source": [
        "double_char(\"Hello World!_\") "
      ],
      "metadata": {
        "colab": {
          "base_uri": "https://localhost:8080/"
        },
        "id": "Yu9rHaWxqwMu",
        "outputId": "8378589e-9fef-40bb-c5a9-724113d83c23"
      },
      "execution_count": 3,
      "outputs": [
        {
          "output_type": "stream",
          "name": "stdout",
          "text": [
            "HHeelllloo  WWoorrlldd!!__"
          ]
        }
      ]
    },
    {
      "cell_type": "markdown",
      "source": [
        "2. Create a function that reverses a boolean value and returns the string \"boolean expected\" if another variable type is given."
      ],
      "metadata": {
        "id": "KQmJTkY7q93y"
      }
    },
    {
      "cell_type": "code",
      "source": [
        "def reverse(b):\n",
        "  if isinstance(b, bool):\n",
        "    return not b\n",
        "  else:\n",
        "    return \"boolean expected\""
      ],
      "metadata": {
        "id": "CHqqQUj0q6A_"
      },
      "execution_count": 4,
      "outputs": []
    },
    {
      "cell_type": "code",
      "source": [
        "reverse(False)"
      ],
      "metadata": {
        "colab": {
          "base_uri": "https://localhost:8080/"
        },
        "id": "EOzj22VHrQvS",
        "outputId": "bb322e85-e1da-4693-d3de-44de3f90396f"
      },
      "execution_count": 5,
      "outputs": [
        {
          "output_type": "execute_result",
          "data": {
            "text/plain": [
              "True"
            ]
          },
          "metadata": {},
          "execution_count": 5
        }
      ]
    },
    {
      "cell_type": "code",
      "source": [
        "reverse(0)"
      ],
      "metadata": {
        "colab": {
          "base_uri": "https://localhost:8080/",
          "height": 36
        },
        "id": "Aftzf--1rSoD",
        "outputId": "ab6b9705-9aac-49d5-a488-56a5e12e0928"
      },
      "execution_count": 6,
      "outputs": [
        {
          "output_type": "execute_result",
          "data": {
            "text/plain": [
              "'boolean expected'"
            ],
            "application/vnd.google.colaboratory.intrinsic+json": {
              "type": "string"
            }
          },
          "metadata": {},
          "execution_count": 6
        }
      ]
    },
    {
      "cell_type": "markdown",
      "source": [
        "3. Create a function that returns the thickness (in meters) of a piece of paper after folding it n number of times. The paper starts off with a thickness of 0.5mm."
      ],
      "metadata": {
        "id": "cHNaD5gksjo6"
      }
    },
    {
      "cell_type": "code",
      "source": [
        "def num_layers(n):\n",
        "  thickness = 0.5 / 1000\n",
        "  for i in range(n):\n",
        "    thickness = thickness * 2\n",
        "  return thickness "
      ],
      "metadata": {
        "id": "kDipb3zPcBAf"
      },
      "execution_count": 7,
      "outputs": []
    },
    {
      "cell_type": "code",
      "source": [
        "num_layers(4) "
      ],
      "metadata": {
        "colab": {
          "base_uri": "https://localhost:8080/"
        },
        "id": "UyUkPUF5eIkj",
        "outputId": "29230961-cf49-4716-8ea4-b6c19f77f559"
      },
      "execution_count": 8,
      "outputs": [
        {
          "output_type": "execute_result",
          "data": {
            "text/plain": [
              "0.008"
            ]
          },
          "metadata": {},
          "execution_count": 8
        }
      ]
    },
    {
      "cell_type": "markdown",
      "source": [
        "4. Create a function that takes a single string as argument and returns an ordered list containing the indices of all capital letters in the string."
      ],
      "metadata": {
        "id": "S9qwkot0Z1Gg"
      }
    },
    {
      "cell_type": "code",
      "source": [
        "def index_of_caps(word):\n",
        "  lst=[]\n",
        "  for i in range(len(word)):\n",
        "    if(word[i]==word[i].upper()):\n",
        "      lst.append(i)\n",
        "  return lst"
      ],
      "metadata": {
        "id": "0bIbVfHVaqxZ"
      },
      "execution_count": 9,
      "outputs": []
    },
    {
      "cell_type": "code",
      "source": [
        "index_of_caps(\"eQuINoX\") "
      ],
      "metadata": {
        "colab": {
          "base_uri": "https://localhost:8080/"
        },
        "id": "nQEnXB4fbjPr",
        "outputId": "e110ce67-f43a-4c17-e74e-f7cfd0067443"
      },
      "execution_count": 10,
      "outputs": [
        {
          "output_type": "execute_result",
          "data": {
            "text/plain": [
              "[1, 3, 4, 6]"
            ]
          },
          "metadata": {},
          "execution_count": 10
        }
      ]
    },
    {
      "cell_type": "code",
      "source": [
        "index_of_caps(\"eDaBiT\")"
      ],
      "metadata": {
        "colab": {
          "base_uri": "https://localhost:8080/"
        },
        "id": "zyAPc3lbbyku",
        "outputId": "f3c3982b-e4f0-4c57-aa83-d0b81a009f4b"
      },
      "execution_count": 11,
      "outputs": [
        {
          "output_type": "execute_result",
          "data": {
            "text/plain": [
              "[1, 3, 5]"
            ]
          },
          "metadata": {},
          "execution_count": 11
        }
      ]
    },
    {
      "cell_type": "code",
      "source": [
        "index_of_caps(\"determine\") "
      ],
      "metadata": {
        "colab": {
          "base_uri": "https://localhost:8080/"
        },
        "id": "KIzI4sw-b0Ek",
        "outputId": "72821499-a3cc-4a7d-841d-4bc6f9fab46b"
      },
      "execution_count": 12,
      "outputs": [
        {
          "output_type": "execute_result",
          "data": {
            "text/plain": [
              "[]"
            ]
          },
          "metadata": {},
          "execution_count": 12
        }
      ]
    },
    {
      "cell_type": "markdown",
      "source": [
        "5. Using list comprehensions, create a function that finds all even numbers from 1 to the given number."
      ],
      "metadata": {
        "id": "fXRarNF0Z8BL"
      }
    },
    {
      "cell_type": "code",
      "source": [
        "def even_numbers(num):\n",
        "  lst = [ i for i in range(1,num+1) if(i%2==0)]\n",
        "  return lst"
      ],
      "metadata": {
        "id": "m6BucoPAZ_m_"
      },
      "execution_count": 13,
      "outputs": []
    },
    {
      "cell_type": "code",
      "source": [
        "even_numbers(8)"
      ],
      "metadata": {
        "id": "RcGVPjRMr9XX",
        "colab": {
          "base_uri": "https://localhost:8080/"
        },
        "outputId": "7dabafdf-95ec-4298-eaaa-515446cfee31"
      },
      "execution_count": 14,
      "outputs": [
        {
          "output_type": "execute_result",
          "data": {
            "text/plain": [
              "[2, 4, 6, 8]"
            ]
          },
          "metadata": {},
          "execution_count": 14
        }
      ]
    },
    {
      "cell_type": "code",
      "source": [
        "even_numbers(5)"
      ],
      "metadata": {
        "colab": {
          "base_uri": "https://localhost:8080/"
        },
        "id": "7TvNk7Q7ad4h",
        "outputId": "3a898a2c-bde2-40f8-f6e8-c3c1f33aa9a0"
      },
      "execution_count": 15,
      "outputs": [
        {
          "output_type": "execute_result",
          "data": {
            "text/plain": [
              "[2, 4]"
            ]
          },
          "metadata": {},
          "execution_count": 15
        }
      ]
    },
    {
      "cell_type": "code",
      "source": [],
      "metadata": {
        "id": "7SgI8_ofalEi"
      },
      "execution_count": 15,
      "outputs": []
    }
  ]
}