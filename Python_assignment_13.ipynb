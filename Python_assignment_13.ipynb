{
  "nbformat": 4,
  "nbformat_minor": 0,
  "metadata": {
    "colab": {
      "provenance": []
    },
    "kernelspec": {
      "name": "python3",
      "display_name": "Python 3"
    },
    "language_info": {
      "name": "python"
    }
  },
  "cells": [
    {
      "cell_type": "markdown",
      "source": [
        "**1. What advantages do Excel spreadsheets have over CSV spreadsheets?**\n",
        "-->\n",
        "*  Excel spreadsheets can contain multiple sheets within a single file, allowing for better organization and structuring of data.\n",
        "*  Excel supports complex formulas, functions, and calculations, enabling more advanced data manipulation and analysis.\n",
        "*  Excel offers built-in charts, graphs, and pivot tables for data visualization.\n",
        "\n"
      ],
      "metadata": {
        "id": "S-hHD4TFkW1B"
      }
    },
    {
      "cell_type": "markdown",
      "source": [
        "**2.What do you pass to csv.reader() and csv.writer() to create reader and writer objects?**\n",
        "-->\n",
        "To create reader and writer objects using the csv.reader() and csv.writer() functions, you need to pass a File object as an argument."
      ],
      "metadata": {
        "id": "V-2ve7BgkvV7"
      }
    },
    {
      "cell_type": "markdown",
      "source": [
        "**3. What modes do File objects for reader and writer objects need to be opened in?**\n",
        "-->\n",
        "*  For a reader object, the File object needs to be opened in read mode ('r') or text mode ('rt').\n",
        "*  For a writer object, the File object needs to be opened in write mode ('w') or append mode ('a'). It's important to note that when opening the file in write mode, it will overwrite the existing contents of the file, while opening it in append mode will add new content to the end of the file."
      ],
      "metadata": {
        "id": "mRVoON4bkvZU"
      }
    },
    {
      "cell_type": "markdown",
      "source": [
        "**4. What method takes a list argument and writes it to a CSV file?**\n",
        "-->\n",
        " you can use the writerow() method. It takes a list as an argument\n"
      ],
      "metadata": {
        "id": "OEoAXBZ8kYTu"
      }
    },
    {
      "cell_type": "markdown",
      "source": [
        "**5. What do the keyword arguments delimiter and line terminator do?**\n",
        "-->\n",
        "*  The delimiter keyword argument is used to specify the character used to separate fields in a CSV file.\n",
        "*  The line terminator keyword argument is used to specify the character used to terminate a line in a CSV file.\n"
      ],
      "metadata": {
        "id": "D2_4TuwrkYWU"
      }
    },
    {
      "cell_type": "markdown",
      "source": [
        "**6. What function takes a string of JSON data and returns a Python data structure?**\n",
        "-->\n",
        "The json.loads() function takes a string of JSON data as an argument and returns a corresponding Python data structure.\n"
      ],
      "metadata": {
        "id": "TpWlGizmkYYu"
      }
    },
    {
      "cell_type": "markdown",
      "source": [
        "**7. What function takes a Python data structure and returns a string of JSON data?**\n",
        "-->\n",
        "The json.dumps() function takes a Python data structure as an argument and returns a string of JSON data."
      ],
      "metadata": {
        "id": "bw_8R5ZVkYbt"
      }
    },
    {
      "cell_type": "code",
      "source": [],
      "metadata": {
        "id": "QEwddI6NoLjN"
      },
      "execution_count": null,
      "outputs": []
    }
  ]
}