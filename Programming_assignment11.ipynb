{
  "nbformat": 4,
  "nbformat_minor": 0,
  "metadata": {
    "colab": {
      "provenance": []
    },
    "kernelspec": {
      "name": "python3",
      "display_name": "Python 3"
    },
    "language_info": {
      "name": "python"
    }
  },
  "cells": [
    {
      "cell_type": "markdown",
      "source": [
        "1.\tWrite a Python program to find words which are greater than given length k?"
      ],
      "metadata": {
        "id": "ViUPqSemH1uA"
      }
    },
    {
      "cell_type": "code",
      "source": [
        "def to_check(string,k):\n",
        "  lst = string.split(' ')\n",
        "  lst.sort(key=len)\n",
        "  lst1 = []\n",
        "\n",
        "  for i in lst:\n",
        "    if len(i) > k :\n",
        "      lst1.append(i)\n",
        "  return lst1\n",
        "  "
      ],
      "metadata": {
        "id": "jrR4YDynJjxT"
      },
      "execution_count": 51,
      "outputs": []
    },
    {
      "cell_type": "code",
      "source": [
        "string = \"Hell0 World a abc abcd\"\n",
        "k = 3\n",
        "ans = to_check(string,k)\n",
        "print(f\"Following words are greater length than {k} are {ans}\")"
      ],
      "metadata": {
        "colab": {
          "base_uri": "https://localhost:8080/"
        },
        "id": "0IsmKg-4LHPj",
        "outputId": "5eda131e-23f8-45ea-f521-940a42018460"
      },
      "execution_count": 52,
      "outputs": [
        {
          "output_type": "stream",
          "name": "stdout",
          "text": [
            "Following words are greater length than 3 are ['abcd', 'Hell0', 'World']\n"
          ]
        }
      ]
    },
    {
      "cell_type": "markdown",
      "source": [
        "2.\tWrite a Python program for removing i-th character from a string?"
      ],
      "metadata": {
        "id": "QfFIzCnPH1-0"
      }
    },
    {
      "cell_type": "code",
      "source": [
        "def to_remove(string,char):\n",
        "  string1 = ''\n",
        "  for i in string:\n",
        "    if i != char:\n",
        "      string1 = string1 + i\n",
        "  return string1\n",
        "#----------------------------------\n",
        "string = \"Hello World\"\n",
        "char = 'o'\n",
        "to_remove(string,char)"
      ],
      "metadata": {
        "colab": {
          "base_uri": "https://localhost:8080/",
          "height": 35
        },
        "id": "KnlP4n_WI0mQ",
        "outputId": "f00b9bb5-a42a-44c3-8f25-92748c0c0445"
      },
      "execution_count": 53,
      "outputs": [
        {
          "output_type": "execute_result",
          "data": {
            "text/plain": [
              "'Hell Wrld'"
            ],
            "application/vnd.google.colaboratory.intrinsic+json": {
              "type": "string"
            }
          },
          "metadata": {},
          "execution_count": 53
        }
      ]
    },
    {
      "cell_type": "markdown",
      "source": [
        "3.\tWrite a Python program to split and join a string?"
      ],
      "metadata": {
        "id": "-5QzftP8H2Fs"
      }
    },
    {
      "cell_type": "code",
      "source": [
        "def check(string, delimiter):\n",
        "\n",
        "    substrings = string.split(delimiter)\n",
        "\n",
        "    # Join the substrings using the specified delimiter\n",
        "    joined_string = delimiter.join(substrings)\n",
        "\n",
        "    return joined_string\n",
        "\n",
        "\n",
        "input_string = \"Hello,World,Python\"\n",
        "delimiter = \"o\"\n",
        "split_result = check(input_string, delimiter)\n",
        "print(\"Split result:\", split_result)\n",
        "\n",
        "join_result = check(split_result, delimiter)\n",
        "print(\"Joined result:\", join_result)\n"
      ],
      "metadata": {
        "colab": {
          "base_uri": "https://localhost:8080/"
        },
        "id": "w6mzo1leeOH1",
        "outputId": "3d3224f8-b113-42bc-d589-1e1360528038"
      },
      "execution_count": 54,
      "outputs": [
        {
          "output_type": "stream",
          "name": "stdout",
          "text": [
            "Split result: Hello,World,Python\n",
            "Joined result: Hello,World,Python\n"
          ]
        }
      ]
    },
    {
      "cell_type": "markdown",
      "source": [
        "4.\tWrite a Python to check if a given string is binary string or not?"
      ],
      "metadata": {
        "id": "CFyWACBwH2Ne"
      }
    },
    {
      "cell_type": "code",
      "source": [
        "def is_binary_string(string):\n",
        "    for char in string:\n",
        "        if char != '0' and char != '1':\n",
        "            return False\n",
        "    \n",
        "    return True\n",
        "\n",
        "\n",
        "input_string = \"10110\"\n",
        "if is_binary_string(input_string):\n",
        "    print(\"The string is a binary string.\")\n",
        "else:\n",
        "    print(\"The string is not a binary string.\")\n"
      ],
      "metadata": {
        "colab": {
          "base_uri": "https://localhost:8080/"
        },
        "id": "hB5b03FYeHOI",
        "outputId": "4a358917-da77-4b8f-a511-4f7cde02b1e5"
      },
      "execution_count": 55,
      "outputs": [
        {
          "output_type": "stream",
          "name": "stdout",
          "text": [
            "The string is a binary string.\n"
          ]
        }
      ]
    },
    {
      "cell_type": "markdown",
      "source": [
        "5.\tWrite a Python program to find uncommon words from two Strings?"
      ],
      "metadata": {
        "id": "hHbAgjlWH2Tx"
      }
    },
    {
      "cell_type": "code",
      "source": [
        "def uncommon(string1, string2):\n",
        "    words1 = string1.split()\n",
        "    words2 = string2.split()\n",
        "\n",
        "    set1 = set(words1)               # to remove duplicates\n",
        "    set2 = set(words2)\n",
        "    uncommon_words = set1.symmetric_difference(set2)\n",
        "\n",
        "    return uncommon_words\n",
        "\n",
        "string1 = \"Hello world\"\n",
        "string2 = \"Hello everyone\"\n",
        "result = uncommon(string1, string2)\n",
        "print(\"Uncommon words:\", result)   "
      ],
      "metadata": {
        "colab": {
          "base_uri": "https://localhost:8080/"
        },
        "id": "a56EWhK0YNgc",
        "outputId": "2329b7f4-621d-463e-9813-d5c876d9320f"
      },
      "execution_count": 56,
      "outputs": [
        {
          "output_type": "stream",
          "name": "stdout",
          "text": [
            "Uncommon words: {'everyone', 'world'}\n"
          ]
        }
      ]
    },
    {
      "cell_type": "markdown",
      "source": [
        "6.\tWrite a Python to find all duplicate characters in string?"
      ],
      "metadata": {
        "id": "9ELxG9qcINqD"
      }
    },
    {
      "cell_type": "code",
      "source": [
        "def stringg(word):\n",
        "  char_count = {}\n",
        "  for char in word:\n",
        "    char_count[char] = char_count.get(char , 0 ) + 1\n",
        "\n",
        "  duplicates = []\n",
        "\n",
        "  for char, count in char_count.items():\n",
        "    if count > 1:\n",
        "      if char !=' ':\n",
        "        duplicates.append(char)  \n",
        "\n",
        "  return duplicates , \n",
        "\n",
        "string = \"Hello, World  !\"\n",
        "result = stringg(string)\n",
        "print(\"Duplicate characters:\", result)\n"
      ],
      "metadata": {
        "colab": {
          "base_uri": "https://localhost:8080/"
        },
        "id": "JiNmYemfIcw4",
        "outputId": "7806078a-b90d-40e8-ea54-7dac84ad5380"
      },
      "execution_count": 57,
      "outputs": [
        {
          "output_type": "stream",
          "name": "stdout",
          "text": [
            "Duplicate characters: (['l', 'o'],)\n"
          ]
        }
      ]
    },
    {
      "cell_type": "markdown",
      "source": [
        "7.\tWrite a Python Program to check if a string contains any special character?"
      ],
      "metadata": {
        "id": "5-XCOuuFISyf"
      }
    },
    {
      "cell_type": "code",
      "source": [
        "\n",
        "def is_special(string):\n",
        "    # Define a set of special characters\n",
        "    special_characters = set('!@#$%^&*()_+{}[]|\\:;\"<>,.?/~`')\n",
        "\n",
        "    for char in string:\n",
        "        if char in special_characters:\n",
        "            return True\n",
        "\n",
        "    return False\n",
        "\n",
        "input_string = \"Hello,#$ World!\"\n",
        "if is_special(input_string):\n",
        "    print(\"The string contains special characters.\")\n",
        "else:\n",
        "    print(\"The string does not contain special characters.\")\n"
      ],
      "metadata": {
        "colab": {
          "base_uri": "https://localhost:8080/"
        },
        "id": "gmDV1qHEgIxt",
        "outputId": "9f00f5a5-1d38-40af-9e81-c4ed7a19b659"
      },
      "execution_count": 58,
      "outputs": [
        {
          "output_type": "stream",
          "name": "stdout",
          "text": [
            "The string contains special characters.\n"
          ]
        }
      ]
    },
    {
      "cell_type": "code",
      "source": [],
      "metadata": {
        "id": "zM3twbJCgfB4"
      },
      "execution_count": 58,
      "outputs": []
    }
  ]
}