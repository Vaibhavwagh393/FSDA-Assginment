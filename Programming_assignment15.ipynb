{
  "nbformat": 4,
  "nbformat_minor": 0,
  "metadata": {
    "colab": {
      "provenance": []
    },
    "kernelspec": {
      "name": "python3",
      "display_name": "Python 3"
    },
    "language_info": {
      "name": "python"
    }
  },
  "cells": [
    {
      "cell_type": "markdown",
      "source": [
        "1. Please write a program using generator to print the numbers which can be divisible by 5 and 7 between 0 and n in comma separated form while n is input by console."
      ],
      "metadata": {
        "id": "DYU4E8T9d3ss"
      }
    },
    {
      "cell_type": "code",
      "source": [
        "class DivisibleBy:\n",
        "    def __init__(self, n):\n",
        "        self.n = n\n",
        "\n",
        "    def divisible_by_generator(self):\n",
        "        for num in range(self.n + 1):\n",
        "            if (num % 7 == 0 and num % 5 == 0):\n",
        "                yield num\n",
        "\n",
        "\n",
        "\n",
        "n = 100\n",
        "\n",
        "obj = DivisibleBy(n)\n",
        "generator = obj.divisible_by_generator()\n",
        "\n",
        "for num in generator:\n",
        "    print(num, end=' ')"
      ],
      "metadata": {
        "colab": {
          "base_uri": "https://localhost:8080/"
        },
        "id": "6dT1kxped5GM",
        "outputId": "d04f9709-a856-4593-bcd2-f4437afc6b27"
      },
      "execution_count": 16,
      "outputs": [
        {
          "output_type": "stream",
          "name": "stdout",
          "text": [
            "0 35 70 "
          ]
        }
      ]
    },
    {
      "cell_type": "markdown",
      "source": [
        "2. Please write a program using generator to print the even numbers between 0 and n in comma separated form while n is input by console."
      ],
      "metadata": {
        "id": "8m7i5x-VeToX"
      }
    },
    {
      "cell_type": "code",
      "source": [
        "class Even:\n",
        "  def __init__(self,n):\n",
        "    self.n = n\n",
        "\n",
        "  def even_generator(self):\n",
        "    for i in range(0, self.n + 1):\n",
        "      if i % 2 == 0:\n",
        "        yield i\n",
        "\n",
        "\n",
        "\n",
        "n = 25\n",
        "\n",
        "obj = Even(n)\n",
        "generator = obj.even_generator()\n",
        "\n",
        "for num in generator:\n",
        "    print(num, end=' ')\n",
        "\n"
      ],
      "metadata": {
        "colab": {
          "base_uri": "https://localhost:8080/"
        },
        "id": "NyXUF895eBEN",
        "outputId": "bbbd767f-9a25-4425-cc99-5f372d789cbb"
      },
      "execution_count": 17,
      "outputs": [
        {
          "output_type": "stream",
          "name": "stdout",
          "text": [
            "0 2 4 6 8 10 12 14 16 18 20 22 24 "
          ]
        }
      ]
    },
    {
      "cell_type": "markdown",
      "source": [
        "3. The Fibonacci Sequence is computed based on the following formula:  \n",
        "f(n)=0 if n=0  \n",
        "f(n)=1 if n=1  \n",
        "f(n)=f(n-1)+f(n-2) if n>1  \n",
        "Please write a program using list comprehension to print the Fibonacci Sequence in comma separated form with a given n input by console.\n"
      ],
      "metadata": {
        "id": "LMXC-Yxtfm_h"
      }
    },
    {
      "cell_type": "code",
      "source": [
        "def fibonacci(terms):\n",
        "    if terms == 0:\n",
        "        return [0]\n",
        "    elif terms == 1:\n",
        "        return [0, 1]\n",
        "    else:\n",
        "        sequence = [0, 1]\n",
        "        [sequence.append(sequence[-1] + sequence[-2]) for _ in range(2, terms + 1)]\n",
        "        return sequence\n",
        "\n",
        "terms = 10\n",
        "fibonacci(terms)"
      ],
      "metadata": {
        "colab": {
          "base_uri": "https://localhost:8080/"
        },
        "id": "-dbq2oUBfswX",
        "outputId": "79d283ae-35e2-44f4-9581-5dd13af049a4"
      },
      "execution_count": 18,
      "outputs": [
        {
          "output_type": "execute_result",
          "data": {
            "text/plain": [
              "[0, 1, 1, 2, 3, 5, 8, 13, 21, 34, 55]"
            ]
          },
          "metadata": {},
          "execution_count": 18
        }
      ]
    },
    {
      "cell_type": "markdown",
      "source": [
        "4. Assuming that we have some email addresses in the \"username@companyname.com\" format, please write program to print the user name of a given email address. Both user names and company names are composed of letters only."
      ],
      "metadata": {
        "id": "VRSDjxVviGyx"
      }
    },
    {
      "cell_type": "code",
      "source": [
        "def to_get_name(email):\n",
        "  email = email.split('@')\n",
        "  return email[0]\n",
        "\n",
        "\n",
        "\n",
        "email = 'john@outlook.com'  \n",
        "to_get_name(email)"
      ],
      "metadata": {
        "colab": {
          "base_uri": "https://localhost:8080/",
          "height": 35
        },
        "id": "jaYpkoviiUE-",
        "outputId": "21255b47-2cd5-48d2-bba5-d7a0c0689092"
      },
      "execution_count": 19,
      "outputs": [
        {
          "output_type": "execute_result",
          "data": {
            "text/plain": [
              "'john'"
            ],
            "application/vnd.google.colaboratory.intrinsic+json": {
              "type": "string"
            }
          },
          "metadata": {},
          "execution_count": 19
        }
      ]
    },
    {
      "cell_type": "markdown",
      "source": [
        "5. Define a class named Shape and its subclass Square. The Square class has an init function which takes a length as argument. Both classes have a area function which can print the area of the shape where Shape's area is 0 by default."
      ],
      "metadata": {
        "id": "7LFBgUdaioHB"
      }
    },
    {
      "cell_type": "code",
      "source": [
        "class Shape:\n",
        "    def area(self):\n",
        "        return 0\n",
        "\n",
        "\n",
        "class Square(Shape):\n",
        "    def __init__(self, length):\n",
        "        self.length = length\n",
        "\n",
        "    def area(self):\n",
        "        return self.length ** 2\n",
        "\n",
        "\n",
        "shape = Shape()\n",
        "print(shape.area())  "
      ],
      "metadata": {
        "colab": {
          "base_uri": "https://localhost:8080/"
        },
        "id": "xY1rhDqjijrT",
        "outputId": "0a3bbadb-79c7-41a0-eaee-bb20ed15724a"
      },
      "execution_count": 20,
      "outputs": [
        {
          "output_type": "stream",
          "name": "stdout",
          "text": [
            "0\n"
          ]
        }
      ]
    },
    {
      "cell_type": "code",
      "source": [
        "square = Square(5)\n",
        "print(square.area())"
      ],
      "metadata": {
        "colab": {
          "base_uri": "https://localhost:8080/"
        },
        "id": "Mxp6-V81l3iK",
        "outputId": "ff7833e9-9a68-4fa4-b481-a0354a4d63c4"
      },
      "execution_count": 21,
      "outputs": [
        {
          "output_type": "stream",
          "name": "stdout",
          "text": [
            "25\n"
          ]
        }
      ]
    }
  ]
}