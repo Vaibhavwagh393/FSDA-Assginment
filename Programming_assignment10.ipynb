{
  "nbformat": 4,
  "nbformat_minor": 0,
  "metadata": {
    "colab": {
      "provenance": []
    },
    "kernelspec": {
      "name": "python3",
      "display_name": "Python 3"
    },
    "language_info": {
      "name": "python"
    }
  },
  "cells": [
    {
      "cell_type": "markdown",
      "source": [
        "##Assignment 10"
      ],
      "metadata": {
        "id": "mTFYdwWUSTJU"
      }
    },
    {
      "cell_type": "markdown",
      "source": [
        "1. Write a Python program to find sum of elements in list?"
      ],
      "metadata": {
        "id": "dG3ehZc-SdVC"
      }
    },
    {
      "cell_type": "code",
      "source": [
        "l = [ 1,2,3,4,5]\n",
        "sum = 0\n",
        "for i in range(len(l)):\n",
        "   sum = sum + l[i]\n",
        "print(sum)"
      ],
      "metadata": {
        "colab": {
          "base_uri": "https://localhost:8080/"
        },
        "id": "p4UQbM4JSafh",
        "outputId": "4d68fcde-ac92-4c52-8a54-32480893ace2"
      },
      "execution_count": null,
      "outputs": [
        {
          "output_type": "stream",
          "name": "stdout",
          "text": [
            "15\n"
          ]
        }
      ]
    },
    {
      "cell_type": "markdown",
      "source": [
        "2. Write a Python program to Multiply all numbers in the list?"
      ],
      "metadata": {
        "id": "35wzZu02Txfi"
      }
    },
    {
      "cell_type": "code",
      "source": [
        "l = [ 1,2,3,4,5]\n",
        "mul = 1\n",
        "for i in range(len(l)):\n",
        "   mul = mul * l[i]\n",
        "print(mul)"
      ],
      "metadata": {
        "colab": {
          "base_uri": "https://localhost:8080/"
        },
        "id": "x2OToL42T3eD",
        "outputId": "23757261-4825-4d65-f137-e522fd2e0fa2"
      },
      "execution_count": null,
      "outputs": [
        {
          "output_type": "stream",
          "name": "stdout",
          "text": [
            "120\n"
          ]
        }
      ]
    },
    {
      "cell_type": "markdown",
      "source": [
        "3. Write a Python program to find smallest number in a list?"
      ],
      "metadata": {
        "id": "rcteqFyuUVOL"
      }
    },
    {
      "cell_type": "code",
      "source": [
        "l = [ 5,6,8,55,15,20,-23]\n",
        "l.sort()\n",
        "print(f\"The smallest number in list is {l[0]}\")"
      ],
      "metadata": {
        "colab": {
          "base_uri": "https://localhost:8080/"
        },
        "id": "oksa1130S61T",
        "outputId": "dfdc2ee9-8928-4f91-a7f9-c8285ab47447"
      },
      "execution_count": null,
      "outputs": [
        {
          "output_type": "stream",
          "name": "stdout",
          "text": [
            "The smallest number in list is -23\n"
          ]
        }
      ]
    },
    {
      "cell_type": "markdown",
      "source": [
        "4. Write a Python program to find largest number in a list ?"
      ],
      "metadata": {
        "id": "_WR0v_kfX8kh"
      }
    },
    {
      "cell_type": "code",
      "source": [
        "l = [ 5,6,8,55,15,20,-23]\n",
        "l.sort(reverse=True)\n",
        "print(f\"The largest number in list is {l[0]}\")"
      ],
      "metadata": {
        "colab": {
          "base_uri": "https://localhost:8080/"
        },
        "id": "lAUC5-C6YGGQ",
        "outputId": "66c27673-06fe-4a6b-cf4e-d425ddba1d33"
      },
      "execution_count": null,
      "outputs": [
        {
          "output_type": "stream",
          "name": "stdout",
          "text": [
            "The largest number in list is 55\n"
          ]
        }
      ]
    },
    {
      "cell_type": "markdown",
      "source": [
        "5. Write a Python program to find second largest number in a list?"
      ],
      "metadata": {
        "id": "Z5m61dJgZamr"
      }
    },
    {
      "cell_type": "code",
      "source": [
        "l = [ 5,6,8,55,15,20,-23]\n",
        "l.sort(reverse=True)\n",
        "print(f\"The second largest number in list is {l[1]}\")"
      ],
      "metadata": {
        "colab": {
          "base_uri": "https://localhost:8080/"
        },
        "id": "QODlKpKKaiDP",
        "outputId": "4d29b42a-dbf0-444b-b1de-361b4ad22366"
      },
      "execution_count": null,
      "outputs": [
        {
          "output_type": "stream",
          "name": "stdout",
          "text": [
            "The second largest number in list is 20\n"
          ]
        }
      ]
    },
    {
      "cell_type": "markdown",
      "source": [
        "6. Write a Python program to find N largest elements from a list?"
      ],
      "metadata": {
        "id": "Q6I2pUczZbjv"
      }
    },
    {
      "cell_type": "code",
      "source": [
        "l = [ 5,6,8,4,101,55,81,31,88,45,66,98,85,45,23,55]\n",
        "n = int(input(\"find N largest elements from a list \"))\n",
        "l.sort(reverse = True)\n",
        "a = list()\n",
        "for i in range(n):\n",
        "  a.append(l[i])\n",
        "print(f\"{n} largest elements from a list are {a}\")"
      ],
      "metadata": {
        "colab": {
          "base_uri": "https://localhost:8080/"
        },
        "id": "SNg27WkwMyBa",
        "outputId": "6ff4e2b2-4881-4b06-f7b1-c22a19efbbb3"
      },
      "execution_count": null,
      "outputs": [
        {
          "output_type": "stream",
          "name": "stdout",
          "text": [
            "find N largest elements from a list 4\n",
            "4 largest elements from a list are [101, 98, 88, 85]\n"
          ]
        }
      ]
    },
    {
      "cell_type": "code",
      "source": [],
      "metadata": {
        "id": "t1FKkexMMhHa"
      },
      "execution_count": null,
      "outputs": []
    },
    {
      "cell_type": "markdown",
      "source": [
        "7. Write a Python program to print even numbers in a list?"
      ],
      "metadata": {
        "id": "hW4yJ7cNZcIL"
      }
    },
    {
      "cell_type": "code",
      "source": [
        "l = [ 5,6,8,4,101,55,81,31,88,45,66,98,85,45,23,55]\n",
        "e = list()\n",
        "for i in range(len(l)):\n",
        "  if l[i] % 2 == 0:\n",
        "    e.append(l[i])\n",
        "print(f\"Even Number are {e}\")"
      ],
      "metadata": {
        "colab": {
          "base_uri": "https://localhost:8080/"
        },
        "id": "Ff0IzWeca0JZ",
        "outputId": "6b30b3b3-1d6c-4417-ed1c-b674928d24a1"
      },
      "execution_count": null,
      "outputs": [
        {
          "output_type": "stream",
          "name": "stdout",
          "text": [
            "Even Number are [6, 8, 4, 88, 66, 98]\n"
          ]
        }
      ]
    },
    {
      "cell_type": "markdown",
      "source": [
        "8. Write a Python program to print odd numbers in a List?"
      ],
      "metadata": {
        "id": "LyZf0Mo4ZctT"
      }
    },
    {
      "cell_type": "code",
      "source": [
        "l = [ 5,6,8,4,55,81,31,88,45,66,98,45,23]\n",
        "o = list()\n",
        "for i in range(len(l)):\n",
        "  if l[i] % 2 != 0:\n",
        "    o.append(l[i])\n",
        "print(f\"Odd Number are {o}\")"
      ],
      "metadata": {
        "colab": {
          "base_uri": "https://localhost:8080/"
        },
        "id": "kyIiegjRcOOc",
        "outputId": "3486b9f2-4b2e-41d7-9b68-56c0baa07e18"
      },
      "execution_count": null,
      "outputs": [
        {
          "output_type": "stream",
          "name": "stdout",
          "text": [
            "Odd Number are [5, 55, 81, 31, 45, 45, 23]\n"
          ]
        }
      ]
    },
    {
      "cell_type": "markdown",
      "source": [
        "9. Write a Python program to Remove empty List from List?"
      ],
      "metadata": {
        "id": "jP3TmTxIZsDf"
      }
    },
    {
      "cell_type": "code",
      "source": [
        "l = [58, 64,[\"hello\",\"hi\"] ,[], 3, [], [], 59]\n",
        "print(\"Before list\",l)\n",
        "a=list()\n",
        "for i in l:\n",
        "  if i != []:\n",
        "    a.append(i)\n",
        "print(\"After removing empty list\",a)"
      ],
      "metadata": {
        "colab": {
          "base_uri": "https://localhost:8080/"
        },
        "id": "oDfxv0JClNhk",
        "outputId": "686712b7-216c-4531-e58b-c539408384ca"
      },
      "execution_count": null,
      "outputs": [
        {
          "output_type": "stream",
          "name": "stdout",
          "text": [
            "Before list [58, 64, ['hello', 'hi'], [], 3, [], [], 59]\n",
            "After removing empty list [58, 64, ['hello', 'hi'], 3, 59]\n"
          ]
        }
      ]
    },
    {
      "cell_type": "markdown",
      "source": [
        "10. Write a Python program to Cloning or Copying a list?"
      ],
      "metadata": {
        "id": "M8mYD6JgZrtI"
      }
    },
    {
      "cell_type": "code",
      "source": [
        "list1 = [ 1,2,3,5,4,5,8,8,5,4,5,4]\n",
        "new_list = list(list1)\n",
        "print(\"list is \" , list1 ,\"\\nclone'/copy list is\" ,new_list)\n",
        "\n",
        "\n",
        "\"\"\"\n",
        "#Another method \n",
        "list1 = [ 1,2,3,5,4,5,8,8,5,4,5,4]\n",
        "new_list = list1.copy()\n",
        "print(\"list is \" , list1 ,\"\\nclone'/copy list is\" ,new_list)\n",
        "\n",
        "\"\"\""
      ],
      "metadata": {
        "colab": {
          "base_uri": "https://localhost:8080/"
        },
        "id": "b5ASVSHrK81R",
        "outputId": "6fa1efa0-a44c-460c-dab0-7eb44d105728"
      },
      "execution_count": null,
      "outputs": [
        {
          "output_type": "stream",
          "name": "stdout",
          "text": [
            "list is  [1, 2, 3, 5, 4, 5, 8, 8, 5, 4, 5, 4] \n",
            "clone'/copy list is [1, 2, 3, 5, 4, 5, 8, 8, 5, 4, 5, 4]\n"
          ]
        }
      ]
    },
    {
      "cell_type": "markdown",
      "source": [
        "11. Write a Python program to Count occurrences of an element in a list?"
      ],
      "metadata": {
        "id": "SDoTg4E5ZxpF"
      }
    },
    {
      "cell_type": "code",
      "source": [
        "l = [ 1,1,2,5,6,55,5,8,11,56,85,995,854,5,65,845,5]\n",
        "print(\"list is \\t\",l)\n",
        "n = int(input(\"Enter the number to Count occurrences of an element \"))\n",
        "count = 0\n",
        "for i in range(len(l)):\n",
        "  if l[i] == n:\n",
        "    count = count + 1\n",
        "print (f\"{n} occured {count} times in list.\")\n",
        "\n"
      ],
      "metadata": {
        "colab": {
          "base_uri": "https://localhost:8080/"
        },
        "id": "f-V7-1xNDGMt",
        "outputId": "86fc0675-685f-4440-9227-2355741509ce"
      },
      "execution_count": null,
      "outputs": [
        {
          "output_type": "stream",
          "name": "stdout",
          "text": [
            "list is \t [1, 1, 2, 5, 6, 55, 5, 8, 11, 56, 85, 995, 854, 5, 65, 845, 5]\n",
            "Enter the number to Count occurrences of an element 5\n",
            "5 occured 4 times in list.\n"
          ]
        }
      ]
    }
  ]
}
