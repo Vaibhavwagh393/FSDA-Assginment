{
  "nbformat": 4,
  "nbformat_minor": 0,
  "metadata": {
    "colab": {
      "provenance": []
    },
    "kernelspec": {
      "name": "python3",
      "display_name": "Python 3"
    },
    "language_info": {
      "name": "python"
    }
  },
  "cells": [
    {
      "cell_type": "markdown",
      "source": [
        "1. Write a Python Program to find sum of array?"
      ],
      "metadata": {
        "id": "ue1OiPqYZEMJ"
      }
    },
    {
      "cell_type": "code",
      "source": [
        "import array as arr\n",
        "a = arr.array('i',[1,2,3,4,5])\n",
        "sum = 0\n",
        "for i in a:\n",
        "  sum = sum +i\n",
        "print(f\"sum of array is {sum}\")"
      ],
      "metadata": {
        "colab": {
          "base_uri": "https://localhost:8080/"
        },
        "id": "1bEo2txWZsXJ",
        "outputId": "ed76df95-97a6-4789-8851-cd60dcaa83ca"
      },
      "execution_count": 1,
      "outputs": [
        {
          "output_type": "stream",
          "name": "stdout",
          "text": [
            "sum of array is 15\n"
          ]
        }
      ]
    },
    {
      "cell_type": "markdown",
      "source": [
        "2. Write a Python Program to find largest element in an array?  "
      ],
      "metadata": {
        "id": "8cQvkjvHZETY"
      }
    },
    {
      "cell_type": "code",
      "source": [
        "import array as arr\n",
        "a = arr.array('i',[1,2,121,55,85,3,100,300,4,5])\n",
        "temp = 0\n",
        "for i in a:\n",
        "  if i > temp :\n",
        "    temp = i\n",
        "print(temp)"
      ],
      "metadata": {
        "colab": {
          "base_uri": "https://localhost:8080/"
        },
        "id": "wwPE9WcfwYjs",
        "outputId": "565b24e5-c9e5-4425-ff85-a05788274203"
      },
      "execution_count": 4,
      "outputs": [
        {
          "output_type": "stream",
          "name": "stdout",
          "text": [
            "300\n"
          ]
        }
      ]
    },
    {
      "cell_type": "markdown",
      "source": [
        "3.\tWrite a Python Program for array rotation?"
      ],
      "metadata": {
        "id": "F27GAVdQZEYq"
      }
    },
    {
      "cell_type": "code",
      "source": [
        "import array as arr\n",
        "a = arr.array('i',[1,2,121,55,85,3,100,300,4,5])\n",
        "a[::-1]"
      ],
      "metadata": {
        "colab": {
          "base_uri": "https://localhost:8080/"
        },
        "id": "Q802jhjAxUes",
        "outputId": "621276e7-2303-43a2-a51d-6bc6207a9139"
      },
      "execution_count": 5,
      "outputs": [
        {
          "output_type": "execute_result",
          "data": {
            "text/plain": [
              "array('i', [5, 4, 300, 100, 3, 85, 55, 121, 2, 1])"
            ]
          },
          "metadata": {},
          "execution_count": 5
        }
      ]
    },
    {
      "cell_type": "markdown",
      "source": [
        "4.\tWrite a Python Program to Split the array and add the first part to the end?"
      ],
      "metadata": {
        "id": "C19O8WnnZEcG"
      }
    },
    {
      "cell_type": "code",
      "source": [
        "import array as arr\n",
        "a = arr.array('i',[1,2,3,4,5,6,7,8,9,10])\n",
        "b = a[0:3]\n",
        "for i in b:\n",
        "  a.remove(i)\n",
        "a.extend(b)\n",
        "\n",
        "print(a)"
      ],
      "metadata": {
        "colab": {
          "base_uri": "https://localhost:8080/"
        },
        "id": "yA1mcXZbyJck",
        "outputId": "6df34f1d-316f-4e02-ee96-dda6d180f798"
      },
      "execution_count": 36,
      "outputs": [
        {
          "output_type": "stream",
          "name": "stdout",
          "text": [
            "array('i', [4, 5, 6, 7, 8, 9, 10, 1, 2, 3])\n"
          ]
        }
      ]
    },
    {
      "cell_type": "code",
      "source": [
        "def array_fun(array,split_index):\n",
        "  ar = array\n",
        "  b = ar[: split_index  ]\n",
        "  for i in b:\n",
        "    ar.remove(i)\n",
        "  ar.extend(b)\n",
        "  return ar"
      ],
      "metadata": {
        "id": "X8Q7hAmWzQCw"
      },
      "execution_count": 46,
      "outputs": []
    },
    {
      "cell_type": "code",
      "source": [
        "a = arr.array('i',[1,2,3,4,5,6,7,8,9,10])\n",
        "array_fun(a,3)"
      ],
      "metadata": {
        "colab": {
          "base_uri": "https://localhost:8080/"
        },
        "id": "u52qyV77y0ph",
        "outputId": "bded29b8-9fcf-401c-965d-9a3b835ffc13"
      },
      "execution_count": 47,
      "outputs": [
        {
          "output_type": "execute_result",
          "data": {
            "text/plain": [
              "array('i', [4, 5, 6, 7, 8, 9, 10, 1, 2, 3])"
            ]
          },
          "metadata": {},
          "execution_count": 47
        }
      ]
    },
    {
      "cell_type": "markdown",
      "source": [
        "5.\tWrite a Python Program to check if given array is Monotonic?"
      ],
      "metadata": {
        "id": "peS6e2xCZEiO"
      }
    },
    {
      "cell_type": "code",
      "source": [
        "# monotonic means increasing or decreasing array \n",
        "# e.g [1,2,3,4]  [10,9,8,7]  [15,16,17,18]\n",
        "\n",
        "def check_monotonic(array):\n",
        "  inc = dec = True\n",
        "  for i in range(len(array)-1) :            # to check for increasing\n",
        "    if array[i] > array[i+1]:\n",
        "      inc = False\n",
        "  \n",
        "  for i in range(len(array)-1) :           # to check for descreasing\n",
        "    if array[i] < array[i+1]:\n",
        "      dec = False\n",
        "\n",
        "  return inc or dec\n"
      ],
      "metadata": {
        "id": "MmAo_A322KeK"
      },
      "execution_count": 48,
      "outputs": []
    },
    {
      "cell_type": "code",
      "source": [
        "a = arr.array('i',[1,2,3,4,5,6])\n",
        "\n",
        "print(check_monotonic(a))"
      ],
      "metadata": {
        "colab": {
          "base_uri": "https://localhost:8080/"
        },
        "id": "mju1anVF3DPL",
        "outputId": "15b16ec8-6006-42e0-e613-e9164e7008ed"
      },
      "execution_count": 49,
      "outputs": [
        {
          "output_type": "stream",
          "name": "stdout",
          "text": [
            "True\n"
          ]
        }
      ]
    },
    {
      "cell_type": "code",
      "source": [
        "a = arr.array('i',[1,20,15,4,5,6])\n",
        "print(check_monotonic(a))"
      ],
      "metadata": {
        "colab": {
          "base_uri": "https://localhost:8080/"
        },
        "id": "S3bCioIt3dKX",
        "outputId": "0f4f68d5-bc4b-42bb-cbb3-5fdf29c5cdd1"
      },
      "execution_count": 50,
      "outputs": [
        {
          "output_type": "stream",
          "name": "stdout",
          "text": [
            "False\n"
          ]
        }
      ]
    },
    {
      "cell_type": "code",
      "source": [
        "a = arr.array('i',[1,2,3,20,19,18])\n",
        "print(check_monotonic(a))"
      ],
      "metadata": {
        "colab": {
          "base_uri": "https://localhost:8080/"
        },
        "id": "WU7Yiveu3QSg",
        "outputId": "2f4a7d3e-b11a-4228-da07-5a616b49ce83"
      },
      "execution_count": 51,
      "outputs": [
        {
          "output_type": "stream",
          "name": "stdout",
          "text": [
            "False\n"
          ]
        }
      ]
    },
    {
      "cell_type": "code",
      "source": [],
      "metadata": {
        "id": "G8RLNyP_3otd"
      },
      "execution_count": null,
      "outputs": []
    }
  ]
}