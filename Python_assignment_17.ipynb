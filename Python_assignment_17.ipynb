{
  "nbformat": 4,
  "nbformat_minor": 0,
  "metadata": {
    "colab": {
      "provenance": []
    },
    "kernelspec": {
      "name": "python3",
      "display_name": "Python 3"
    },
    "language_info": {
      "name": "python"
    }
  },
  "cells": [
    {
      "cell_type": "markdown",
      "source": [
        "**1. Assign the value 7 to the variable guess_me. Then, write the conditional tests (if, else, and elif) to print the string 'too low' if guess_me is less than 7, 'too high' if greater than 7, and 'just right' if equal to 7.**\n"
      ],
      "metadata": {
        "id": "5Pdr2SAXQCcv"
      }
    },
    {
      "cell_type": "code",
      "source": [
        "guess_me = 7\n",
        "\n",
        "if guess_me < 7:\n",
        "    print('too low')\n",
        "elif guess_me > 7:\n",
        "    print('too high')\n",
        "else:\n",
        "    print('just right')\n"
      ],
      "metadata": {
        "colab": {
          "base_uri": "https://localhost:8080/"
        },
        "id": "H-TxnIsfRcec",
        "outputId": "0c2cb5e8-8a35-46dc-9b89-e575fd935316"
      },
      "execution_count": 27,
      "outputs": [
        {
          "output_type": "stream",
          "name": "stdout",
          "text": [
            "just right\n"
          ]
        }
      ]
    },
    {
      "cell_type": "markdown",
      "source": [
        "**2. Assign the value 7 to the variable guess_me and the value 1 to the variable start. Write a while loop that compares start with guess_me. Print too low if start is less than guess me. If start equals guess_me, print 'found it!' and exit the loop. If start is greater than guess_me, print 'oops' and exit the loop. Increment start at the end of the loop.**\n"
      ],
      "metadata": {
        "id": "oSvrzWahQCfT"
      }
    },
    {
      "cell_type": "code",
      "source": [
        "guess_me = 7\n",
        "start = 1\n",
        "\n",
        "while start <= guess_me:\n",
        "    if start < guess_me:\n",
        "        print(start,'too low')\n",
        "    elif start == guess_me:\n",
        "        print(start,'found it!')\n",
        "        break\n",
        "    else:\n",
        "        print('oops')\n",
        "        break\n",
        "    start += 1"
      ],
      "metadata": {
        "colab": {
          "base_uri": "https://localhost:8080/"
        },
        "id": "NFJpS8ldRu2d",
        "outputId": "5b3693cd-2b38-49cf-fad8-673efb62dd0c"
      },
      "execution_count": 28,
      "outputs": [
        {
          "output_type": "stream",
          "name": "stdout",
          "text": [
            "1 too low\n",
            "2 too low\n",
            "3 too low\n",
            "4 too low\n",
            "5 too low\n",
            "6 too low\n",
            "7 found it!\n"
          ]
        }
      ]
    },
    {
      "cell_type": "markdown",
      "source": [
        "**3. Print the following values of the list [3, 2, 1, 0] using a for loop.**\n"
      ],
      "metadata": {
        "id": "eUrXb_LhQCiY"
      }
    },
    {
      "cell_type": "code",
      "source": [
        "for num in [3, 2, 1, 0]:\n",
        "    print(num)"
      ],
      "metadata": {
        "colab": {
          "base_uri": "https://localhost:8080/"
        },
        "id": "s_WEFSRNSDw0",
        "outputId": "a194f4e0-f5f3-4f26-e250-a552e84a8d35"
      },
      "execution_count": 29,
      "outputs": [
        {
          "output_type": "stream",
          "name": "stdout",
          "text": [
            "3\n",
            "2\n",
            "1\n",
            "0\n"
          ]
        }
      ]
    },
    {
      "cell_type": "markdown",
      "source": [
        "**4. Use a list comprehension to make a list of the even numbers in range(10)**\n"
      ],
      "metadata": {
        "id": "H0SZQQcdQCkl"
      }
    },
    {
      "cell_type": "code",
      "source": [
        "even_num = [ i for i in range(10) if i%2 == 0]\n",
        "print(even_num)"
      ],
      "metadata": {
        "colab": {
          "base_uri": "https://localhost:8080/"
        },
        "id": "Bl4c_X0RSGD8",
        "outputId": "0b0ed270-9484-46ab-d773-44abc941b4f9"
      },
      "execution_count": 30,
      "outputs": [
        {
          "output_type": "stream",
          "name": "stdout",
          "text": [
            "[0, 2, 4, 6, 8]\n"
          ]
        }
      ]
    },
    {
      "cell_type": "markdown",
      "source": [
        "**5. Use a dictionary comprehension to create the dictionary squares. Use range(10) to return the keys, and use the square of each key as its value.**\n"
      ],
      "metadata": {
        "id": "v8hsFW4hQCnQ"
      }
    },
    {
      "cell_type": "code",
      "source": [
        "sq = { i:i**2  for i in range(10)}\n",
        "print(sq)"
      ],
      "metadata": {
        "colab": {
          "base_uri": "https://localhost:8080/"
        },
        "id": "4kCbylQBSU_Q",
        "outputId": "fe8d56cc-9f52-4aba-a842-d07090c1758f"
      },
      "execution_count": 31,
      "outputs": [
        {
          "output_type": "stream",
          "name": "stdout",
          "text": [
            "{0: 0, 1: 1, 2: 4, 3: 9, 4: 16, 5: 25, 6: 36, 7: 49, 8: 64, 9: 81}\n"
          ]
        }
      ]
    },
    {
      "cell_type": "markdown",
      "source": [
        "**6. Construct the set odd from the odd numbers in the range using a set comprehension (10).**\n"
      ],
      "metadata": {
        "id": "55iipPlHQCp-"
      }
    },
    {
      "cell_type": "code",
      "source": [
        "odd_num = { i for i in range(10) if i%2 != 0}\n",
        "print(odd_num)"
      ],
      "metadata": {
        "colab": {
          "base_uri": "https://localhost:8080/"
        },
        "id": "iVnDeOIXSmGF",
        "outputId": "3bf1e268-e576-4218-a26c-635e8f22d211"
      },
      "execution_count": 32,
      "outputs": [
        {
          "output_type": "stream",
          "name": "stdout",
          "text": [
            "{1, 3, 5, 7, 9}\n"
          ]
        }
      ]
    },
    {
      "cell_type": "markdown",
      "source": [
        "**7. Use a generator comprehension to return the string 'Got ' and a number for the numbers in range(10). Iterate through this by using a for loop.**\n"
      ],
      "metadata": {
        "id": "ZaLgiAkiQCsi"
      }
    },
    {
      "cell_type": "code",
      "source": [
        "generator = ('Got ' + str(num) for num in range(10))\n",
        "for item in generator:\n",
        "    print(item)"
      ],
      "metadata": {
        "colab": {
          "base_uri": "https://localhost:8080/"
        },
        "id": "IQDJ9NWXTjgW",
        "outputId": "61c75c4b-31fe-4db6-a984-9c00e364b362"
      },
      "execution_count": 33,
      "outputs": [
        {
          "output_type": "stream",
          "name": "stdout",
          "text": [
            "Got 0\n",
            "Got 1\n",
            "Got 2\n",
            "Got 3\n",
            "Got 4\n",
            "Got 5\n",
            "Got 6\n",
            "Got 7\n",
            "Got 8\n",
            "Got 9\n"
          ]
        }
      ]
    },
    {
      "cell_type": "markdown",
      "source": [
        "**8. Define a function called good that returns the list ['Harry', 'Ron', 'Hermione'].**\n"
      ],
      "metadata": {
        "id": "P324OR-4QCu3"
      }
    },
    {
      "cell_type": "code",
      "source": [
        "def good():\n",
        "    return ['Harry', 'Ron', 'Hermione']\n",
        "\n",
        "good()"
      ],
      "metadata": {
        "colab": {
          "base_uri": "https://localhost:8080/"
        },
        "id": "6G8ZrypdTzou",
        "outputId": "51df73ee-2782-497f-c7ae-a2055474eb24"
      },
      "execution_count": 34,
      "outputs": [
        {
          "output_type": "execute_result",
          "data": {
            "text/plain": [
              "['Harry', 'Ron', 'Hermione']"
            ]
          },
          "metadata": {},
          "execution_count": 34
        }
      ]
    },
    {
      "cell_type": "markdown",
      "source": [
        "**9. Define a generator function called get_odds that returns the odd numbers from range(10). Use a for loop to find and print the third value returned.**\n"
      ],
      "metadata": {
        "id": "pt2Rg9EsQCxE"
      }
    },
    {
      "cell_type": "code",
      "source": [
        "def get_odds():\n",
        "    odds = [num for num in range(10) if num % 2 != 0]\n",
        "    for index, num in enumerate(odds):\n",
        "        if index == 2:\n",
        "            print(num)\n",
        "\n",
        "get_odds()"
      ],
      "metadata": {
        "colab": {
          "base_uri": "https://localhost:8080/"
        },
        "id": "H181qIY7UKIp",
        "outputId": "86cae0d3-41fc-4b31-cd25-4fc09c7601e9"
      },
      "execution_count": 35,
      "outputs": [
        {
          "output_type": "stream",
          "name": "stdout",
          "text": [
            "5\n"
          ]
        }
      ]
    },
    {
      "cell_type": "markdown",
      "source": [
        "**10. Define an exception called OopsException. Raise this exception to see what happens. Then write the code to catch this exception and print 'Caught an oops'.**\n"
      ],
      "metadata": {
        "id": "xLAR3mOAQC0i"
      }
    },
    {
      "cell_type": "code",
      "source": [
        "class OopsException(Exception):\n",
        "    pass\n",
        "\n",
        "try:\n",
        "    raise OopsException\n",
        "except OopsException:\n",
        "    print('Caught an oops')"
      ],
      "metadata": {
        "colab": {
          "base_uri": "https://localhost:8080/"
        },
        "id": "mHtFZj0QVMN_",
        "outputId": "763814a9-d117-4af8-ea18-3c50c58292a8"
      },
      "execution_count": 36,
      "outputs": [
        {
          "output_type": "stream",
          "name": "stdout",
          "text": [
            "Caught an oops\n"
          ]
        }
      ]
    },
    {
      "cell_type": "markdown",
      "source": [
        "**11. Use zip() to make a dictionary called movies that pairs these lists: titles = ['Creature of Habit', 'Crewel Fate'] and plots = ['A nun turns into a monster', 'A haunted yarn shop'].\n",
        "with python code**"
      ],
      "metadata": {
        "id": "IXtyOIiLRR4w"
      }
    },
    {
      "cell_type": "code",
      "source": [
        "titles = ['Creature of Habit', 'Crewel Fate']\n",
        "plots = ['A nun turns into a monster', 'A haunted yarn shop']\n",
        "\n",
        "movies = dict(zip(titles, plots))\n",
        "print(movies)\n",
        "\n"
      ],
      "metadata": {
        "colab": {
          "base_uri": "https://localhost:8080/"
        },
        "id": "4CO00Da-UzAo",
        "outputId": "11734982-a248-430d-8942-ebc13a1555d1"
      },
      "execution_count": 37,
      "outputs": [
        {
          "output_type": "stream",
          "name": "stdout",
          "text": [
            "{'Creature of Habit': 'A nun turns into a monster', 'Crewel Fate': 'A haunted yarn shop'}\n"
          ]
        }
      ]
    },
    {
      "cell_type": "code",
      "source": [],
      "metadata": {
        "id": "l0nZt_IkVDTA"
      },
      "execution_count": 37,
      "outputs": []
    }
  ]
}