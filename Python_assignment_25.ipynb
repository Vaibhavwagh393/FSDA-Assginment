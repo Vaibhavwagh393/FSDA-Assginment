{
  "nbformat": 4,
  "nbformat_minor": 0,
  "metadata": {
    "colab": {
      "provenance": []
    },
    "kernelspec": {
      "name": "python3",
      "display_name": "Python 3"
    },
    "language_info": {
      "name": "python"
    }
  },
  "cells": [
    {
      "cell_type": "markdown",
      "source": [
        "**1) What is the difference between enclosing a list comprehension in square brackets and parentheses?**\n",
        "--> Enclosing a list comprehension in square brackets [] creates a list object, while enclosing it in parentheses () creates a generator object."
      ],
      "metadata": {
        "id": "vatLfHBwPexU"
      }
    },
    {
      "cell_type": "code",
      "source": [
        "# List comprehension\n",
        "list_comp = [x for x in range(5)]  # [0, 1, 2, 3, 4]\n",
        "\n",
        "# Generator expression\n",
        "gen_exp = (x for x in range(5))  # <generator object <genexpr> at 0x000001>\n",
        "\n",
        "print(list_comp,type(list_comp))\n",
        "print(gen_exp,type(gen_exp))\n"
      ],
      "metadata": {
        "colab": {
          "base_uri": "https://localhost:8080/"
        },
        "id": "pj-L6k49RkdZ",
        "outputId": "5aa8ebb9-0029-4b4c-a06c-726a58829033"
      },
      "execution_count": 1,
      "outputs": [
        {
          "output_type": "stream",
          "name": "stdout",
          "text": [
            "[0, 1, 2, 3, 4] <class 'list'>\n",
            "<generator object <genexpr> at 0x7ff61f301d20> <class 'generator'>\n"
          ]
        }
      ]
    },
    {
      "cell_type": "markdown",
      "source": [
        "**2) What is the relationship between generators and iterators?**\n",
        "-->  An iterator is an object which contains a countable number of values and it is used to iterate over iterable objects like list, tuples, sets, etc. Iterators are implemented using a class. It follows lazy evaluation where the evaluation of the expression will be on hold and stored in the memory until the item is called specifically which helps us to avoid repeated evaluation. As lazy evaluation is implemented, it requires only 1 memory location to process the value and when we are using a large dataset then, wastage of RAM space will be reduced.\n",
        "Similarly Generators are an another way of creating iterators in a simple way where it uses the keyword yield statement instead of return statement in a defined function.Generators are implemented using a function. Just as iterators, generators also follow lazy evaluation. Here, the yield function returns the data without affecting or exiting the function.\n",
        "\n",
        "\n"
      ],
      "metadata": {
        "id": "iPpefZhUPe0t"
      }
    },
    {
      "cell_type": "markdown",
      "source": [
        "**3) What are the signs that a function is a generator function?**\n",
        "--> A function is considered a generator function if it contains the yield statement. The presence of yield distinguishes it from regular functions."
      ],
      "metadata": {
        "id": "dhCMCcXVPe3O"
      }
    },
    {
      "cell_type": "markdown",
      "source": [
        "**4) What is the purpose of a yield statement?**\n",
        "--> The yield statement is used in generator functions to define the points at which the generator pauses its execution and yields a value to the caller. It allows the generator to produce a sequence of values lazily, one at a time, without needing to store all the values in memory at once.\n"
      ],
      "metadata": {
        "id": "8YWCBgVxPe5Q"
      }
    },
    {
      "cell_type": "code",
      "source": [
        "def generator_function():\n",
        "    yield 1\n",
        "    yield 2\n",
        "    yield 3\n",
        "\n",
        "gen = generator_function()\n",
        "print(next(gen))\n",
        "print(next(gen))\n",
        "print(next(gen))\n"
      ],
      "metadata": {
        "colab": {
          "base_uri": "https://localhost:8080/"
        },
        "id": "ETkSYMySSMYj",
        "outputId": "d5718e32-35e7-41c6-8923-3769347bbbce"
      },
      "execution_count": 2,
      "outputs": [
        {
          "output_type": "stream",
          "name": "stdout",
          "text": [
            "1\n",
            "2\n",
            "3\n"
          ]
        }
      ]
    },
    {
      "cell_type": "markdown",
      "source": [
        "**5) What is the relationship between map calls and list comprehensions? Make a comparison and contrast between the two.**\n",
        "-->  List comprehensions are concise expressions enclosed in square brackets that allow you to generate a new list based on an iterable or multiple iterables, with an optional filtering condition.\n",
        "Map calls, on the other hand, use the map() function to apply a specified function to each element of one or more iterables and return an iterator of the results.While both approaches achieve similar results, list comprehensions offer more expressive power and readability due to their concise syntax and ability to include conditional statements."
      ],
      "metadata": {
        "id": "E3JUDssLPe7P"
      }
    }
  ]
}