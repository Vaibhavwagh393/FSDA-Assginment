{
  "nbformat": 4,
  "nbformat_minor": 0,
  "metadata": {
    "colab": {
      "provenance": []
    },
    "kernelspec": {
      "name": "python3",
      "display_name": "Python 3"
    },
    "language_info": {
      "name": "python"
    }
  },
  "cells": [
    {
      "cell_type": "markdown",
      "source": [
        "**1. To what does a relative path refer?**\n",
        "--> A relative path refers to the location of a file or directory relative to the current working directory.\n",
        "\n"
      ],
      "metadata": {
        "id": "V5OUPQs3Ox10"
      }
    },
    {
      "cell_type": "markdown",
      "source": [
        "**2. What does an absolute path start with your operating system?**\n",
        "-- > An absolute path starts with the root directory or drive letter on the operating system. (C:/)"
      ],
      "metadata": {
        "id": "UlodGPNqOzTB"
      }
    },
    {
      "cell_type": "markdown",
      "source": [
        "**3. What do the functions os.getcwd() and os.chdir() do?**\n",
        "-->\n",
        "*  os.getcwd() returns the current working directory\n",
        "*  os.chdir(path) changes the current working directory to the specified path.\n"
      ],
      "metadata": {
        "id": "2crc7Bh2OzXR"
      }
    },
    {
      "cell_type": "markdown",
      "source": [
        "**4. What are the . and .. folders?**\n",
        "-->\n",
        "   *   . represents the current directory.\n",
        "   *  .. represents the parent directory"
      ],
      "metadata": {
        "id": "I-bPZr7SOzZW"
      }
    },
    {
      "cell_type": "markdown",
      "source": [
        "**5. In C:\\bacon\\eggs\\spam.txt, which part is the dir name, and which part is the base name?**\n",
        " -->\n",
        " *  C:\\bacon\\eggs is the directory path\n",
        " *  spam.txt is the the name of the file\n"
      ],
      "metadata": {
        "id": "4CWd7g3lOzbV"
      }
    },
    {
      "cell_type": "markdown",
      "source": [
        "**6. What are the three “mode” arguments that can be passed to the open() function?**\n",
        "-->\n",
        " *   'r' - read mode (for reading ,default mode).\n",
        " *   'w' - write mode (for creating or overwriting a file).\n",
        " *   'a' - append mode (for appending data to an existing file)\n"
      ],
      "metadata": {
        "id": "Mcl6ytgcOx9Z"
      }
    },
    {
      "cell_type": "markdown",
      "source": [
        "**7. What happens if an existing file is opened in write mode?**\n",
        "-->\n",
        "   If an existing file is opened in write mode ('w'), the file's contents will be cleared upon opening. Any existing data in the file will be removed, and the file will be ready for writing new data.\n"
      ],
      "metadata": {
        "id": "q3XoOUhfOyAJ"
      }
    },
    {
      "cell_type": "markdown",
      "source": [
        "**8. How do you tell the difference between read() and readlines()?**\n",
        "\n",
        "*   read() - reads the entire contents of a file as a single string.\n",
        "*   readlines() - reads the entire contents of a file and returns a list of strings, where each line is an element in the list.\n",
        "\n"
      ],
      "metadata": {
        "id": "62zz3_CzOyG-"
      }
    },
    {
      "cell_type": "markdown",
      "source": [
        "**9. What data structure does a shelf value resemble?**\n",
        "-- > A shelf value in Python resembles a dictionary.It allows you to store and retrieve Python objects by using keys, similar to a dictionary."
      ],
      "metadata": {
        "id": "9y5DoJcPQFk9"
      }
    }
  ]
}