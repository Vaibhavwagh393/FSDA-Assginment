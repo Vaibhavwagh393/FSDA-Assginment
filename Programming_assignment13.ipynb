{
  "nbformat": 4,
  "nbformat_minor": 0,
  "metadata": {
    "colab": {
      "provenance": []
    },
    "kernelspec": {
      "name": "python3",
      "display_name": "Python 3"
    },
    "language_info": {
      "name": "python"
    }
  },
  "cells": [
    {
      "cell_type": "markdown",
      "source": [
        "1. Write a program that calculates and prints the value according to the given formula:\n",
        "\n",
        "Q = Square root of [(2 * C * D)/H]\n",
        "\n",
        "Following are the fixed values of C and H:\n",
        "\n",
        "C is 50. H is 30.\n",
        "\n",
        "D is the variable whose values should be input to your program in a comma-separated sequence.\n",
        "\n",
        "Example\n",
        "\n",
        "Let us assume the following comma separated input sequence is given to the program:\n",
        "\n",
        "100,150,180\n",
        "\n",
        "The output of the program should be:\n",
        "\n",
        "18,22,24"
      ],
      "metadata": {
        "id": "cn23168klicJ"
      }
    },
    {
      "cell_type": "code",
      "source": [
        "import math\n",
        "C = 50\n",
        "H = 30\n",
        "result = []\n",
        "input_seq = '100,150,180'\n",
        "seq = [int(i) for i in input_seq.split(',') ]\n",
        "for D in seq :\n",
        "  Q = int(math.sqrt((2 * C * D) / H))\n",
        "  result.append(Q)\n",
        "\n",
        "','.join(str(x) for x in result)"
      ],
      "metadata": {
        "colab": {
          "base_uri": "https://localhost:8080/",
          "height": 35
        },
        "id": "0DY0pK-clqNv",
        "outputId": "89b0ee54-1596-42ca-8655-cb0a421ea743"
      },
      "execution_count": 90,
      "outputs": [
        {
          "output_type": "execute_result",
          "data": {
            "text/plain": [
              "'18,22,24'"
            ],
            "application/vnd.google.colaboratory.intrinsic+json": {
              "type": "string"
            }
          },
          "metadata": {},
          "execution_count": 90
        }
      ]
    },
    {
      "cell_type": "markdown",
      "source": [
        "2. Write a program which takes 2 digits, X,Y as input and generates a 2-dimensional array. The element value in the i-th row and j-th column of the array should be i*j.\n",
        "\n",
        "Note: i=0,1.., X-1; j=0,1,¡¬Y-1.\n",
        "\n",
        "Example\n",
        "\n",
        "Suppose the following inputs are given to the program:\n",
        "\n",
        "3,5\n",
        "\n",
        "Then, the output of the program should be:\n",
        "\n",
        "[[0, 0, 0, 0, 0], [0, 1, 2, 3, 4], [0, 2, 4, 6, 8]] "
      ],
      "metadata": {
        "id": "iezKnsf9ww45"
      }
    },
    {
      "cell_type": "code",
      "source": [
        "output = [[i*j for j in range(n)] for i in range(m)]\n",
        "output"
      ],
      "metadata": {
        "colab": {
          "base_uri": "https://localhost:8080/"
        },
        "id": "MUR4tSu4xCw1",
        "outputId": "31d0648a-3fef-4700-b4b3-018c2e91a4a7"
      },
      "execution_count": 91,
      "outputs": [
        {
          "output_type": "execute_result",
          "data": {
            "text/plain": [
              "[[0, 0, 0, 0, 0], [0, 1, 2, 3, 4], [0, 2, 4, 6, 8]]"
            ]
          },
          "metadata": {},
          "execution_count": 91
        }
      ]
    },
    {
      "cell_type": "code",
      "source": [
        "input_values = input(\"Enter the input values: \")\n",
        "m, n = input_values.split(',')\n",
        "m = int(m)\n",
        "n = int(n)\n",
        "\n",
        "#output = [[0 for j in range(n)] for i in range(m)]\n",
        "\n",
        "for i in range(m):\n",
        "    for j in range(n):\n",
        "        output[i][j] = i * j\n",
        "\n",
        "print(output)\n"
      ],
      "metadata": {
        "colab": {
          "base_uri": "https://localhost:8080/"
        },
        "id": "gRNsKWZh0ORA",
        "outputId": "2ec573c2-2af0-43eb-cabb-4ce366f55f38"
      },
      "execution_count": 93,
      "outputs": [
        {
          "output_type": "stream",
          "name": "stdout",
          "text": [
            "Enter the input values: 3,5\n",
            "[[0, 0, 0, 0, 0], [0, 1, 2, 3, 4], [0, 2, 4, 6, 8]]\n"
          ]
        }
      ]
    },
    {
      "cell_type": "markdown",
      "source": [
        "3. Write a program that accepts a comma separated sequence of words as input and prints the words in a comma-separated sequence after sorting them alphabetically.\n",
        "\n",
        "Suppose the following input is supplied to the program:\n",
        "\n",
        "without,hello,bag,world\n",
        "\n",
        "Then, the output should be:\n",
        "\n",
        "bag,hello,without,world\n"
      ],
      "metadata": {
        "id": "RH-CqOudtRXQ"
      }
    },
    {
      "cell_type": "code",
      "source": [
        "sentence = 'without,hello,bag,world'\n",
        "sen = sentence.split(',')\n",
        "sen_sort = sorted(sen)\n",
        "','.join(str(x) for x in sen_sort)"
      ],
      "metadata": {
        "colab": {
          "base_uri": "https://localhost:8080/",
          "height": 35
        },
        "id": "9-N4pyTItX5x",
        "outputId": "20487c6f-32cd-43c0-9730-77fe4f18536c"
      },
      "execution_count": 98,
      "outputs": [
        {
          "output_type": "execute_result",
          "data": {
            "text/plain": [
              "'bag,hello,without,world'"
            ],
            "application/vnd.google.colaboratory.intrinsic+json": {
              "type": "string"
            }
          },
          "metadata": {},
          "execution_count": 98
        }
      ]
    },
    {
      "cell_type": "markdown",
      "source": [
        "4. Write a program that accepts a sequence of whitespace separated words as input and prints the words after removing all duplicate words and sorting them alphanumerically.\n",
        "\n",
        "Suppose the following input is supplied to the program:\n",
        "\n",
        "hello world and practice makes perfect and hello world again\n",
        "\n",
        "Then, the output should be:\n",
        "\n",
        "again and hello makes perfect practice world\n"
      ],
      "metadata": {
        "id": "Xp8mJ-oBtMsB"
      }
    },
    {
      "cell_type": "code",
      "source": [
        "sentence = 'hello world and practice makes perfect and hello world again'\n",
        "sen = sentence.split(' ')\n",
        "sen_sort = sorted(sen)\n",
        "lst = []\n",
        "\n",
        "for i in sen_sort:\n",
        "  if i not in lst:\n",
        "    lst.append(i)\n",
        "' '.join(str(x) for x in lst)"
      ],
      "metadata": {
        "colab": {
          "base_uri": "https://localhost:8080/",
          "height": 35
        },
        "id": "4XFuDQ8Evotu",
        "outputId": "8a67e873-51a2-4773-bc14-47a7610eecba"
      },
      "execution_count": 97,
      "outputs": [
        {
          "output_type": "execute_result",
          "data": {
            "text/plain": [
              "'again and hello makes perfect practice world'"
            ],
            "application/vnd.google.colaboratory.intrinsic+json": {
              "type": "string"
            }
          },
          "metadata": {},
          "execution_count": 97
        }
      ]
    },
    {
      "cell_type": "markdown",
      "source": [
        "5. Write a program that accepts a sentence and calculate the number of letters and digits.\n",
        "\n",
        "Suppose the following input is supplied to the program:\n",
        "\n",
        "hello world! 123\n",
        "\n",
        "Then, the output should be:\n",
        "\n",
        "LETTERS 10\n",
        "\n",
        "DIGITS 3\n"
      ],
      "metadata": {
        "id": "YPKmWnh6otJ_"
      }
    },
    {
      "cell_type": "code",
      "source": [
        "#strin = input(\"Enter the sentence : - \")\n",
        "strin = \"hello world! 123\"\n",
        "strin = strin.replace(\" \",\"\")\n",
        "digit = 0\n",
        "letter = 0\n",
        "for i in strin:\n",
        "    if i.isdigit():\n",
        "        digit = digit + 1\n",
        "    elif i.isalpha():\n",
        "        letter = letter + 1\n",
        "  \n",
        "print(\"Digit : \",digit)\n",
        "print(\"Letters : \",letter)\n"
      ],
      "metadata": {
        "colab": {
          "base_uri": "https://localhost:8080/"
        },
        "id": "CrQBRhfKovrb",
        "outputId": "379b0460-e4cc-4607-a5de-d8bdb34e75f1"
      },
      "execution_count": 94,
      "outputs": [
        {
          "output_type": "stream",
          "name": "stdout",
          "text": [
            "Digit :  3\n",
            "Letters :  10\n"
          ]
        }
      ]
    },
    {
      "cell_type": "markdown",
      "source": [
        "5. A website requires the users to input username and password to register. Write a program to check the validity of password input by users.\n",
        "\n",
        "Following are the criteria for checking the password:\n",
        "\n",
        "1. At least 1 letter between [a-z]\n",
        "\n",
        "2. At least 1 number between [0-9]\n",
        "\n",
        "1. At least 1 letter between [A-Z]\n",
        "\n",
        "3. At least 1 character from [$#@]\n",
        "\n",
        "4. Minimum length of transaction password: 6\n",
        "\n",
        "5. Maximum length of transaction password: 12\n",
        "\n",
        "Your program should accept a sequence of comma separated passwords and will check them according to the above criteria. Passwords that match the criteria are to be printed, each separated by a comma.\n",
        "\n",
        "Example\n",
        "\n",
        "If the following passwords are given as input to the program:\n",
        "\n",
        "ABd1234@1,a F1#,2w3E*,2We3345\n",
        "\n",
        "Then, the output of the program should be:\n",
        "\n",
        "ABd1234@1\n",
        "\n"
      ],
      "metadata": {
        "id": "T4OVMxI4wzV2"
      }
    },
    {
      "cell_type": "code",
      "source": [
        "def check_password(password):\n",
        "    # Criteria checks\n",
        "    has_lowercase = any(c.islower() for c in password)\n",
        "    has_uppercase = any(c.isupper() for c in password)\n",
        "    has_digit = any(c.isdigit() for c in password)\n",
        "    has_special = any(c in '$#@' for c in password)\n",
        "    is_valid_length = 6 <= len(password) <= 12\n",
        "\n",
        "    # Check if all criteria are satisfied\n",
        "    if has_lowercase and has_uppercase and has_digit and has_special and is_valid_length:\n",
        "        return True\n",
        "    else:\n",
        "        return False\n",
        "\n",
        "\n",
        "passwords = input(\"Enter comma-separated passwords: \").split(',')\n",
        "\n",
        "valid_passwords = []\n",
        "for password in passwords:\n",
        "    if check_password(password):\n",
        "        valid_passwords.append(password)\n",
        "\n",
        "# Print the valid passwords separated by comma\n",
        "print(','.join(valid_passwords))\n"
      ],
      "metadata": {
        "colab": {
          "base_uri": "https://localhost:8080/"
        },
        "id": "kGfKt6xsw5YD",
        "outputId": "e583494b-7837-471e-d0c1-d13605b8b2dd"
      },
      "execution_count": 96,
      "outputs": [
        {
          "output_type": "stream",
          "name": "stdout",
          "text": [
            "Enter comma-separated passwords: ABd1234@1,a F1#,2w3E*,2We3345\n",
            "ABd1234@1\n"
          ]
        }
      ]
    },
    {
      "cell_type": "code",
      "source": [],
      "metadata": {
        "id": "u-4mpaZWpVIR"
      },
      "execution_count": null,
      "outputs": []
    },
    {
      "cell_type": "code",
      "source": [],
      "metadata": {
        "id": "UMtEt4SdqZBZ"
      },
      "execution_count": null,
      "outputs": []
    }
  ]
}