{
  "nbformat": 4,
  "nbformat_minor": 0,
  "metadata": {
    "colab": {
      "provenance": []
    },
    "kernelspec": {
      "name": "python3",
      "display_name": "Python 3"
    },
    "language_info": {
      "name": "python"
    }
  },
  "cells": [
    {
      "cell_type": "markdown",
      "source": [
        "**1. What does RGBA stand for?**\n",
        "-->   RGBA stands for Red, Green, Blue, and Alpha"
      ],
      "metadata": {
        "id": "jiQJtzvYkQTr"
      }
    },
    {
      "cell_type": "markdown",
      "source": [
        "**2. From the Pillow module, how do you get the RGBA value of any images?**\n",
        "-->  To get the RGBA value of any image using the Pillow module, you can use the getpixel() method of the Image object. This method takes the coordinates of a pixel as arguments and returns the RGBA value of that pixel.\n",
        ""
      ],
      "metadata": {
        "id": "RtGO-0ZJkQYC"
      }
    },
    {
      "cell_type": "markdown",
      "source": [
        "**3. What is a box tuple, and how does it work?**\n",
        "--> A box tuple, in the context of the Pillow module, is a tuple that represents a rectangular region or box within an image. The box tuple consists of four integers: (left, upper, right, lower).\n"
      ],
      "metadata": {
        "id": "KNfK6wJ0kQa7"
      }
    },
    {
      "cell_type": "markdown",
      "source": [
        "**4. Use your image and load in notebook then, How can you find out the width and height of an Image object?**\n",
        "--> To find out the width and height of an Image object in pixels, you can access its size attribute\n",
        ""
      ],
      "metadata": {
        "id": "dvj6g7vRkQdA"
      }
    },
    {
      "cell_type": "markdown",
      "source": [
        "**5. What method would you call to get Image object for a 100×100 image, excluding the lower-left quarter of it?**\n",
        "-->  To get an Image object for a 100×100 image, excluding the lower-left quarter, you can use the crop() method of the Image object.\n"
      ],
      "metadata": {
        "id": "9mXhzOaQkQe4"
      }
    },
    {
      "cell_type": "markdown",
      "source": [
        "**6. After making changes to an Image object, how could you save it as an image file?**\n",
        "--> sing the Pillow module, you can save it as an image file using the save() method of the Image object.\n"
      ],
      "metadata": {
        "id": "RbtjIJFXkQhr"
      }
    },
    {
      "cell_type": "markdown",
      "source": [
        "**7. What module contains Pillow’s shape-drawing code?**\n",
        "-->  Pillow's shape-drawing code is contained in the ImageDraw module."
      ],
      "metadata": {
        "id": "g-l_7jJBkQjs"
      }
    },
    {
      "cell_type": "markdown",
      "source": [
        "**8. Image objects do not have drawing methods. What kind of object does? How do you get this kind of object?**\n",
        "-->  By importing the ImageDraw module from Pillow, you can create an ImageDraw object using the ImageDraw.Draw() function."
      ],
      "metadata": {
        "id": "M3vGKrxhkQlr"
      }
    }
  ]
}