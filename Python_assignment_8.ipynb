{
  "nbformat": 4,
  "nbformat_minor": 0,
  "metadata": {
    "colab": {
      "provenance": []
    },
    "kernelspec": {
      "name": "python3",
      "display_name": "Python 3"
    },
    "language_info": {
      "name": "python"
    }
  },
  "cells": [
    {
      "cell_type": "code",
      "source": [
        "!pip install PyInputPlus"
      ],
      "metadata": {
        "colab": {
          "base_uri": "https://localhost:8080/"
        },
        "id": "85Xh8uJesXK3",
        "outputId": "c27f1242-691b-4c0b-90c8-d6ad400d24b5"
      },
      "execution_count": 2,
      "outputs": [
        {
          "output_type": "stream",
          "name": "stdout",
          "text": [
            "Looking in indexes: https://pypi.org/simple, https://us-python.pkg.dev/colab-wheels/public/simple/\n",
            "Collecting PyInputPlus\n",
            "  Downloading PyInputPlus-0.2.12.tar.gz (20 kB)\n",
            "  Installing build dependencies ... \u001b[?25l\u001b[?25hdone\n",
            "  Getting requirements to build wheel ... \u001b[?25l\u001b[?25hdone\n",
            "  Preparing metadata (pyproject.toml) ... \u001b[?25l\u001b[?25hdone\n",
            "Collecting pysimplevalidate>=0.2.7 (from PyInputPlus)\n",
            "  Downloading PySimpleValidate-0.2.12.tar.gz (22 kB)\n",
            "  Installing build dependencies ... \u001b[?25l\u001b[?25hdone\n",
            "  Getting requirements to build wheel ... \u001b[?25l\u001b[?25hdone\n",
            "  Preparing metadata (pyproject.toml) ... \u001b[?25l\u001b[?25hdone\n",
            "Collecting stdiomask>=0.0.3 (from PyInputPlus)\n",
            "  Downloading stdiomask-0.0.6.tar.gz (3.6 kB)\n",
            "  Installing build dependencies ... \u001b[?25l\u001b[?25hdone\n",
            "  Getting requirements to build wheel ... \u001b[?25l\u001b[?25hdone\n",
            "  Preparing metadata (pyproject.toml) ... \u001b[?25l\u001b[?25hdone\n",
            "Building wheels for collected packages: PyInputPlus, pysimplevalidate, stdiomask\n",
            "  Building wheel for PyInputPlus (pyproject.toml) ... \u001b[?25l\u001b[?25hdone\n",
            "  Created wheel for PyInputPlus: filename=PyInputPlus-0.2.12-py3-none-any.whl size=11297 sha256=a169279346df6c3ec16c4ce0ceeb9cfd0244719be00a8ab08b0cac22fadfe068\n",
            "  Stored in directory: /root/.cache/pip/wheels/13/ec/a5/f780c8008b74e885aada43369ebf4d350edfd12bb5909ccb23\n",
            "  Building wheel for pysimplevalidate (pyproject.toml) ... \u001b[?25l\u001b[?25hdone\n",
            "  Created wheel for pysimplevalidate: filename=PySimpleValidate-0.2.12-py3-none-any.whl size=16176 sha256=1be2e21d8087e87ccc4b47085dffb8cb9ac05dc8f208ca4e53aad53b5d3d631d\n",
            "  Stored in directory: /root/.cache/pip/wheels/64/29/c9/2ee861e5b0775e289013b7c7157e0bdcea3a1b844f835b2eb8\n",
            "  Building wheel for stdiomask (pyproject.toml) ... \u001b[?25l\u001b[?25hdone\n",
            "  Created wheel for stdiomask: filename=stdiomask-0.0.6-py3-none-any.whl size=3306 sha256=7052a6bc1b7dd1b34c298a672d6075b95b590457daf97bc86524c5d234c1d884\n",
            "  Stored in directory: /root/.cache/pip/wheels/6c/00/4b/0715696f101d7376f67a83cf3d545feb8c241eeee75b80bb6f\n",
            "Successfully built PyInputPlus pysimplevalidate stdiomask\n",
            "Installing collected packages: stdiomask, pysimplevalidate, PyInputPlus\n",
            "Successfully installed PyInputPlus-0.2.12 pysimplevalidate-0.2.12 stdiomask-0.0.6\n"
          ]
        }
      ]
    },
    {
      "cell_type": "markdown",
      "source": [
        "**1. Is the Python Standard Library included with PyInputPlus?**\n",
        " -->  No, PyInputPlus is a separate third-party library and is not included in the Python Standard Library by default.\n",
        "\n"
      ],
      "metadata": {
        "id": "TgZnfbRxoGpD"
      }
    },
    {
      "cell_type": "markdown",
      "source": [
        "**2. Why is PyInputPlus commonly imported with import pyinputplus as pypi?**\n",
        "  --> PyInputPlus is commonly imported with import pyinputplus as pypi to\n",
        "      provide a shorter and more convenient way to refer to the library\n"
      ],
      "metadata": {
        "id": "vYU-LFGJoGrb"
      }
    },
    {
      "cell_type": "markdown",
      "source": [
        "**3. How do you distinguish between inputInt() and inputFloat()?**\n",
        "  -->\n",
        "      - **inputInt()** is a function provided by PyInputPlus that prompts the user to enter an integer value. If the input provided by the user is not a valid integer, an error message is displayed, and the user is prompted again until a valid integer is entered.\n",
        "      - **inputFloat()** is also a function provided by PyInputPlus that prompts the user to enter a floating-point number."
      ],
      "metadata": {
        "id": "ssRCxZ1GoGuF"
      }
    },
    {
      "cell_type": "code",
      "source": [
        "import pyinputplus as pypi\n",
        "\n",
        "# Prompt the user to enter an integer\n",
        "integer = pypi.inputInt(prompt='Enter an integer: ')\n",
        "print('Entered integer:', integer)\n",
        "\n",
        "# Prompt the user to enter a float\n",
        "float_number = pypi.inputFloat(prompt='Enter a float: ')\n",
        "print('Entered float:', float_number)\n"
      ],
      "metadata": {
        "colab": {
          "base_uri": "https://localhost:8080/"
        },
        "id": "WrB7N8q8r1p3",
        "outputId": "eb713011-04ea-4c07-bbe0-f86129f2f80c"
      },
      "execution_count": 7,
      "outputs": [
        {
          "output_type": "stream",
          "name": "stdout",
          "text": [
            "Enter an integer: a\n",
            "'a' is not an integer.\n",
            "Enter an integer: 2\n",
            "Entered integer: 2\n",
            "Enter a float: 2.5\n",
            "Entered float: 2.5\n"
          ]
        }
      ]
    },
    {
      "cell_type": "markdown",
      "source": [
        "**4. Using PyInputPlus, how do you ensure that the user enters a whole number between 0 and 99?**\n"
      ],
      "metadata": {
        "id": "7l-CbZGvoGwf"
      }
    },
    {
      "cell_type": "code",
      "source": [
        "import pyinputplus as pypi\n",
        "\n",
        "number = pypi.inputInt(prompt='Enter a number: ', min=0, max=99)"
      ],
      "metadata": {
        "colab": {
          "base_uri": "https://localhost:8080/"
        },
        "id": "cupKNbwFsEiW",
        "outputId": "6fdcc68a-6b2e-42a6-bd3e-2f4e3a65451b"
      },
      "execution_count": 5,
      "outputs": [
        {
          "name": "stdout",
          "output_type": "stream",
          "text": [
            "Enter a number: -1\n",
            "Number must be at minimum 0.\n",
            "Enter a number: 500\n",
            "Number must be at maximum 99.\n",
            "Enter a number: 25\n"
          ]
        }
      ]
    },
    {
      "cell_type": "markdown",
      "source": [
        "**5. What is transferred to the keyword arguments allowRegexes and blockRegexes?**\n",
        "  --> The keyword arguments allowRegexes and blockRegexes in PyInputPlus accept lists of regular expressions. These regular expressions define patterns of input that are either allowed or blocked"
      ],
      "metadata": {
        "id": "EI6NpOmNoGy1"
      }
    },
    {
      "cell_type": "markdown",
      "source": [
        "**6. If a blank input is entered three times, what does inputStr(limit=3) do?**\n",
        "  -->  If a blank input is entered three times while using inputStr(limit=3), PyInputPlus raises a ValidationException with an error message indicating that the maximum number of tries has been exceeded.\n"
      ],
      "metadata": {
        "id": "dI-jX2RBoG1W"
      }
    },
    {
      "cell_type": "code",
      "source": [
        "import pyinputplus as pypi\n",
        "\n",
        "try:\n",
        "    # Allow three attempts to enter a non-blank string\n",
        "    string = pypi.inputStr(prompt='Enter a string: ', limit=3)\n",
        "    print('Entered string:', string)\n",
        "except pypi.ValidationException:\n",
        "    print('Maximum number of tries exceeded.')\n"
      ],
      "metadata": {
        "colab": {
          "base_uri": "https://localhost:8080/"
        },
        "id": "UNsXI3kQNAxF",
        "outputId": "142ccf89-45ca-44e1-b498-adad74808ef0"
      },
      "execution_count": 5,
      "outputs": [
        {
          "output_type": "stream",
          "name": "stdout",
          "text": [
            "Enter a string: a\n",
            "Entered string: a\n"
          ]
        }
      ]
    },
    {
      "cell_type": "markdown",
      "source": [
        "**7. If blank input is entered three times, what does inputStr(limit=3, default='hello') do?**\n",
        "\n",
        "  -->  If a blank input is entered three times while using inputStr(limit=3, default='hello'), PyInputPlus returns the default value 'hello'."
      ],
      "metadata": {
        "id": "pGgf6NLQoG48"
      }
    },
    {
      "cell_type": "code",
      "source": [
        "import pyinputplus as pypi\n",
        "string = pypi.inputStr(prompt='Enter a string: ', limit=3, default='hello')\n",
        "print('Entered string:', string)\n"
      ],
      "metadata": {
        "colab": {
          "base_uri": "https://localhost:8080/"
        },
        "id": "vOG51AK3MCsl",
        "outputId": "3e0254b2-8376-47e8-ed36-97b69fe0a566"
      },
      "execution_count": 3,
      "outputs": [
        {
          "output_type": "stream",
          "name": "stdout",
          "text": [
            "Enter a string: \n",
            "Blank values are not allowed.\n",
            "Enter a string: \n",
            "Blank values are not allowed.\n",
            "Enter a string: \n",
            "Blank values are not allowed.\n",
            "Entered string: hello\n"
          ]
        }
      ]
    },
    {
      "cell_type": "code",
      "source": [],
      "metadata": {
        "id": "wfQoe5_hMNK2"
      },
      "execution_count": null,
      "outputs": []
    }
  ]
}