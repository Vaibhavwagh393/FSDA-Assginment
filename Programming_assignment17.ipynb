{
  "nbformat": 4,
  "nbformat_minor": 0,
  "metadata": {
    "colab": {
      "provenance": []
    },
    "kernelspec": {
      "name": "python3",
      "display_name": "Python 3"
    },
    "language_info": {
      "name": "python"
    }
  },
  "cells": [
    {
      "cell_type": "markdown",
      "source": [
        "1. Create a function that takes three arguments a, b, c and returns the sum of the numbers that are evenly divided by c from the range a, b inclusive."
      ],
      "metadata": {
        "id": "odXGTg7Q0SZ8"
      }
    },
    {
      "cell_type": "code",
      "source": [
        "def evenly_divisible(a, b, c):\n",
        "  lst = []\n",
        "  for i in range(a,b+1):\n",
        "    if(i % c == 0):\n",
        "      lst.append(i)\n",
        "  return sum(lst)\n",
        "  "
      ],
      "metadata": {
        "id": "N2WWa06G0mK1"
      },
      "execution_count": 23,
      "outputs": []
    },
    {
      "cell_type": "code",
      "source": [
        "evenly_divisible(1, 10, 2) "
      ],
      "metadata": {
        "colab": {
          "base_uri": "https://localhost:8080/"
        },
        "id": "66sjjTGtZazc",
        "outputId": "964dabd4-91fb-4c5a-ff6d-9a02c5049590"
      },
      "execution_count": 24,
      "outputs": [
        {
          "output_type": "execute_result",
          "data": {
            "text/plain": [
              "30"
            ]
          },
          "metadata": {},
          "execution_count": 24
        }
      ]
    },
    {
      "cell_type": "code",
      "source": [
        "evenly_divisible(1, 10, 20) "
      ],
      "metadata": {
        "colab": {
          "base_uri": "https://localhost:8080/"
        },
        "id": "A_x1qiUyZat7",
        "outputId": "89dfddb3-8933-4954-e86f-29c20f968701"
      },
      "execution_count": 25,
      "outputs": [
        {
          "output_type": "execute_result",
          "data": {
            "text/plain": [
              "0"
            ]
          },
          "metadata": {},
          "execution_count": 25
        }
      ]
    },
    {
      "cell_type": "markdown",
      "source": [
        "2. Create a function that returns True if a given inequality expression is correct and False otherwise."
      ],
      "metadata": {
        "id": "EjriZGYXZib6"
      }
    },
    {
      "cell_type": "code",
      "source": [
        "def correct_signs(string):\n",
        "  string = string.split(\"\")"
      ],
      "metadata": {
        "id": "TSyKJmrLZlg5"
      },
      "execution_count": 26,
      "outputs": []
    },
    {
      "cell_type": "markdown",
      "source": [
        "3. Create a function that replaces all the vowels in a string with a specified character."
      ],
      "metadata": {
        "id": "1vGNc5jFZ0RU"
      }
    },
    {
      "cell_type": "code",
      "source": [
        "def replace_vowels(stringg,  charr):\n",
        "  string1 =''\n",
        "  vol = \"aeiouAEIOU\"\n",
        "  for i in stringg:\n",
        "    if i in vol:\n",
        "      string1 = string1 + charr\n",
        "    else:\n",
        "      string1 = string1 + i\n",
        "  return string1\n"
      ],
      "metadata": {
        "id": "8hsXPWxDZ1oJ"
      },
      "execution_count": 27,
      "outputs": []
    },
    {
      "cell_type": "code",
      "source": [
        "replace_vowels(\"the aardvark\", \"#\") "
      ],
      "metadata": {
        "colab": {
          "base_uri": "https://localhost:8080/",
          "height": 36
        },
        "id": "yqTRmzKdamVU",
        "outputId": "8b36a64a-6880-4fdc-9c23-556fd07cb2bf"
      },
      "execution_count": 28,
      "outputs": [
        {
          "output_type": "execute_result",
          "data": {
            "text/plain": [
              "'th# ##rdv#rk'"
            ],
            "application/vnd.google.colaboratory.intrinsic+json": {
              "type": "string"
            }
          },
          "metadata": {},
          "execution_count": 28
        }
      ]
    },
    {
      "cell_type": "code",
      "source": [
        "replace_vowels(\"shakespeare\", \"*\")"
      ],
      "metadata": {
        "colab": {
          "base_uri": "https://localhost:8080/",
          "height": 36
        },
        "id": "5tT8VEfGbfXz",
        "outputId": "6e7c7856-a7f3-4828-b7f8-8471b2b898d3"
      },
      "execution_count": 29,
      "outputs": [
        {
          "output_type": "execute_result",
          "data": {
            "text/plain": [
              "'sh*k*sp**r*'"
            ],
            "application/vnd.google.colaboratory.intrinsic+json": {
              "type": "string"
            }
          },
          "metadata": {},
          "execution_count": 29
        }
      ]
    },
    {
      "cell_type": "markdown",
      "source": [
        "4. Write a function that calculates the factorial of a number recursively."
      ],
      "metadata": {
        "id": "eMGif2n2z1uO"
      }
    },
    {
      "cell_type": "code",
      "source": [
        "def factorial(num):\n",
        "  if num == 0:\n",
        "    return 1\n",
        "  else:\n",
        "    return num * factorial(num - 1 )"
      ],
      "metadata": {
        "id": "eT-sIkJkz67z"
      },
      "execution_count": 30,
      "outputs": []
    },
    {
      "cell_type": "code",
      "source": [
        "factorial(6)"
      ],
      "metadata": {
        "colab": {
          "base_uri": "https://localhost:8080/"
        },
        "id": "dYQp--kq0GCe",
        "outputId": "8355dd9f-d391-4bdc-9505-bb2eda596199"
      },
      "execution_count": 31,
      "outputs": [
        {
          "output_type": "execute_result",
          "data": {
            "text/plain": [
              "720"
            ]
          },
          "metadata": {},
          "execution_count": 31
        }
      ]
    },
    {
      "cell_type": "markdown",
      "source": [
        "5. Hamming distance is the number of characters that differ between two strings.\n",
        "To illustrate:\n",
        "String1: \"abcbba\"\n",
        "String2: \"abcbda\"\n",
        "\n",
        "Hamming Distance: 1 - \"b\" vs. \"d\" is the only difference.\n",
        "Create a function that computes the hamming distance between two strings.\n"
      ],
      "metadata": {
        "id": "XDLOO3LxdsjA"
      }
    },
    {
      "cell_type": "code",
      "source": [
        "def hamming_distance(string1, string2):\n",
        "  count = 0\n",
        "  for i in range(len(string1)):\n",
        "    if( string1[i] != string2[i]):\n",
        "      count += 1\n",
        "  return count"
      ],
      "metadata": {
        "id": "lAoWSoWNdrOD"
      },
      "execution_count": 32,
      "outputs": []
    },
    {
      "cell_type": "code",
      "source": [
        "hamming_distance(\"abcde\", \"bcdef\") "
      ],
      "metadata": {
        "id": "WY4jD11k0Nly",
        "colab": {
          "base_uri": "https://localhost:8080/"
        },
        "outputId": "38dbf908-b3bf-4eaf-b450-2e8f4b5ad167"
      },
      "execution_count": 33,
      "outputs": [
        {
          "output_type": "execute_result",
          "data": {
            "text/plain": [
              "5"
            ]
          },
          "metadata": {},
          "execution_count": 33
        }
      ]
    },
    {
      "cell_type": "code",
      "source": [
        "hamming_distance(\"abcde\", \"abcde\") "
      ],
      "metadata": {
        "colab": {
          "base_uri": "https://localhost:8080/"
        },
        "id": "_xeIf4noefq6",
        "outputId": "38ef8906-6e11-4e9d-df35-2d6c8129c8ae"
      },
      "execution_count": 34,
      "outputs": [
        {
          "output_type": "execute_result",
          "data": {
            "text/plain": [
              "0"
            ]
          },
          "metadata": {},
          "execution_count": 34
        }
      ]
    },
    {
      "cell_type": "code",
      "source": [],
      "metadata": {
        "id": "XZSCK-IqeoP8"
      },
      "execution_count": 34,
      "outputs": []
    }
  ]
}