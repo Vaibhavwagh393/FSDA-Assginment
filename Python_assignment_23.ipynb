{
  "nbformat": 4,
  "nbformat_minor": 0,
  "metadata": {
    "colab": {
      "provenance": []
    },
    "kernelspec": {
      "name": "python3",
      "display_name": "Python 3"
    },
    "language_info": {
      "name": "python"
    }
  },
  "cells": [
    {
      "cell_type": "markdown",
      "source": [
        "1. What is the result of the code, and why?\n",
        "def func(a, b=6, c=8):\n",
        "print(a, b, c)\n",
        "func(1, 2)\n",
        "\n",
        "-->  When the function is called with arguments 1 and 2, the values of a and b are assigned accordingly. The default value 8 is used for parameter c."
      ],
      "metadata": {
        "id": "Zq9dCNTl8BDC"
      }
    },
    {
      "cell_type": "code",
      "source": [
        "def func(a, b=6, c=8):\n",
        "    print(a, b, c)\n",
        "func(1, 2)"
      ],
      "metadata": {
        "colab": {
          "base_uri": "https://localhost:8080/"
        },
        "id": "xlUe7mkX9xYx",
        "outputId": "937891bd-acca-46bf-b9c1-527c4b49e05e"
      },
      "execution_count": 1,
      "outputs": [
        {
          "output_type": "stream",
          "name": "stdout",
          "text": [
            "1 2 8\n"
          ]
        }
      ]
    },
    {
      "cell_type": "markdown",
      "source": [
        "2. def func(a,b,c=5):\n",
        "    print(a,b,c)\n",
        "func(1,c=3,b=2)\n",
        "\n",
        "--> The parameter c has a default value of 5. When the function is called with the arguments 1, c=3, and b=2, the values of a, b, and c are assigned accordingly."
      ],
      "metadata": {
        "id": "UPbMNYVB8BNe"
      }
    },
    {
      "cell_type": "code",
      "source": [
        "def func(a,b,c=5):\n",
        "    print(a,b,c)\n",
        "func(1,c=3,b=2)"
      ],
      "metadata": {
        "colab": {
          "base_uri": "https://localhost:8080/"
        },
        "id": "TLsb3zCT-n1p",
        "outputId": "dd19b257-5df2-4f09-85da-9859f18e1bb4"
      },
      "execution_count": 2,
      "outputs": [
        {
          "output_type": "stream",
          "name": "stdout",
          "text": [
            "1 2 3\n"
          ]
        }
      ]
    },
    {
      "cell_type": "markdown",
      "source": [
        "3. def func(a, *pargs):\n",
        "    print(a,pargs)\n",
        "func(1,2,3)\n",
        "\n",
        "-->The function func() is defined with a parameter a and *pargs, which allows for multiple positional arguments to be passed as a tuple. When the function is called with the arguments 1, 2, and 3, the value of 1 is assigned to a, and the remaining arguments 2 and 3 are collected into a tuple called pargs."
      ],
      "metadata": {
        "id": "4UWIIXkC8BXC"
      }
    },
    {
      "cell_type": "code",
      "source": [
        "4. def func(a, *pargs):\n",
        "    print(a,pargs)\n",
        "func(1,2,3)"
      ],
      "metadata": {
        "colab": {
          "base_uri": "https://localhost:8080/"
        },
        "id": "jh9_1MLR_lQd",
        "outputId": "0a31204b-add8-4d8e-9da0-16feebdbe60f"
      },
      "execution_count": 3,
      "outputs": [
        {
          "output_type": "stream",
          "name": "stdout",
          "text": [
            "1 (2, 3)\n"
          ]
        }
      ]
    },
    {
      "cell_type": "markdown",
      "source": [
        "4. def func(a,**kargs):\n",
        "    print(a,kargs)\n",
        "func(a=1,c=3,b=2)\n",
        "\n",
        "--> The function func() is defined with a parameter a and **kargs, which allows for multiple keyword arguments to be passed as a dictionary."
      ],
      "metadata": {
        "id": "4GfaYeP28Be2"
      }
    },
    {
      "cell_type": "code",
      "source": [
        "def func(a,**kargs):\n",
        "    print(a,kargs)\n",
        "func(a=1,c=3,b=2)"
      ],
      "metadata": {
        "colab": {
          "base_uri": "https://localhost:8080/"
        },
        "id": "DmSQCbWB_qwX",
        "outputId": "782666bc-024f-410d-c987-60b256d19b3c"
      },
      "execution_count": 7,
      "outputs": [
        {
          "output_type": "stream",
          "name": "stdout",
          "text": [
            "1 {'c': 3, 'b': 2}\n"
          ]
        }
      ]
    },
    {
      "cell_type": "markdown",
      "source": [
        "5. def func(a, b, c=8, d=5): print(a, b, c, d)\n",
        "func(1, *(5, 6))"
      ],
      "metadata": {
        "id": "ozjMfC_28Bmz"
      }
    },
    {
      "cell_type": "code",
      "source": [
        "def func(a, b, c=8, d=5): print(a, b, c, d)\n",
        "func(1, *(5, 6))\n"
      ],
      "metadata": {
        "colab": {
          "base_uri": "https://localhost:8080/"
        },
        "id": "g0uppDWMAnHt",
        "outputId": "d1f63a1d-1b32-47a2-b096-fa24d4fd7b75"
      },
      "execution_count": 6,
      "outputs": [
        {
          "output_type": "stream",
          "name": "stdout",
          "text": [
            "1 5 6 5\n"
          ]
        }
      ]
    },
    {
      "cell_type": "markdown",
      "source": [
        "When the function is called with arguments 1 and *(5, 6), the asterisk (*) operator is used to unpack the tuple (5, 6) into individual arguments. So, the call func(1, *(5, 6)) is equivalent to func(1, 5, 6)."
      ],
      "metadata": {
        "id": "22k_-Q-qA2Vb"
      }
    },
    {
      "cell_type": "markdown",
      "source": [
        "6. def func(a, b, c): a = 2; b[0] = 'x'; c['a'] = 'y'\n",
        "l=1; m=[1]; n={'a':0}\n",
        "func(l, m, n)\n",
        "l,m,n"
      ],
      "metadata": {
        "id": "QRboxUY-8BuI"
      }
    },
    {
      "cell_type": "code",
      "source": [
        "def func(a, b, c): a = 2; b[0] = 'x'; c['a'] = 'y'\n",
        "l=1; m=[1]; n={'a':0}\n",
        "func(l, m, n)\n",
        "l,m,n"
      ],
      "metadata": {
        "colab": {
          "base_uri": "https://localhost:8080/"
        },
        "id": "NKVo305mADVh",
        "outputId": "058cd41f-28c6-499f-d067-614e2c8e2882"
      },
      "execution_count": 5,
      "outputs": [
        {
          "output_type": "execute_result",
          "data": {
            "text/plain": [
              "(1, ['x'], {'a': 'y'})"
            ]
          },
          "metadata": {},
          "execution_count": 5
        }
      ]
    },
    {
      "cell_type": "markdown",
      "source": [
        "Inside the function, the value of a is reassigned to 2, the first element of b is modified to 'x', and the value associated with the key 'a' in dictionary c is changed to 'y'.\n",
        "\n",
        "When the function is called with l, m, and n as arguments, where l is an integer 1, m is a list [1], and n is a dictionary {'a': 0}, the function modifies these objects in-place.\n",
        "\n",
        "Therefore, after calling the function, the value of l remains unchanged (1), but the list m is modified to ['x'], and the dictionary n is modified to {'a': 'y'}."
      ],
      "metadata": {
        "id": "VM5YGgg6AZlr"
      }
    },
    {
      "cell_type": "code",
      "source": [],
      "metadata": {
        "id": "_DhHRDfOAG1Y"
      },
      "execution_count": null,
      "outputs": []
    }
  ]
}