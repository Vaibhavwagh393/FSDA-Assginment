{
  "nbformat": 4,
  "nbformat_minor": 0,
  "metadata": {
    "colab": {
      "provenance": []
    },
    "kernelspec": {
      "name": "python3",
      "display_name": "Python 3"
    },
    "language_info": {
      "name": "python"
    }
  },
  "cells": [
    {
      "cell_type": "markdown",
      "source": [
        "1.\tWrite a Python Program to Find LCM?"
      ],
      "metadata": {
        "id": "fjQkczLk5UBj"
      }
    },
    {
      "cell_type": "code",
      "source": [
        "def LCM(num1,num2):          # LCM by listing method\n",
        "  max_num = max(num1 , num2)\n",
        "  lst1 = []\n",
        "  lst2 = []\n",
        "  for i in range(1,max_num+1):                 # create multiple of num1\n",
        "    lst1.append(num1*i)\n",
        "\n",
        "  for i in range(1,max_num+1):                 # create multiple of num2\n",
        "    lst2.append(num2*i)\n",
        "\n",
        "  lcm = []                       # for adding common numbers that present is both lst1 and lst2\n",
        "  for i in lst1:\n",
        "    if i in lst2:\n",
        "      lcm.append(i)\n",
        "  return min(lcm)                   "
      ],
      "metadata": {
        "id": "MMU69oHt-a9B"
      },
      "execution_count": 68,
      "outputs": []
    },
    {
      "cell_type": "code",
      "source": [
        "a = int(input(\"Enter the first number \" ))\n",
        "b = int(input(\"Enter the second number \" ))\n",
        "lc = LCM(a,b)\n",
        "print(f\"The Least Common Multiple (LCM) of {a} and {b} is {lc}\")"
      ],
      "metadata": {
        "colab": {
          "base_uri": "https://localhost:8080/"
        },
        "id": "5G7LdYnO_Meb",
        "outputId": "39c7192b-32e6-49d7-a821-d48b6618885e"
      },
      "execution_count": 69,
      "outputs": [
        {
          "output_type": "stream",
          "name": "stdout",
          "text": [
            "Enter the first number 6\n",
            "Enter the second number 10\n",
            "The Least Common Multiple (LCM) of 6 and 10 is 30\n"
          ]
        }
      ]
    },
    {
      "cell_type": "markdown",
      "source": [
        "2.\tWrite a Python Program to Find HCF?\n",
        "\n",
        "      Formula :  LCM(a,b) = [  a x b / HCF (a,b) ]"
      ],
      "metadata": {
        "id": "Lue49FLE5UJY"
      }
    },
    {
      "cell_type": "code",
      "source": [
        "# using formula to find HCF \n",
        "\n",
        "a = int(input(\"Enter the first number \" ))\n",
        "b = int(input(\"Enter the second number \" ))\n",
        "lc = LCM(a,b)\n",
        "hcf = ( (a*b) / lc )\n",
        "print(f\"The Highest Common Factor (HCF) of {a} and {b} is {hcf}\")"
      ],
      "metadata": {
        "colab": {
          "base_uri": "https://localhost:8080/"
        },
        "id": "ivmuoXrYBkbC",
        "outputId": "f9418491-fa65-4c43-b575-04bf93cdf327"
      },
      "execution_count": 70,
      "outputs": [
        {
          "output_type": "stream",
          "name": "stdout",
          "text": [
            "Enter the first number 21\n",
            "Enter the second number 12\n",
            "The Highest Common Factor (HCF) of 21 and 12 is 3.0\n"
          ]
        }
      ]
    },
    {
      "cell_type": "markdown",
      "source": [
        "3.\tWrite a Python Program to Convert Decimal to Binary, Octal and Hexadecimal?"
      ],
      "metadata": {
        "id": "90ZOQFlT5URz"
      }
    },
    {
      "cell_type": "code",
      "source": [
        "def to(num, base):\n",
        "    lst = []\n",
        "    while num > 0:\n",
        "        digit = num % base\n",
        "        lst.append(digit)\n",
        "        num = num // base\n",
        "    lst1 = [str(i) for i in reversed(lst)]\n",
        "    return lst1\n",
        "\n",
        "def replace_values(lst):\n",
        "    mapping = {\n",
        "        10: 'A',\n",
        "        11: 'B',\n",
        "        12: 'C',\n",
        "        13: 'D',\n",
        "        14: 'E',\n",
        "        15: 'F'\n",
        "    }\n",
        "    replaced_list = [mapping.get(int(item), item) for item in lst]\n",
        "    return ''.join(replaced_list)\n",
        "\n",
        "\n",
        "decimal_num = 100\n",
        "\n",
        "binary_num = to(decimal_num, 2)\n",
        "replaced_binary = replace_values(binary_num)\n",
        "print(\"Binary:\", replaced_binary)\n",
        "\n",
        "octal_num = to(decimal_num, 8)\n",
        "replaced_octal = replace_values(octal_num)\n",
        "print(\"Octal:\", replaced_octal)\n",
        "\n",
        "hexadecimal_num = to(decimal_num, 16)\n",
        "replaced_hexadecimal = replace_values(hexadecimal_num)\n",
        "print(\"Hexadecimal:\", replaced_hexadecimal)\n"
      ],
      "metadata": {
        "colab": {
          "base_uri": "https://localhost:8080/"
        },
        "id": "QbrpKhjtNEFU",
        "outputId": "a8c75e3d-a63a-42cb-f961-68a26c24bf90"
      },
      "execution_count": 71,
      "outputs": [
        {
          "output_type": "stream",
          "name": "stdout",
          "text": [
            "Binary: 1100100\n",
            "Octal: 144\n",
            "Hexadecimal: 64\n"
          ]
        }
      ]
    },
    {
      "cell_type": "code",
      "source": [
        "def decimal_to_binary(decimal):\n",
        "    binary = bin(decimal).replace(\"0b\", \"\")\n",
        "    return binary\n",
        "\n",
        "def decimal_to_octal(decimal):\n",
        "    octal = oct(decimal).replace(\"0o\", \"\")\n",
        "    return octal\n",
        "\n",
        "def decimal_to_hexadecimal(decimal):\n",
        "    hexadecimal = hex(decimal).replace(\"0x\", \"\").upper()\n",
        "    return hexadecimal\n",
        "\n",
        "\n",
        "decimal_num = 100\n",
        "\n",
        "binary_num = decimal_to_binary(decimal_num)\n",
        "print(\"Binary:\", binary_num)\n",
        "\n",
        "octal_num = decimal_to_octal(decimal_num)\n",
        "print(\"Octal:\", octal_num)\n",
        "\n",
        "hexadecimal_num = decimal_to_hexadecimal(decimal_num)\n",
        "print(\"Hexadecimal:\", hexadecimal_num)\n"
      ],
      "metadata": {
        "colab": {
          "base_uri": "https://localhost:8080/"
        },
        "id": "vEMiodV1Qgm7",
        "outputId": "ace7d183-4c27-4573-be5a-c6a97d7f73ff"
      },
      "execution_count": 72,
      "outputs": [
        {
          "output_type": "stream",
          "name": "stdout",
          "text": [
            "Binary: 1100100\n",
            "Octal: 144\n",
            "Hexadecimal: 64\n"
          ]
        }
      ]
    },
    {
      "cell_type": "markdown",
      "source": [
        "4.\tWrite a Python Program To Find ASCII value of a character?"
      ],
      "metadata": {
        "id": "KVqgFU2R5UZ5"
      }
    },
    {
      "cell_type": "code",
      "source": [
        "def ascii(character):\n",
        "    return ord(character)\n",
        "\n",
        "\n",
        "char = '$'\n",
        "ascii_value = ascii(char)\n",
        "print(\"ASCII value of\", char, \"is\", ascii_value)\n"
      ],
      "metadata": {
        "colab": {
          "base_uri": "https://localhost:8080/"
        },
        "id": "s5osdnPARxb1",
        "outputId": "47ef79da-b066-45f8-ca99-ba0a7b8267a0"
      },
      "execution_count": 73,
      "outputs": [
        {
          "output_type": "stream",
          "name": "stdout",
          "text": [
            "ASCII value of $ is 36\n"
          ]
        }
      ]
    },
    {
      "cell_type": "markdown",
      "source": [
        "5.\tWrite a Python Program to Make a Simple Calculator with 4 basic mathematical operations?"
      ],
      "metadata": {
        "id": "I9bzWnDh5V0Y"
      }
    },
    {
      "cell_type": "code",
      "source": [
        "def calculator(num1,num2,operator):\n",
        "  if operator=='+':\n",
        "    return num1+num2\n",
        "  elif operator=='-':\n",
        "    return num1-num2\n",
        "  elif operator=='*':\n",
        "    return num1*num2\n",
        "  elif operator=='/':\n",
        "    return num1/num2\n"
      ],
      "metadata": {
        "id": "3jF8yDK75nhr"
      },
      "execution_count": 1,
      "outputs": []
    },
    {
      "cell_type": "code",
      "source": [
        "a = float(input(\"Enter the first number : - \"))\n",
        "b = float(input(\"Enter the first number : - \"))\n",
        "c = input(\"Choose operation { + , - , * , / } \")\n",
        "d = calculator(a,b,c)\n",
        "\n",
        "print(\"Answer is \",d)"
      ],
      "metadata": {
        "colab": {
          "base_uri": "https://localhost:8080/"
        },
        "id": "x6w7A0ho7Dnc",
        "outputId": "26e7c2a2-9e88-44d2-c2ed-18f879cc2542"
      },
      "execution_count": 74,
      "outputs": [
        {
          "output_type": "stream",
          "name": "stdout",
          "text": [
            "Enter the first number : - 15\n",
            "Enter the first number : - 5\n",
            "Choose operation { + , - , * , / } /\n",
            "Answer is  3.0\n"
          ]
        }
      ]
    },
    {
      "cell_type": "code",
      "source": [],
      "metadata": {
        "id": "Gfz7X1R1SOBa"
      },
      "execution_count": null,
      "outputs": []
    }
  ]
}
