{
  "nbformat": 4,
  "nbformat_minor": 0,
  "metadata": {
    "colab": {
      "provenance": []
    },
    "kernelspec": {
      "name": "python3",
      "display_name": "Python 3"
    },
    "language_info": {
      "name": "python"
    }
  },
  "cells": [
    {
      "cell_type": "markdown",
      "source": [
        "1. "
      ],
      "metadata": {
        "id": "BTfR809gfDlB"
      }
    },
    {
      "cell_type": "code",
      "source": [
        "def shutter(words):\n",
        "  words = words.lower()\n",
        "  print(f\"{words[0:2]}...{words[0:2]}...{words}?\")"
      ],
      "metadata": {
        "id": "fO03RxfwfFHT"
      },
      "execution_count": 14,
      "outputs": []
    },
    {
      "cell_type": "code",
      "source": [
        "words = input(\"Enter the word : \")\n",
        "shutter(words)"
      ],
      "metadata": {
        "colab": {
          "base_uri": "https://localhost:8080/"
        },
        "id": "WmmdBtmff5b2",
        "outputId": "68209117-d923-4d77-9c32-e31c7cd68fca"
      },
      "execution_count": 15,
      "outputs": [
        {
          "output_type": "stream",
          "name": "stdout",
          "text": [
            "Enter the word : Hello__*\n",
            "he...he...hello__*?\n"
          ]
        }
      ]
    },
    {
      "cell_type": "markdown",
      "source": [
        "2. "
      ],
      "metadata": {
        "id": "RfqFEbYjgde6"
      }
    },
    {
      "cell_type": "code",
      "source": [
        "import math\n",
        "def radians_to_degrees(num):\n",
        "  deg = num * (( 180 / math.pi ))\n",
        "  return deg"
      ],
      "metadata": {
        "id": "npDc0572gKpO"
      },
      "execution_count": 25,
      "outputs": []
    },
    {
      "cell_type": "code",
      "source": [
        "num = int(input(\"Enter the angle in radians : \"))\n",
        "degg = round(radians_to_degrees(num),1)\n",
        "print(f\"{num} radians to degree is {degg} \")\n"
      ],
      "metadata": {
        "colab": {
          "base_uri": "https://localhost:8080/"
        },
        "id": "zQVrDy2Sgw72",
        "outputId": "4bb79c43-83c6-42b5-a1c5-c71b56f5dffa"
      },
      "execution_count": 26,
      "outputs": [
        {
          "output_type": "stream",
          "name": "stdout",
          "text": [
            "Enter the angle in radians : 2\n",
            "2 radians to degree is 114.6 \n"
          ]
        }
      ]
    },
    {
      "cell_type": "markdown",
      "source": [
        "3."
      ],
      "metadata": {
        "id": "4XiDZY5ViDaW"
      }
    },
    {
      "cell_type": "code",
      "source": [
        "def is_curzon(num):\n",
        "  n = (( 2**num ) + 1 )\n",
        "  m = (( 2 * num ) + 1 )\n",
        "  if( n % m == 0):\n",
        "    print(f\"{num} is Curzon Number\")\n",
        "\n",
        "  else:\n",
        "    print(f\"{num} is Not Curzon Number\")\n",
        "  "
      ],
      "metadata": {
        "id": "6dYdMho-iEfF"
      },
      "execution_count": 18,
      "outputs": []
    },
    {
      "cell_type": "code",
      "source": [
        "is_curzon(5)"
      ],
      "metadata": {
        "colab": {
          "base_uri": "https://localhost:8080/"
        },
        "id": "OLHbCrheiXL_",
        "outputId": "a2312e34-c840-4807-e3b8-485b0dce804f"
      },
      "execution_count": 19,
      "outputs": [
        {
          "output_type": "stream",
          "name": "stdout",
          "text": [
            "5 is Curzon Number\n"
          ]
        }
      ]
    },
    {
      "cell_type": "code",
      "source": [
        "is_curzon(4)"
      ],
      "metadata": {
        "colab": {
          "base_uri": "https://localhost:8080/"
        },
        "id": "aErmyYKwiX93",
        "outputId": "8291ff9b-aedd-4d1b-8faa-0044a9836dde"
      },
      "execution_count": 20,
      "outputs": [
        {
          "output_type": "stream",
          "name": "stdout",
          "text": [
            "4 is Not Curzon Number\n"
          ]
        }
      ]
    },
    {
      "cell_type": "markdown",
      "source": [
        "4."
      ],
      "metadata": {
        "id": "L6_6Y5uPjVvv"
      }
    },
    {
      "cell_type": "code",
      "source": [
        "import numpy as np\n",
        "def area(side):\n",
        "  area = round( ( (3 * np.sqrt(3) * (side)**2 ) / 2) , 1)\n",
        "  print(f\"Area of Hexagon with side {side} is {area}\")\n"
      ],
      "metadata": {
        "id": "aIrqlolcjOor"
      },
      "execution_count": 21,
      "outputs": []
    },
    {
      "cell_type": "code",
      "source": [
        "side = float(input(\"Enter the side of Hexagon : \"))\n",
        "area(side)"
      ],
      "metadata": {
        "colab": {
          "base_uri": "https://localhost:8080/"
        },
        "id": "g5DRM0Irj7Bm",
        "outputId": "b55ed75d-e39e-4810-fee5-6ab7b172c708"
      },
      "execution_count": 22,
      "outputs": [
        {
          "output_type": "stream",
          "name": "stdout",
          "text": [
            "Enter the side of Hexagon : 5\n",
            "Area of Hexagon with side 5.0 is 65.0\n"
          ]
        }
      ]
    },
    {
      "cell_type": "markdown",
      "source": [
        "5."
      ],
      "metadata": {
        "id": "ivcn6PAqk0jr"
      }
    },
    {
      "cell_type": "code",
      "source": [
        "def base2(num):\n",
        " dec_num = bin(num)[2:]\n",
        " return dec_num"
      ],
      "metadata": {
        "id": "RPPDl33-knxr"
      },
      "execution_count": 23,
      "outputs": []
    },
    {
      "cell_type": "code",
      "source": [
        "base2(10)"
      ],
      "metadata": {
        "colab": {
          "base_uri": "https://localhost:8080/",
          "height": 36
        },
        "id": "7yorkNTepKYT",
        "outputId": "1269bc74-8f6e-4856-cfdf-8e751eb6f173"
      },
      "execution_count": 24,
      "outputs": [
        {
          "output_type": "execute_result",
          "data": {
            "text/plain": [
              "'1010'"
            ],
            "application/vnd.google.colaboratory.intrinsic+json": {
              "type": "string"
            }
          },
          "metadata": {},
          "execution_count": 24
        }
      ]
    },
    {
      "cell_type": "code",
      "source": [],
      "metadata": {
        "id": "3-WYowR7ro9f"
      },
      "execution_count": 24,
      "outputs": []
    }
  ]
}