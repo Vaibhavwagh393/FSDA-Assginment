{
  "nbformat": 4,
  "nbformat_minor": 0,
  "metadata": {
    "colab": {
      "provenance": []
    },
    "kernelspec": {
      "name": "python3",
      "display_name": "Python 3"
    },
    "language_info": {
      "name": "python"
    }
  },
  "cells": [
    {
      "cell_type": "markdown",
      "source": [
        "1. Create a function that takes an integer and returns a list from 1 to the given number, where:\n",
        "--\tIf the number can be divided evenly by 4, amplify it by 10 (i.e. return 10 times the number).\n",
        "\n",
        "--\tIf the number cannot be divided evenly by 4, simply return the number."
      ],
      "metadata": {
        "id": "28RLi6KWjWQ2"
      }
    },
    {
      "cell_type": "code",
      "source": [
        "def amplify(num):\n",
        "  lst=[]\n",
        "  for i in range(1,num+1):\n",
        "    if(i % 4 == 0 ):\n",
        "      lst.append(i*10)\n",
        "    else:\n",
        "      lst.append(i)\n",
        "  return lst"
      ],
      "metadata": {
        "id": "4qxmlv6yjgXs"
      },
      "execution_count": null,
      "outputs": []
    },
    {
      "cell_type": "code",
      "source": [
        "amplify(20)"
      ],
      "metadata": {
        "colab": {
          "base_uri": "https://localhost:8080/"
        },
        "id": "y9Be3wwUj44i",
        "outputId": "bcf5353d-72d2-4735-cc6d-b4406c80111b"
      },
      "execution_count": null,
      "outputs": [
        {
          "output_type": "execute_result",
          "data": {
            "text/plain": [
              "[1, 2, 3, 40, 5, 6, 7, 80, 9, 10, 11, 120, 13, 14, 15, 160, 17, 18, 19, 200]"
            ]
          },
          "metadata": {},
          "execution_count": 72
        }
      ]
    },
    {
      "cell_type": "code",
      "source": [
        "lst = [ i*10 if (i % 4 == 0) else i for i in range(1,10)]   # list comprehension\n",
        "lst"
      ],
      "metadata": {
        "colab": {
          "base_uri": "https://localhost:8080/"
        },
        "id": "PLTRejHPlrM5",
        "outputId": "240c878a-5fdc-4575-8ed2-759d8a90a850"
      },
      "execution_count": null,
      "outputs": [
        {
          "output_type": "execute_result",
          "data": {
            "text/plain": [
              "[1, 2, 3, 40, 5, 6, 7, 80, 9]"
            ]
          },
          "metadata": {},
          "execution_count": 73
        }
      ]
    },
    {
      "cell_type": "markdown",
      "source": [
        "2. Create a function that takes a list of numbers and return the number that's unique.\n",
        "Test cases will always have exactly one unique number while all others are the same."
      ],
      "metadata": {
        "id": "F94ZpuKDlmck"
      }
    },
    {
      "cell_type": "code",
      "source": [
        "def unique(numbers):\n",
        "    count = {}\n",
        "    for num in numbers:\n",
        "        count[num] = count.get(num, 0) + 1\n",
        "    \n",
        "    for num, count in count.items():\n",
        "        if count == 1:\n",
        "            return num"
      ],
      "metadata": {
        "id": "3e9oO--IzWdm"
      },
      "execution_count": null,
      "outputs": []
    },
    {
      "cell_type": "code",
      "source": [
        "unique([3, 3, 3, 7, 3, 3]) "
      ],
      "metadata": {
        "colab": {
          "base_uri": "https://localhost:8080/"
        },
        "id": "T9PyaIcdyZ0h",
        "outputId": "d41871c9-5cc2-4bbb-c6c3-9f7016e1177b"
      },
      "execution_count": null,
      "outputs": [
        {
          "output_type": "execute_result",
          "data": {
            "text/plain": [
              "7"
            ]
          },
          "metadata": {},
          "execution_count": 75
        }
      ]
    },
    {
      "cell_type": "markdown",
      "source": [
        "3. Your task is to create a Circle constructor that creates a circle with a radius provided by an argument. The circles constructed must have two getters getArea() (PIr^2) and getPerimeter() (2PI*r) which give both respective areas and perimeter (circumference)."
      ],
      "metadata": {
        "id": "RUo2i99c0Smc"
      }
    },
    {
      "cell_type": "code",
      "source": [
        "import math\n",
        "class Circle:\n",
        "  def __init__(self,radius):\n",
        "    self.radius = radius\n",
        "  \n",
        "  def getArea(self):\n",
        "    return (math.pi*(self.radius)**2)\n",
        "  \n",
        "  def getPerimeter(self):\n",
        "    return (2*math.pi*(self.radius))\n"
      ],
      "metadata": {
        "id": "HYzypnfM0e_S"
      },
      "execution_count": null,
      "outputs": []
    },
    {
      "cell_type": "code",
      "source": [
        "circy = Circle(11)\n",
        "circy.getArea()"
      ],
      "metadata": {
        "colab": {
          "base_uri": "https://localhost:8080/"
        },
        "id": "OdEC3fCa159L",
        "outputId": "f8a9e3e3-15c0-43c7-e5d7-5c7ebd5674e3"
      },
      "execution_count": null,
      "outputs": [
        {
          "output_type": "execute_result",
          "data": {
            "text/plain": [
              "380.132711084365"
            ]
          },
          "metadata": {},
          "execution_count": 77
        }
      ]
    },
    {
      "cell_type": "code",
      "source": [
        "circy = Circle(4.44)\n",
        "circy.getPerimeter()"
      ],
      "metadata": {
        "colab": {
          "base_uri": "https://localhost:8080/"
        },
        "id": "XOIAT95X1772",
        "outputId": "72d8651b-0253-4d57-a887-3e96c85d969b"
      },
      "execution_count": null,
      "outputs": [
        {
          "output_type": "execute_result",
          "data": {
            "text/plain": [
              "27.897342763877365"
            ]
          },
          "metadata": {},
          "execution_count": 78
        }
      ]
    },
    {
      "cell_type": "markdown",
      "source": [
        "4. Create a function that takes a list of strings and return a list, sorted from shortest to longest."
      ],
      "metadata": {
        "id": "L_83geN_mxrX"
      }
    },
    {
      "cell_type": "code",
      "source": [
        "def sort_by_length(lst):\n",
        "  return sorted(lst , key=len)"
      ],
      "metadata": {
        "id": "WQATsoQqtGM4"
      },
      "execution_count": null,
      "outputs": []
    },
    {
      "cell_type": "code",
      "source": [
        "sort_by_length([\"Google\", \"Apple\", \"Microsoft\"])"
      ],
      "metadata": {
        "colab": {
          "base_uri": "https://localhost:8080/"
        },
        "id": "2JdXEsp7tfY3",
        "outputId": "c0d28218-4dca-424b-c936-85dbc52c4a7a"
      },
      "execution_count": null,
      "outputs": [
        {
          "output_type": "execute_result",
          "data": {
            "text/plain": [
              "['Apple', 'Google', 'Microsoft']"
            ]
          },
          "metadata": {},
          "execution_count": 80
        }
      ]
    },
    {
      "cell_type": "code",
      "source": [
        "sort_by_length([\"Turing\", \"Einstein\", \"Jung\"])"
      ],
      "metadata": {
        "colab": {
          "base_uri": "https://localhost:8080/"
        },
        "id": "Ometmk69wo6Z",
        "outputId": "6957b6bf-dd0a-4b2f-e45a-a5e9e23a7674"
      },
      "execution_count": null,
      "outputs": [
        {
          "output_type": "execute_result",
          "data": {
            "text/plain": [
              "['Jung', 'Turing', 'Einstein']"
            ]
          },
          "metadata": {},
          "execution_count": 81
        }
      ]
    },
    {
      "cell_type": "markdown",
      "source": [
        "5. Create a function that validates whether three given integers form a Pythagorean triplet. The sum of the squares of the two smallest integers must equal the square of the largest number to be validated."
      ],
      "metadata": {
        "id": "UBK-bX05nHZV"
      }
    },
    {
      "cell_type": "code",
      "source": [
        "def is_triplet(a,b,c):\n",
        "  a = a**2\n",
        "  b = b**2\n",
        "  c = c**2\n",
        "  if (a+b==c):\n",
        "    return True\n",
        "  elif(b+c==a):\n",
        "    return True\n",
        "  elif(c+a==b):\n",
        "    return True\n",
        "  else:\n",
        "    return False\n"
      ],
      "metadata": {
        "id": "NQqijQrTnLuw"
      },
      "execution_count": null,
      "outputs": []
    },
    {
      "cell_type": "code",
      "source": [
        "is_triplet(4,5,3)"
      ],
      "metadata": {
        "colab": {
          "base_uri": "https://localhost:8080/"
        },
        "id": "DkdOS1nrlV67",
        "outputId": "3fc3226a-93bf-446e-c477-e4610c1eadf3"
      },
      "execution_count": null,
      "outputs": [
        {
          "output_type": "execute_result",
          "data": {
            "text/plain": [
              "True"
            ]
          },
          "metadata": {},
          "execution_count": 83
        }
      ]
    },
    {
      "cell_type": "code",
      "source": [
        "is_triplet(5,6,7)"
      ],
      "metadata": {
        "colab": {
          "base_uri": "https://localhost:8080/"
        },
        "id": "ST_NPZuys2wn",
        "outputId": "83209092-7d65-4068-9c10-e0e7250d132b"
      },
      "execution_count": null,
      "outputs": [
        {
          "output_type": "execute_result",
          "data": {
            "text/plain": [
              "False"
            ]
          },
          "metadata": {},
          "execution_count": 84
        }
      ]
    },
    {
      "cell_type": "code",
      "source": [],
      "metadata": {
        "id": "iNhf8uWes5dF"
      },
      "execution_count": null,
      "outputs": []
    }
  ]
}
