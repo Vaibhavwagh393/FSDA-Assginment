{
  "nbformat": 4,
  "nbformat_minor": 0,
  "metadata": {
    "colab": {
      "provenance": []
    },
    "kernelspec": {
      "name": "python3",
      "display_name": "Python 3"
    },
    "language_info": {
      "name": "python"
    }
  },
  "cells": [
    {
      "cell_type": "markdown",
      "source": [
        "**1.How many seconds are in an hour? Use the interactive interpreter as a calculator and multiply the number of seconds in a minute (60) by the number of minutes in an hour (also 60).**\n"
      ],
      "metadata": {
        "id": "kzDFl2t7pYSC"
      }
    },
    {
      "cell_type": "code",
      "source": [
        "# In 1 Hour 3600  seconds are present\n",
        "sec = 60 * 60\n",
        "sec"
      ],
      "metadata": {
        "colab": {
          "base_uri": "https://localhost:8080/"
        },
        "id": "d3CyHGYiqq--",
        "outputId": "248d98c7-ee30-465a-bf75-6fa781d686ff"
      },
      "execution_count": 1,
      "outputs": [
        {
          "output_type": "execute_result",
          "data": {
            "text/plain": [
              "3600"
            ]
          },
          "metadata": {},
          "execution_count": 1
        }
      ]
    },
    {
      "cell_type": "markdown",
      "source": [
        "**2. Assign the result from the previous task (seconds in an hour) to a variable called seconds_per_hour.**\n"
      ],
      "metadata": {
        "id": "FKlU3Rj1pYaR"
      }
    },
    {
      "cell_type": "code",
      "source": [
        "seconds_per_hour = sec\n",
        "seconds_per_hour"
      ],
      "metadata": {
        "colab": {
          "base_uri": "https://localhost:8080/"
        },
        "id": "JZHtbd__rC2A",
        "outputId": "ca0867e9-017d-44bf-e713-5c1c0c054a03"
      },
      "execution_count": 2,
      "outputs": [
        {
          "output_type": "execute_result",
          "data": {
            "text/plain": [
              "3600"
            ]
          },
          "metadata": {},
          "execution_count": 2
        }
      ]
    },
    {
      "cell_type": "markdown",
      "source": [
        "**3. How many seconds do you think there are in a day? Make use of the variables seconds per hour and minutes per hour.**\n"
      ],
      "metadata": {
        "id": "MeWoQ3i_pYeA"
      }
    },
    {
      "cell_type": "code",
      "source": [
        "hours_in_one_day = 24\n",
        "seconds_per_hour = 3600\n",
        "minutes_per_hour = 60\n",
        "\n",
        "seconds_in_day = hours_in_one_day * seconds_per_hour\n",
        "seconds_in_day"
      ],
      "metadata": {
        "colab": {
          "base_uri": "https://localhost:8080/"
        },
        "id": "kpRB4jPErLZ_",
        "outputId": "771ea649-0be0-4537-e81d-c9bd86edb4df"
      },
      "execution_count": 4,
      "outputs": [
        {
          "output_type": "execute_result",
          "data": {
            "text/plain": [
              "86400"
            ]
          },
          "metadata": {},
          "execution_count": 4
        }
      ]
    },
    {
      "cell_type": "markdown",
      "source": [
        "**4. Calculate seconds per day again, but this time save the result in a variable called seconds_per_day**\n"
      ],
      "metadata": {
        "id": "DlIyBrTEpYfx"
      }
    },
    {
      "cell_type": "code",
      "source": [
        "seconds_per_day = seconds_per_hour * 24\n",
        "seconds_per_day"
      ],
      "metadata": {
        "colab": {
          "base_uri": "https://localhost:8080/"
        },
        "id": "cIrRETSZsTjy",
        "outputId": "91606659-665a-4825-8f33-8e4c5d8ac9c9"
      },
      "execution_count": 6,
      "outputs": [
        {
          "output_type": "execute_result",
          "data": {
            "text/plain": [
              "86400"
            ]
          },
          "metadata": {},
          "execution_count": 6
        }
      ]
    },
    {
      "cell_type": "markdown",
      "source": [
        "**5. Divide seconds_per_day by seconds_per_hour. Use floating-point (/) division.**\n"
      ],
      "metadata": {
        "id": "Qj1c0QmTpYiV"
      }
    },
    {
      "cell_type": "code",
      "source": [
        "seconds_per_day / seconds_per_hour"
      ],
      "metadata": {
        "colab": {
          "base_uri": "https://localhost:8080/"
        },
        "id": "lpug7sERscJf",
        "outputId": "2b191be1-5d2e-4cd8-f412-3e3d30ae9e84"
      },
      "execution_count": 7,
      "outputs": [
        {
          "output_type": "execute_result",
          "data": {
            "text/plain": [
              "24.0"
            ]
          },
          "metadata": {},
          "execution_count": 7
        }
      ]
    },
    {
      "cell_type": "markdown",
      "source": [
        "**6. Divide seconds_per_day by seconds_per_hour, using integer (//) division. Did this number agree with the floating-point value from the previous question, aside from the final .0?**\n"
      ],
      "metadata": {
        "id": "5Zn8W1qJpYkS"
      }
    },
    {
      "cell_type": "code",
      "source": [
        "seconds_per_day // seconds_per_hour\n",
        "# yes answer match with above question"
      ],
      "metadata": {
        "colab": {
          "base_uri": "https://localhost:8080/"
        },
        "id": "woQweP-NsifM",
        "outputId": "2202f235-28a3-4121-d18e-a4cc56b7102c"
      },
      "execution_count": 8,
      "outputs": [
        {
          "output_type": "execute_result",
          "data": {
            "text/plain": [
              "24"
            ]
          },
          "metadata": {},
          "execution_count": 8
        }
      ]
    },
    {
      "cell_type": "markdown",
      "source": [
        "**7. Write a generator, genPrimes, that returns the sequence of prime numbers on successive calls to its next() method: 2, 3, 5, 7, 11, ...**"
      ],
      "metadata": {
        "id": "Iut-pDMKpYmk"
      }
    },
    {
      "cell_type": "code",
      "source": [
        "def genPrimes():\n",
        "    prime_numbers = []\n",
        "    for num in range(2, 15):\n",
        "        is_prime = True\n",
        "        for prime in prime_numbers:\n",
        "            if num % prime == 0:\n",
        "                is_prime = False\n",
        "                break\n",
        "        if is_prime:\n",
        "            prime_numbers.append(num)\n",
        "            yield num\n",
        "\n",
        "# Create an instance of the generator\n",
        "prime_generator = genPrimes()\n",
        "\n",
        "# Generate prime numbers using a for loop\n",
        "for _ in range(5):\n",
        "    print(next(prime_generator))\n"
      ],
      "metadata": {
        "colab": {
          "base_uri": "https://localhost:8080/"
        },
        "id": "qC9O6WETs_lg",
        "outputId": "441d752f-b732-4279-98cd-75fedf0fa784"
      },
      "execution_count": 11,
      "outputs": [
        {
          "output_type": "stream",
          "name": "stdout",
          "text": [
            "2\n",
            "3\n",
            "5\n",
            "7\n",
            "11\n"
          ]
        }
      ]
    },
    {
      "cell_type": "code",
      "source": [],
      "metadata": {
        "id": "ONMgpLzPtIPg"
      },
      "execution_count": null,
      "outputs": []
    }
  ]
}