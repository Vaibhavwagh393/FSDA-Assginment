{
  "nbformat": 4,
  "nbformat_minor": 0,
  "metadata": {
    "colab": {
      "provenance": []
    },
    "kernelspec": {
      "name": "python3",
      "display_name": "Python 3"
    },
    "language_info": {
      "name": "python"
    }
  },
  "cells": [
    {
      "cell_type": "markdown",
      "source": [
        "2. Given a string of numbers separated by a comma and space, return the product of the numbers."
      ],
      "metadata": {
        "id": "vatPADQ6tD4p"
      }
    },
    {
      "cell_type": "code",
      "source": [
        "def multiply_nums(string):\n",
        "    mul = 1\n",
        "    nums = string.split(\",\")\n",
        "    for i in nums:\n",
        "            mul = mul * int(i)\n",
        "    return mul\n"
      ],
      "metadata": {
        "id": "2ik7ARn1wf9C"
      },
      "execution_count": 33,
      "outputs": []
    },
    {
      "cell_type": "code",
      "source": [
        "multiply_nums(\"2, 3\") "
      ],
      "metadata": {
        "colab": {
          "base_uri": "https://localhost:8080/"
        },
        "id": "pVSofuEjvTaF",
        "outputId": "ddeda000-09d0-4391-8847-a423d1841374"
      },
      "execution_count": 34,
      "outputs": [
        {
          "output_type": "execute_result",
          "data": {
            "text/plain": [
              "6"
            ]
          },
          "metadata": {},
          "execution_count": 34
        }
      ]
    },
    {
      "cell_type": "code",
      "source": [
        "multiply_nums(\"10, -2\")"
      ],
      "metadata": {
        "colab": {
          "base_uri": "https://localhost:8080/"
        },
        "id": "eM6E0r7Mve4E",
        "outputId": "006165c4-a6dc-4da5-932e-7e1e35ceaccb"
      },
      "execution_count": 35,
      "outputs": [
        {
          "output_type": "execute_result",
          "data": {
            "text/plain": [
              "-20"
            ]
          },
          "metadata": {},
          "execution_count": 35
        }
      ]
    },
    {
      "cell_type": "markdown",
      "source": [
        "3. Create a function that squares every digit of a number.\n",
        "The function receives an integer and must return an integer."
      ],
      "metadata": {
        "id": "oLvFstFbzfKS"
      }
    },
    {
      "cell_type": "code",
      "source": [
        "def square_digits(num):\n",
        "  nums = str(num)\n",
        "  strr = ''\n",
        "  for i in nums:\n",
        "    ans = int(i)*int(i)\n",
        "    strr =  strr + str(ans)\n",
        "  return int(strr)\n"
      ],
      "metadata": {
        "id": "W94DRT9hw9pp"
      },
      "execution_count": 36,
      "outputs": []
    },
    {
      "cell_type": "code",
      "source": [
        "square_digits(52)"
      ],
      "metadata": {
        "colab": {
          "base_uri": "https://localhost:8080/"
        },
        "id": "RrKbz1No0ezG",
        "outputId": "635f0c3e-af40-4430-9412-df3a42660fe8"
      },
      "execution_count": 37,
      "outputs": [
        {
          "output_type": "execute_result",
          "data": {
            "text/plain": [
              "254"
            ]
          },
          "metadata": {},
          "execution_count": 37
        }
      ]
    },
    {
      "cell_type": "code",
      "source": [
        "square_digits(2483)"
      ],
      "metadata": {
        "colab": {
          "base_uri": "https://localhost:8080/"
        },
        "id": "n2daGO_rz2lK",
        "outputId": "635d5b56-daaf-427a-c82e-14bc11444518"
      },
      "execution_count": 38,
      "outputs": [
        {
          "output_type": "execute_result",
          "data": {
            "text/plain": [
              "416649"
            ]
          },
          "metadata": {},
          "execution_count": 38
        }
      ]
    },
    {
      "cell_type": "markdown",
      "source": [
        "4. Create a function that sorts a list and removes all duplicate items from it."
      ],
      "metadata": {
        "id": "crkYUJ9cwjr5"
      }
    },
    {
      "cell_type": "code",
      "source": [
        "def setify(lst):\n",
        "  return list(set(lst))"
      ],
      "metadata": {
        "id": "5OjYeVSmwTuE"
      },
      "execution_count": 39,
      "outputs": []
    },
    {
      "cell_type": "code",
      "source": [
        "def setify_1(lst):\n",
        "  un_lst = []\n",
        "  for i in lst:\n",
        "    if i not in un_lst:\n",
        "      un_lst.append(i)\n",
        "  return un_lst"
      ],
      "metadata": {
        "id": "yIazCOqGxgT7"
      },
      "execution_count": 40,
      "outputs": []
    },
    {
      "cell_type": "code",
      "source": [
        "setify_1([1, 3, 3, 5, 5])"
      ],
      "metadata": {
        "colab": {
          "base_uri": "https://localhost:8080/"
        },
        "id": "afopl4hXw68P",
        "outputId": "b9729700-cb5d-4b97-ac3f-cb2ecbcbb801"
      },
      "execution_count": 41,
      "outputs": [
        {
          "output_type": "execute_result",
          "data": {
            "text/plain": [
              "[1, 3, 5]"
            ]
          },
          "metadata": {},
          "execution_count": 41
        }
      ]
    },
    {
      "cell_type": "code",
      "source": [
        "setify([5, 7, 8, 9, 10, 15])"
      ],
      "metadata": {
        "colab": {
          "base_uri": "https://localhost:8080/"
        },
        "id": "JNKAAZ4bw-I7",
        "outputId": "fb62bc98-6976-4e44-96e1-029a35cf24ee"
      },
      "execution_count": 42,
      "outputs": [
        {
          "output_type": "execute_result",
          "data": {
            "text/plain": [
              "[5, 7, 8, 9, 10, 15]"
            ]
          },
          "metadata": {},
          "execution_count": 42
        }
      ]
    },
    {
      "cell_type": "code",
      "source": [
        "setify([3, 3, 3, 2, 1]) "
      ],
      "metadata": {
        "colab": {
          "base_uri": "https://localhost:8080/"
        },
        "id": "5I2nuA2hxNEt",
        "outputId": "a370fb78-29e9-4b92-a8b5-8dad3482fb17"
      },
      "execution_count": 43,
      "outputs": [
        {
          "output_type": "execute_result",
          "data": {
            "text/plain": [
              "[1, 2, 3]"
            ]
          },
          "metadata": {},
          "execution_count": 43
        }
      ]
    },
    {
      "cell_type": "code",
      "source": [
        "setify([4, 4, 4, 4, 4]) "
      ],
      "metadata": {
        "colab": {
          "base_uri": "https://localhost:8080/"
        },
        "id": "bu6n6ILYxQKf",
        "outputId": "388fbe46-5528-42cd-c7c6-a9d9d622b233"
      },
      "execution_count": 44,
      "outputs": [
        {
          "output_type": "execute_result",
          "data": {
            "text/plain": [
              "[4]"
            ]
          },
          "metadata": {},
          "execution_count": 44
        }
      ]
    },
    {
      "cell_type": "markdown",
      "source": [
        "5. Create a function that returns the mean of all digits."
      ],
      "metadata": {
        "id": "0E4vx2d2yDY8"
      }
    },
    {
      "cell_type": "code",
      "source": [
        "def mean(num):\n",
        "  sum = 0\n",
        "  number = str(num)\n",
        "  for i in number:\n",
        "    sum = sum + int(i)\n",
        "  mean = sum / len(number)\n",
        "  return mean"
      ],
      "metadata": {
        "id": "9j-2Xs4dxTRX"
      },
      "execution_count": 45,
      "outputs": []
    },
    {
      "cell_type": "code",
      "source": [
        "mean(42)"
      ],
      "metadata": {
        "colab": {
          "base_uri": "https://localhost:8080/"
        },
        "id": "-Tx9XH5byqT4",
        "outputId": "0c7fde1c-24ba-48eb-8cd3-8a562fc040ab"
      },
      "execution_count": 46,
      "outputs": [
        {
          "output_type": "execute_result",
          "data": {
            "text/plain": [
              "3.0"
            ]
          },
          "metadata": {},
          "execution_count": 46
        }
      ]
    },
    {
      "cell_type": "code",
      "source": [
        "mean(666)"
      ],
      "metadata": {
        "colab": {
          "base_uri": "https://localhost:8080/"
        },
        "id": "MZsyDMxLytRS",
        "outputId": "6b15255e-1f84-473e-c697-3fe8213eb3a0"
      },
      "execution_count": 47,
      "outputs": [
        {
          "output_type": "execute_result",
          "data": {
            "text/plain": [
              "6.0"
            ]
          },
          "metadata": {},
          "execution_count": 47
        }
      ]
    },
    {
      "cell_type": "code",
      "source": [
        "mean(12345)"
      ],
      "metadata": {
        "colab": {
          "base_uri": "https://localhost:8080/"
        },
        "id": "gkz7uW58yybm",
        "outputId": "ab12bde4-219f-4e1f-e533-6559344753f3"
      },
      "execution_count": 48,
      "outputs": [
        {
          "output_type": "execute_result",
          "data": {
            "text/plain": [
              "3.0"
            ]
          },
          "metadata": {},
          "execution_count": 48
        }
      ]
    },
    {
      "cell_type": "code",
      "source": [],
      "metadata": {
        "id": "Ghc084WJyztL"
      },
      "execution_count": 48,
      "outputs": []
    }
  ]
}