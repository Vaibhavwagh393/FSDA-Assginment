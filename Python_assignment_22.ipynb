{
  "nbformat": 4,
  "nbformat_minor": 0,
  "metadata": {
    "colab": {
      "provenance": []
    },
    "kernelspec": {
      "name": "python3",
      "display_name": "Python 3"
    },
    "language_info": {
      "name": "python"
    }
  },
  "cells": [
    {
      "cell_type": "markdown",
      "source": [
        "1. What is the result of the code, and explain?\n",
        "X = 'iNeuron'\n",
        "def func():\n",
        "print(X)"
      ],
      "metadata": {
        "id": "JWpshGlr2D3h"
      }
    },
    {
      "cell_type": "code",
      "source": [
        "X = 'iNeuron'\n",
        "def func():\n",
        "  print(X)\n",
        "\n",
        "func()"
      ],
      "metadata": {
        "colab": {
          "base_uri": "https://localhost:8080/"
        },
        "id": "R1bT09NP2EXD",
        "outputId": "06350e9c-6be4-4d2b-d655-9cff4a9d581c"
      },
      "execution_count": 4,
      "outputs": [
        {
          "output_type": "stream",
          "name": "stdout",
          "text": [
            "iNeuron\n"
          ]
        }
      ]
    },
    {
      "cell_type": "markdown",
      "source": [
        "2. What is the result of the code, and explain?\n",
        " X = 'iNeuron'\n",
        " def func():\n",
        " X = 'NI!'\n",
        "func()\n",
        "print(X)"
      ],
      "metadata": {
        "id": "foDGf3en2ogY"
      }
    },
    {
      "cell_type": "code",
      "source": [
        "X = 'iNeuron'\n",
        "def func():\n",
        "    X = 'NI!'\n",
        "    print(X)\n",
        "\n",
        "func()\n",
        "#When the function func() is called, it creates a new local variable X and assigns it the value 'NI!'.\n",
        "#The print(X) statement inside the function then prints the value of the local variable X, which is 'NI!'."
      ],
      "metadata": {
        "colab": {
          "base_uri": "https://localhost:8080/"
        },
        "id": "wuc2O39e3GMZ",
        "outputId": "054383fd-16fb-42ab-c63d-28413f0c3ed9"
      },
      "execution_count": 14,
      "outputs": [
        {
          "output_type": "stream",
          "name": "stdout",
          "text": [
            "NI!\n"
          ]
        }
      ]
    },
    {
      "cell_type": "markdown",
      "source": [
        "3. What does this code print, and why?\n",
        "X = 'iNeuron'\n",
        "def func():\n",
        "X = 'NI'\n",
        "print(X)\n",
        "func()\n",
        "print(X)\n",
        "\n"
      ],
      "metadata": {
        "id": "nTMUsoKP2okX"
      }
    },
    {
      "cell_type": "code",
      "source": [
        "X = 'iNeuron'\n",
        "def func():\n",
        "    X = 'NI'\n",
        "    print(X)\n",
        "func()\n",
        "print(X)\n",
        "\n",
        "#When the function func() is called, it creates a new local variable X and assigns it the value 'NI'.\n",
        "#The print(X) statement inside the function then prints the value of the local variable X, which is 'NI'.\n",
        "#After the function call, when print(X) is executed outside the function, it prints the value of the global variable X, which is 'iNeuron'."
      ],
      "metadata": {
        "colab": {
          "base_uri": "https://localhost:8080/"
        },
        "id": "PyxVnZpt361S",
        "outputId": "1557e2ff-e009-4f36-f793-c5a95b6108b1"
      },
      "execution_count": 15,
      "outputs": [
        {
          "output_type": "stream",
          "name": "stdout",
          "text": [
            "NI\n",
            "iNeuron\n"
          ]
        }
      ]
    },
    {
      "cell_type": "markdown",
      "source": [
        "4. What output does this code produce? Why?\n",
        ">>> X = 'iNeuron'\n",
        ">>> def func():\n",
        "global X\n",
        "X = 'NI'\n",
        ">>> func()\n",
        ">>> print(X)\n"
      ],
      "metadata": {
        "id": "xaGdZlAd2ome"
      }
    },
    {
      "cell_type": "code",
      "source": [
        "X = 'iNeuron'\n",
        "def func():\n",
        "    global X\n",
        "\n",
        "X = 'NI'\n",
        "func()\n",
        "print(X)\n",
        "#The output of the code is NI. the global keyword allows a variable to be accessible in the current scope.\n",
        "#since we are using global keyword inside the function func it directly access the variable in X in global scope.\n",
        "#and changes its value to NI. hence the output of the code is NI"
      ],
      "metadata": {
        "colab": {
          "base_uri": "https://localhost:8080/"
        },
        "id": "ZrwtAeAW5WO0",
        "outputId": "a7747791-3a3d-4a28-d31e-0e40533359d1"
      },
      "execution_count": 16,
      "outputs": [
        {
          "output_type": "stream",
          "name": "stdout",
          "text": [
            "NI\n"
          ]
        }
      ]
    },
    {
      "cell_type": "markdown",
      "source": [
        "5. What about this code—what’s the output, and why?\n",
        ">>> X = 'iNeuron'\n",
        ">>> def func():\n",
        "X = 'NI'\n",
        "def nested():\n",
        "print(X)\n",
        "nested()\n",
        ">>> func()\n",
        ">>> X\n"
      ],
      "metadata": {
        "id": "WMa0jVVy2opI"
      }
    },
    {
      "cell_type": "code",
      "source": [
        "X = 'iNeuron'\n",
        "def func():\n",
        "    X = 'NI'\n",
        "    def nested():\n",
        "        print(X)\n",
        "    nested()\n",
        "\n",
        "func()\n",
        "X"
      ],
      "metadata": {
        "colab": {
          "base_uri": "https://localhost:8080/",
          "height": 53
        },
        "id": "by0Yi59-5q_D",
        "outputId": "9107606f-720a-49d8-a3db-1f9cfee7c868"
      },
      "execution_count": 21,
      "outputs": [
        {
          "output_type": "stream",
          "name": "stdout",
          "text": [
            "NI\n"
          ]
        },
        {
          "output_type": "execute_result",
          "data": {
            "text/plain": [
              "'iNeuron'"
            ],
            "application/vnd.google.colaboratory.intrinsic+json": {
              "type": "string"
            }
          },
          "metadata": {},
          "execution_count": 21
        }
      ]
    },
    {
      "cell_type": "markdown",
      "source": [
        "6. How about this code: what is its output in Python 3, and explain?\n",
        ">>> def func():\n",
        "X = 'NI'\n",
        "def nested():\n",
        "nonlocal X\n",
        "X = 'Spam'\n",
        "nested()\n",
        "print(X)\n",
        ">>> func()"
      ],
      "metadata": {
        "id": "0G84Z9Oq29FH"
      }
    },
    {
      "cell_type": "code",
      "source": [
        "def func():\n",
        "  X = 'NI'\n",
        "  def nested():\n",
        "    nonlocal X\n",
        "    X = 'Spam'\n",
        "  nested()\n",
        "  print(X)\n",
        "func()"
      ],
      "metadata": {
        "colab": {
          "base_uri": "https://localhost:8080/"
        },
        "id": "0V-Oq9Lx6YQU",
        "outputId": "03f69c40-dbb8-402d-9687-63f05decda77"
      },
      "execution_count": 22,
      "outputs": [
        {
          "output_type": "stream",
          "name": "stdout",
          "text": [
            "Spam\n"
          ]
        }
      ]
    },
    {
      "cell_type": "code",
      "source": [],
      "metadata": {
        "id": "g0rUZ0-n6jh-"
      },
      "execution_count": null,
      "outputs": []
    }
  ]
}