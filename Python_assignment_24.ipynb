{
  "nbformat": 4,
  "nbformat_minor": 0,
  "metadata": {
    "colab": {
      "provenance": []
    },
    "kernelspec": {
      "name": "python3",
      "display_name": "Python 3"
    },
    "language_info": {
      "name": "python"
    }
  },
  "cells": [
    {
      "cell_type": "markdown",
      "source": [
        "**1. What is the relationship between def statements and lambda expressions ?**\n",
        "-- > The main difference between def statements and lambda expressions is that def statements define named functions with a block of code, while lambda expressions create anonymous functions on a single line."
      ],
      "metadata": {
        "id": "_J5rvbpcBLNq"
      }
    },
    {
      "cell_type": "markdown",
      "source": [
        "**2. What is the benefit of lambda?**\n",
        "--> The benefit of lambda expressions is their conciseness and ability to create small, inline functions without the need for defining a named function separately. They are useful in situations where a function is required as an argument or when a small function needs to be defined quickly."
      ],
      "metadata": {
        "id": "9ENQ_hMrBLRJ"
      }
    },
    {
      "cell_type": "markdown",
      "source": [
        "**3. Compare and contrast map, filter, and reduce.**\n",
        "*  **map** applies a given function to each item in an iterable and returns an iterator of the results.\n",
        "*  **filter** applies a given predicate function to each item in an iterable and returns an iterator containing only the items for which the predicate returns True.\n",
        "*  **reduce** applies a given binary function to the items of an iterable in a cumulative way, reducing the iterable to a single value\n",
        "\n"
      ],
      "metadata": {
        "id": "LFx7YY7FBLTq"
      }
    },
    {
      "cell_type": "code",
      "source": [
        "numbers = [1, 2, 3, 4, 5]\n",
        "squared_numbers = list(map(lambda x: x**2, numbers))\n",
        "squared_numbers"
      ],
      "metadata": {
        "colab": {
          "base_uri": "https://localhost:8080/"
        },
        "id": "7gVbmzy8CiPt",
        "outputId": "d4991889-93a0-4bd8-f480-c2c761cfc313"
      },
      "execution_count": 4,
      "outputs": [
        {
          "output_type": "execute_result",
          "data": {
            "text/plain": [
              "[1, 4, 9, 16, 25]"
            ]
          },
          "metadata": {},
          "execution_count": 4
        }
      ]
    },
    {
      "cell_type": "code",
      "source": [
        "numbers = [1, 2, 3, 4, 5]\n",
        "even_numbers = list(filter(lambda x: x % 2 == 0, numbers))\n",
        "even_numbers"
      ],
      "metadata": {
        "colab": {
          "base_uri": "https://localhost:8080/"
        },
        "id": "hmS5XpRnCjk4",
        "outputId": "907356ab-06e9-4813-a246-c83f186edc17"
      },
      "execution_count": 9,
      "outputs": [
        {
          "output_type": "execute_result",
          "data": {
            "text/plain": [
              "[2, 4]"
            ]
          },
          "metadata": {},
          "execution_count": 9
        }
      ]
    },
    {
      "cell_type": "code",
      "source": [
        "from functools import reduce\n",
        "numbers = [1, 2, 3, 4, 5]\n",
        "product = reduce(lambda x, y: x * y, numbers)\n",
        "product\n"
      ],
      "metadata": {
        "colab": {
          "base_uri": "https://localhost:8080/"
        },
        "id": "xp-ykDhGCnWW",
        "outputId": "a5294a96-bba6-4638-c962-f52115867a4e"
      },
      "execution_count": 6,
      "outputs": [
        {
          "output_type": "execute_result",
          "data": {
            "text/plain": [
              "120"
            ]
          },
          "metadata": {},
          "execution_count": 6
        }
      ]
    },
    {
      "cell_type": "markdown",
      "source": [
        "**4. What are function annotations, and how are they used?**\n",
        "--> They provide hints or documentation about the expected types or behavior of the function. Annotations are defined using a colon (:) after the parameter or return value name, followed by the annotation expression.\n"
      ],
      "metadata": {
        "id": "f3B8vIEkB6KS"
      }
    },
    {
      "cell_type": "code",
      "source": [
        "def add(a: int, b: int) -> int:\n",
        "    return a * b\n"
      ],
      "metadata": {
        "id": "u4-7aqK3DL7K"
      },
      "execution_count": 10,
      "outputs": []
    },
    {
      "cell_type": "markdown",
      "source": [
        "**5. What are recursive functions, and how are they used?**\n",
        "--> Recursive functions are functions that call themselves during their execution. They are used to solve problems that can be broken down into smaller subproblems of the same nature\n"
      ],
      "metadata": {
        "id": "xbuqmn--B6M9"
      }
    },
    {
      "cell_type": "code",
      "source": [
        "def factorial(n):\n",
        "    if n == 0:\n",
        "        return 1\n",
        "    else:\n",
        "        return n * factorial(n-1)\n"
      ],
      "metadata": {
        "id": "Hv1SMqHeDZw8"
      },
      "execution_count": 11,
      "outputs": []
    },
    {
      "cell_type": "markdown",
      "source": [
        "**6. What are some general design guidelines for coding functions?**\n",
        "-->\n",
        "*  Functions should be short and focused on performing a single task.\n",
        "*  Functions should have clear names that describe their purpose.\n",
        "*  Functions should have proper documentation, including docstrings, to explain their usage and behavior.\n",
        "*  Functions should follow the principle of \"Don't Repeat Yourself\" (DRY) to avoid code duplication."
      ],
      "metadata": {
        "id": "esDUjZxjB6PR"
      }
    },
    {
      "cell_type": "markdown",
      "source": [
        "**7. Name three or more ways that functions can communicate results to a caller.**\n",
        "-->\n",
        "*  Returning a value using the return statement.\n",
        "*  Modifying global variables.\n",
        "*  Raising exceptions to indicate errors or special conditions.\n",
        "*  Printing output directly to the console"
      ],
      "metadata": {
        "id": "J_s4IliGB6So"
      }
    }
  ]
}