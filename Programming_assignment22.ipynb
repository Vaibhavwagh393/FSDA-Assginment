{
  "nbformat": 4,
  "nbformat_minor": 0,
  "metadata": {
    "colab": {
      "provenance": []
    },
    "kernelspec": {
      "name": "python3",
      "display_name": "Python 3"
    },
    "language_info": {
      "name": "python"
    }
  },
  "cells": [
    {
      "cell_type": "markdown",
      "source": [
        "1. Create a function that takes three parameters where:\n",
        "•\tx is the start of the range (inclusive).\n",
        "•\ty is the end of the range (inclusive).\n",
        "•\tn is the divisor to be checked against.\n",
        "Return an ordered list with numbers in the range that are divisible by the third parameter n. Return an empty list if there are no numbers that are divisible by n.\n"
      ],
      "metadata": {
        "id": "vgVpy-EM43ZG"
      }
    },
    {
      "cell_type": "code",
      "source": [
        "def list_operation(start, end, div):\n",
        "  lst=[]\n",
        "  for i in range(start,end+1):\n",
        "    if(i % div == 0):\n",
        "      lst.append(i)\n",
        "  print(lst)    "
      ],
      "metadata": {
        "id": "VVGtxOf4TuVE"
      },
      "execution_count": 19,
      "outputs": []
    },
    {
      "cell_type": "code",
      "source": [
        "list_operation(1,10,3)"
      ],
      "metadata": {
        "colab": {
          "base_uri": "https://localhost:8080/"
        },
        "id": "p8HJ9_-1U3jM",
        "outputId": "b67fd4ba-ca5d-48ba-e3c2-28e591b1a4b2"
      },
      "execution_count": 20,
      "outputs": [
        {
          "output_type": "stream",
          "name": "stdout",
          "text": [
            "[3, 6, 9]\n"
          ]
        }
      ]
    },
    {
      "cell_type": "code",
      "source": [
        "list_operation(5,10,11)"
      ],
      "metadata": {
        "colab": {
          "base_uri": "https://localhost:8080/"
        },
        "id": "lUcFEQn0U8I0",
        "outputId": "a0fc46de-f79c-43a6-f6f5-0d6a844d03a2"
      },
      "execution_count": 21,
      "outputs": [
        {
          "output_type": "stream",
          "name": "stdout",
          "text": [
            "[]\n"
          ]
        }
      ]
    },
    {
      "cell_type": "markdown",
      "source": [
        "2.Create a function that takes in two lists and returns True if the second list follows the first list by one element, and False otherwise. In other words, determine if the second list is the first list shifted to the right by 1.\n",
        "\n",
        "- Both input lists will be of the same length, and will have a minimum length of 2.\n",
        "- The values of the 0-indexed element in the second list and the n-1th indexed element in the first list do not matter.\n"
      ],
      "metadata": {
        "id": "ApgvdoBb4zG3"
      }
    },
    {
      "cell_type": "code",
      "source": [
        "def simon_says(list1, list2):\n",
        "    if list1[1:] == list2[:-1]:\n",
        "        return True\n",
        "    else:\n",
        "        return False"
      ],
      "metadata": {
        "id": "hw4TD7dXlqRI"
      },
      "execution_count": 22,
      "outputs": []
    },
    {
      "cell_type": "code",
      "source": [
        "simon_says([1, 2,], [5, 1])"
      ],
      "metadata": {
        "colab": {
          "base_uri": "https://localhost:8080/"
        },
        "id": "b24oyzaVoEBq",
        "outputId": "ea1cd1f5-eb08-4582-97fb-6d923ae8eb70"
      },
      "execution_count": 23,
      "outputs": [
        {
          "output_type": "execute_result",
          "data": {
            "text/plain": [
              "False"
            ]
          },
          "metadata": {},
          "execution_count": 23
        }
      ]
    },
    {
      "cell_type": "code",
      "source": [
        "simon_says([1, 2, 3, 4, 5], [5, 1, 2, 3, 4])"
      ],
      "metadata": {
        "colab": {
          "base_uri": "https://localhost:8080/"
        },
        "id": "uIhV6ScBo0j3",
        "outputId": "0e727904-505e-499f-cd53-1caa95ff6c2c"
      },
      "execution_count": 24,
      "outputs": [
        {
          "output_type": "execute_result",
          "data": {
            "text/plain": [
              "False"
            ]
          },
          "metadata": {},
          "execution_count": 24
        }
      ]
    },
    {
      "cell_type": "markdown",
      "source": [
        "3. A group of friends have decided to start a secret society. The name will be the first letter of each of their names, sorted in alphabetical order.\n",
        "Create a function that takes in a list of names and returns the name of the secret society.\n"
      ],
      "metadata": {
        "id": "AmQ_wfCb4zKc"
      }
    },
    {
      "cell_type": "code",
      "source": [
        "def society_name(lst):\n",
        "  lst1=[]\n",
        "  for i in range(len(lst)):\n",
        "    lst1.append(lst[i][0])\n",
        "  print(''.join(lst1))"
      ],
      "metadata": {
        "id": "NiLoTdXhWOLv"
      },
      "execution_count": 25,
      "outputs": []
    },
    {
      "cell_type": "code",
      "source": [
        "society_name([\"Adam\", \"Sarah\", \"Malcolm\"]) "
      ],
      "metadata": {
        "colab": {
          "base_uri": "https://localhost:8080/"
        },
        "id": "kVIhTv3PYvuq",
        "outputId": "e953f19f-b7dd-4a99-d84d-1239d841df89"
      },
      "execution_count": 26,
      "outputs": [
        {
          "output_type": "stream",
          "name": "stdout",
          "text": [
            "ASM\n"
          ]
        }
      ]
    },
    {
      "cell_type": "code",
      "source": [
        "society_name([\"Phoebe\", \"Chandler\", \"Rachel\", \"Ross\", \"Monica\", \"Joey\"])"
      ],
      "metadata": {
        "colab": {
          "base_uri": "https://localhost:8080/"
        },
        "id": "WY8y3DUvZpqe",
        "outputId": "a07537d2-f804-4a17-853e-f25a9ae4280d"
      },
      "execution_count": 27,
      "outputs": [
        {
          "output_type": "stream",
          "name": "stdout",
          "text": [
            "PCRRMJ\n"
          ]
        }
      ]
    },
    {
      "cell_type": "markdown",
      "source": [
        "4. An isogram is a word that has no duplicate letters. Create a function that takes a string and returns either True or False depending on whether or not it's an \"isogram\".\n",
        "\n",
        "•\tIgnore letter case (should not be case sensitive).\n",
        "•\tAll test cases contain valid one word strings.\n"
      ],
      "metadata": {
        "id": "p_KgyA094zMS"
      }
    },
    {
      "cell_type": "code",
      "source": [
        "#method 1 :\n",
        "def is_isogram(word):\n",
        "  word1 = ''.join(sorted(word))\n",
        "  count = 0\n",
        "  for i in range(len(word1)-1):\n",
        "    if(word1[i]==word1[i+1]):\n",
        "      count = count + 1;\n",
        "  if(count>0):\n",
        "    print(f\"False\")\n",
        "  else:\n",
        "    print(f\"True\")"
      ],
      "metadata": {
        "id": "wgE1W_ASZwar"
      },
      "execution_count": 28,
      "outputs": []
    },
    {
      "cell_type": "code",
      "source": [
        "is_isogram(\"Consecutive\")"
      ],
      "metadata": {
        "colab": {
          "base_uri": "https://localhost:8080/"
        },
        "id": "tAgpRts2gKzK",
        "outputId": "185c9f90-5179-4f43-c56c-f3d471ce910b"
      },
      "execution_count": 29,
      "outputs": [
        {
          "output_type": "stream",
          "name": "stdout",
          "text": [
            "False\n"
          ]
        }
      ]
    },
    {
      "cell_type": "code",
      "source": [
        "is_isogram('pasSword')"
      ],
      "metadata": {
        "colab": {
          "base_uri": "https://localhost:8080/"
        },
        "id": "YXymnXX3e7Dh",
        "outputId": "6573b4cd-71de-464e-d8aa-1a57c51d98b6"
      },
      "execution_count": 30,
      "outputs": [
        {
          "output_type": "stream",
          "name": "stdout",
          "text": [
            "True\n"
          ]
        }
      ]
    },
    {
      "cell_type": "code",
      "source": [
        "#method 2 : \n",
        "def is_isogram1(word):\n",
        "  word=  word.lower()\n",
        "  if len(word) == len(set(word)):\n",
        "    print(\"True\")\n",
        "  else:\n",
        "    print(\"False\")"
      ],
      "metadata": {
        "id": "1VrFfsDKeO44"
      },
      "execution_count": 31,
      "outputs": []
    },
    {
      "cell_type": "code",
      "source": [
        "is_isogram1('hero')"
      ],
      "metadata": {
        "colab": {
          "base_uri": "https://localhost:8080/"
        },
        "id": "dnWLNVHzcN3-",
        "outputId": "40c08920-e035-4326-d269-c9d406ab2305"
      },
      "execution_count": 32,
      "outputs": [
        {
          "output_type": "stream",
          "name": "stdout",
          "text": [
            "True\n"
          ]
        }
      ]
    },
    {
      "cell_type": "code",
      "source": [
        "is_isogram1('pasSword')"
      ],
      "metadata": {
        "colab": {
          "base_uri": "https://localhost:8080/"
        },
        "id": "-wz7p18yer-g",
        "outputId": "f0aa092e-0231-4694-abd7-f73062edddfa"
      },
      "execution_count": 33,
      "outputs": [
        {
          "output_type": "stream",
          "name": "stdout",
          "text": [
            "False\n"
          ]
        }
      ]
    },
    {
      "cell_type": "markdown",
      "source": [
        "5. Create a function that takes a string and returns True or False, depending on whether the characters are in order or not."
      ],
      "metadata": {
        "id": "iHIA-vkh4zPP"
      }
    },
    {
      "cell_type": "code",
      "source": [
        "def is_in_order(word):\n",
        "  word1 = ''.join(sorted(word))\n",
        "  if(word == word1):\n",
        "    print(\"is in order\")\n",
        "  else:\n",
        "    print(\"not in order\")\n"
      ],
      "metadata": {
        "id": "Ee9mYT145x4k"
      },
      "execution_count": 34,
      "outputs": []
    },
    {
      "cell_type": "code",
      "source": [
        "is_in_order('1253')"
      ],
      "metadata": {
        "colab": {
          "base_uri": "https://localhost:8080/"
        },
        "id": "JV5xfbTq5_JI",
        "outputId": "d4a5bdab-60d5-47a3-8aaa-b56afd9cc508"
      },
      "execution_count": 35,
      "outputs": [
        {
          "output_type": "stream",
          "name": "stdout",
          "text": [
            "not in order\n"
          ]
        }
      ]
    },
    {
      "cell_type": "code",
      "source": [
        "is_in_order('abc')"
      ],
      "metadata": {
        "colab": {
          "base_uri": "https://localhost:8080/"
        },
        "id": "vdGFqD_96QdZ",
        "outputId": "2757a218-92de-40fb-e1a8-4590cbc21f0b"
      },
      "execution_count": 36,
      "outputs": [
        {
          "output_type": "stream",
          "name": "stdout",
          "text": [
            "is in order\n"
          ]
        }
      ]
    },
    {
      "cell_type": "code",
      "source": [],
      "metadata": {
        "id": "sdjl7u2b8O7X"
      },
      "execution_count": 36,
      "outputs": []
    }
  ]
}