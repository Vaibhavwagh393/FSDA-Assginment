{
  "nbformat": 4,
  "nbformat_minor": 0,
  "metadata": {
    "colab": {
      "provenance": []
    },
    "kernelspec": {
      "name": "python3",
      "display_name": "Python 3"
    },
    "language_info": {
      "name": "python"
    }
  },
  "cells": [
    {
      "cell_type": "markdown",
      "source": [
        "**1. Add the current date to the text file today.txt as a string.**\n"
      ],
      "metadata": {
        "id": "J0CHara_N3fk"
      }
    },
    {
      "cell_type": "code",
      "source": [
        "from datetime import date\n",
        "\n",
        "current_date = date.today().strftime('%Y-%m-%d')\n",
        "\n",
        "with open('today.txt', 'w') as file:\n",
        "    file.write(current_date)"
      ],
      "metadata": {
        "id": "gMiZI-U2OS6D"
      },
      "execution_count": 21,
      "outputs": []
    },
    {
      "cell_type": "markdown",
      "source": [
        "**2. Read the text file today.txt into the string today_string**\n",
        "\n"
      ],
      "metadata": {
        "id": "19NdHLF6OFW6"
      }
    },
    {
      "cell_type": "code",
      "source": [
        "with open('today.txt', 'r') as file:\n",
        "    today_string = file.read()"
      ],
      "metadata": {
        "id": "VtbszUpqPqyS"
      },
      "execution_count": 22,
      "outputs": []
    },
    {
      "cell_type": "markdown",
      "source": [
        "**3. Parse the date from today_string.**\n"
      ],
      "metadata": {
        "id": "kBIFj7q-OF9k"
      }
    },
    {
      "cell_type": "code",
      "source": [
        "from datetime import datetime\n",
        "\n",
        "parsed_date = datetime.strptime(today_string, '%Y-%m-%d').date()"
      ],
      "metadata": {
        "id": "1gbquSpLPzUg"
      },
      "execution_count": 23,
      "outputs": []
    },
    {
      "cell_type": "markdown",
      "source": [
        "**4. List the files in your current directory**\n"
      ],
      "metadata": {
        "id": "Zh81SmvzOGD1"
      }
    },
    {
      "cell_type": "code",
      "source": [
        "import os\n",
        "\n",
        "files_in_current_directory = os.listdir('.')\n",
        "\n",
        "files_in_current_directory"
      ],
      "metadata": {
        "colab": {
          "base_uri": "https://localhost:8080/"
        },
        "id": "FepCu3nBP1SX",
        "outputId": "e5af190d-accf-44fa-9606-890d368c131b"
      },
      "execution_count": 24,
      "outputs": [
        {
          "output_type": "execute_result",
          "data": {
            "text/plain": [
              "['.config', 'today.txt', 'sample_data']"
            ]
          },
          "metadata": {},
          "execution_count": 24
        }
      ]
    },
    {
      "cell_type": "markdown",
      "source": [
        "**5. Create a list of all of the files in your parent directory (minimum five files should be available).**\n"
      ],
      "metadata": {
        "id": "2evkgUslOGJ8"
      }
    },
    {
      "cell_type": "code",
      "source": [
        "parent_directory = os.path.abspath('..')\n",
        "files_in_parent_directory = os.listdir(parent_directory)\n",
        "files_in_parent_directory"
      ],
      "metadata": {
        "colab": {
          "base_uri": "https://localhost:8080/"
        },
        "id": "2ERzm3cFP8BZ",
        "outputId": "60e1e1b2-1ed8-4209-be95-4cb075ce4380"
      },
      "execution_count": 25,
      "outputs": [
        {
          "output_type": "execute_result",
          "data": {
            "text/plain": [
              "['lib',\n",
              " 'root',\n",
              " 'opt',\n",
              " 'boot',\n",
              " 'bin',\n",
              " 'run',\n",
              " 'usr',\n",
              " 'sys',\n",
              " 'sbin',\n",
              " 'mnt',\n",
              " 'srv',\n",
              " 'lib32',\n",
              " 'media',\n",
              " 'libx32',\n",
              " 'tmp',\n",
              " 'lib64',\n",
              " 'dev',\n",
              " 'home',\n",
              " 'proc',\n",
              " 'etc',\n",
              " 'var',\n",
              " 'content',\n",
              " '.dockerenv',\n",
              " 'datalab',\n",
              " 'tools',\n",
              " 'python-apt',\n",
              " 'NGC-DL-CONTAINER-LICENSE']"
            ]
          },
          "metadata": {},
          "execution_count": 25
        }
      ]
    },
    {
      "cell_type": "markdown",
      "source": [
        "**6. Use multiprocessing to create three separate processes. Make each one wait a random number of seconds between one and five, print the current time, and then exit.**\n"
      ],
      "metadata": {
        "id": "99LuwP_uOGPa"
      }
    },
    {
      "cell_type": "code",
      "source": [
        "import multiprocessing\n",
        "import time\n",
        "import random\n",
        "import datetime\n",
        "\n",
        "def procOne():\n",
        "    print(f'Proc_one_Starttime -> {datetime.datetime.now()}')\n",
        "    time.sleep(random.randint(1,5))\n",
        "    print(f'Proc_one_Endtime -> {datetime.datetime.now()}')\n",
        "\n",
        "def procTwo():\n",
        "    print(f'Proc_two_Starttime -> {datetime.datetime.now()}')\n",
        "    time.sleep(random.randint(1,5))\n",
        "    print(f'Proc_two_Endtime -> {datetime.datetime.now()}')\n",
        "\n",
        "def procThree():\n",
        "    print(f'Proc_two_Starttime -> {datetime.datetime.now()}')\n",
        "    time.sleep(random.randint(1,5))\n",
        "    print(f'Proc_two_Endtime -> {datetime.datetime.now()}')\n",
        "\n",
        "if __name__ == \"__main__\":\n",
        "    p1 = multiprocessing.Process(target=procOne)\n",
        "    p2 = multiprocessing.Process(target=procTwo)\n",
        "    p3 = multiprocessing.Process(target=procThree)\n",
        "\n",
        "    p1.start()\n",
        "    p2.start()\n",
        "    p3.start()\n",
        "\n",
        "    p1.join()\n",
        "    p2.join()\n",
        "    p3.join()"
      ],
      "metadata": {
        "colab": {
          "base_uri": "https://localhost:8080/"
        },
        "id": "WiRodR0TQBUD",
        "outputId": "c2a0a97b-3628-4778-c2e7-af58600d9d94"
      },
      "execution_count": 17,
      "outputs": [
        {
          "output_type": "stream",
          "name": "stdout",
          "text": [
            "Proc_one_Starttime -> 2023-06-20 10:07:21.605953\n",
            "Proc_two_Starttime -> 2023-06-20 10:07:21.620918\n",
            "Proc_two_Starttime -> 2023-06-20 10:07:21.636661\n",
            "Proc_two_Endtime -> 2023-06-20 10:07:23.649519\n",
            "Proc_two_Endtime -> 2023-06-20 10:07:24.640382\n",
            "Proc_one_Endtime -> 2023-06-20 10:07:25.627053\n"
          ]
        }
      ]
    },
    {
      "cell_type": "markdown",
      "source": [
        "**7. Create a date object of your day of birth.**\n"
      ],
      "metadata": {
        "id": "IJeaET4kOGUl"
      }
    },
    {
      "cell_type": "code",
      "source": [
        "from datetime import datetime\n",
        "my_dob = datetime.strptime('05/10/1998','%d/%m/%Y')\n",
        "print(my_dob, type(my_dob))"
      ],
      "metadata": {
        "colab": {
          "base_uri": "https://localhost:8080/"
        },
        "id": "Pn2R3_ikQM22",
        "outputId": "bbee8468-5102-40f4-dbcc-b7948523b081"
      },
      "execution_count": 18,
      "outputs": [
        {
          "output_type": "stream",
          "name": "stdout",
          "text": [
            "1998-10-05 00:00:00 <class 'datetime.datetime'>\n"
          ]
        }
      ]
    },
    {
      "cell_type": "markdown",
      "source": [
        "**8. What day of the week was your day of birth?**\n"
      ],
      "metadata": {
        "id": "16HZfq_NOGX8"
      }
    },
    {
      "cell_type": "code",
      "source": [
        "birth_weekday = my_dob.strftime('%A')\n",
        "print(birth_weekday)"
      ],
      "metadata": {
        "colab": {
          "base_uri": "https://localhost:8080/"
        },
        "id": "ZSnuC_yzQXy5",
        "outputId": "9e077d21-16de-469c-d5cb-533999cf9714"
      },
      "execution_count": 19,
      "outputs": [
        {
          "output_type": "stream",
          "name": "stdout",
          "text": [
            "Monday\n"
          ]
        }
      ]
    },
    {
      "cell_type": "markdown",
      "source": [
        "**9. When will you be (or when were you) 10,000 days old?**"
      ],
      "metadata": {
        "id": "C7YcrxNPORJz"
      }
    },
    {
      "cell_type": "code",
      "source": [
        "from datetime import timedelta\n",
        "\n",
        "future_date = my_dob + timedelta(days=10000)\n",
        "print(future_date)\n"
      ],
      "metadata": {
        "colab": {
          "base_uri": "https://localhost:8080/"
        },
        "id": "nrTxotkEQjsV",
        "outputId": "fec39b9e-7610-406e-e645-71b6dfd9fd58"
      },
      "execution_count": 20,
      "outputs": [
        {
          "output_type": "stream",
          "name": "stdout",
          "text": [
            "2026-02-20 00:00:00\n"
          ]
        }
      ]
    },
    {
      "cell_type": "code",
      "source": [],
      "metadata": {
        "id": "8YKEijQ6ORvo"
      },
      "execution_count": 20,
      "outputs": []
    }
  ]
}