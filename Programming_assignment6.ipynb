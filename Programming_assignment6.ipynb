{
  "nbformat": 4,
  "nbformat_minor": 0,
  "metadata": {
    "colab": {
      "provenance": []
    },
    "kernelspec": {
      "name": "python3",
      "display_name": "Python 3"
    },
    "language_info": {
      "name": "python"
    }
  },
  "cells": [
    {
      "cell_type": "markdown",
      "source": [
        "1. Write a Python Program to Display Fibonacci Sequence Using Recursion?"
      ],
      "metadata": {
        "id": "TOSl_IiINwdg"
      }
    },
    {
      "cell_type": "code",
      "source": [
        "def fibo(n):\n",
        "  if n == 1:\n",
        "    return 0\n",
        "  elif n == 2:\n",
        "    return 1\n",
        "  else:\n",
        "    return fibo(n-1) + fibo(n-2)\n",
        "\n",
        "num = int(input(\"Enter the number of terms of fibonacci sequence : - \"))\n",
        "seq_list = []\n",
        "for i in range(1,num+1):\n",
        "  seq_list.append( fibo(i) )\n",
        "\n",
        "print(f\"The first {num} numbers of fibnacci sequence are {seq_list}\")\n",
        "    "
      ],
      "metadata": {
        "colab": {
          "base_uri": "https://localhost:8080/"
        },
        "id": "51UVa7t3Wzy-",
        "outputId": "7379a642-ff39-4303-a2ea-781ae12e1a0f"
      },
      "execution_count": 15,
      "outputs": [
        {
          "output_type": "stream",
          "name": "stdout",
          "text": [
            "Enter the number of terms of fibonacci sequence : - 5\n",
            "The first 5 numbers of fibnacci sequence are [0, 1, 1, 2, 3]\n"
          ]
        }
      ]
    },
    {
      "cell_type": "markdown",
      "source": [
        "2. Write a Python Program to Find Factorial of Number Using Recursion? "
      ],
      "metadata": {
        "id": "2VNfoKulO7Df"
      }
    },
    {
      "cell_type": "code",
      "source": [
        "def fact(n):\n",
        "  if n==0 or n==1 :\n",
        "    return 1\n",
        "  elif n > 0:\n",
        "    return n*fact(n-1)\n",
        "\n",
        "number = int(input(\"Enter the number : - \"))\n",
        "factorial = fact(number)\n",
        "print(f\"Factorial of given number is {factorial} !\")"
      ],
      "metadata": {
        "colab": {
          "base_uri": "https://localhost:8080/"
        },
        "id": "ylCe06jXPVY-",
        "outputId": "a00b9780-a3d6-41fc-da34-7a150d3bae67"
      },
      "execution_count": 16,
      "outputs": [
        {
          "output_type": "stream",
          "name": "stdout",
          "text": [
            "Enter the number : - 4\n",
            "Factorial of given number is 24 !\n"
          ]
        }
      ]
    },
    {
      "cell_type": "markdown",
      "source": [
        "3. Write a Python Program to calculate your Body Mass Index?"
      ],
      "metadata": {
        "id": "s0SC0U56O9IM"
      }
    },
    {
      "cell_type": "code",
      "source": [
        "def bmi_cal(weight,height):\n",
        "  return  weight / (height)**2 \n",
        "\n",
        "weight = float(input(\"Enter the weight ( in Kg ): - \")) \n",
        "height = float(input(\"Enter the height in ( in meter) : - \")) \n",
        "\n",
        "bmi = bmi_cal(weight,height)\n",
        "print(f\"Your Body Mass Index (BMI) is {round(bmi,2)}\")"
      ],
      "metadata": {
        "colab": {
          "base_uri": "https://localhost:8080/"
        },
        "id": "vniBqrjGR5PO",
        "outputId": "c887cbd6-b1de-448d-8c8a-eab7469b8a6a"
      },
      "execution_count": 17,
      "outputs": [
        {
          "output_type": "stream",
          "name": "stdout",
          "text": [
            "Enter the weight ( in Kg ): - 65\n",
            "Enter the height in ( in meter) : - 1.8\n",
            "Your Body Mass Index (BMI) is 20.06\n"
          ]
        }
      ]
    },
    {
      "cell_type": "markdown",
      "source": [
        "4. Write a Python Program to calculate the natural logarithm of any number?"
      ],
      "metadata": {
        "id": "yO6ceeYuO9uU"
      }
    },
    {
      "cell_type": "code",
      "source": [
        "import math\n",
        "def natural_log(number):\n",
        "  return math.log(number)\n",
        "\n",
        "num = float(input('Enter the number : - '))\n",
        "log = natural_log(num)\n",
        "print(f\"{num} natural log is {round(log,4)}\")"
      ],
      "metadata": {
        "colab": {
          "base_uri": "https://localhost:8080/"
        },
        "id": "P8YBRSO7UmqT",
        "outputId": "6f696ca6-9e73-4d34-8aee-e1ffcdbba0bf"
      },
      "execution_count": 19,
      "outputs": [
        {
          "output_type": "stream",
          "name": "stdout",
          "text": [
            "Enter the number : - 3.14\n",
            "3.14 natural log is 1.1442\n"
          ]
        }
      ]
    },
    {
      "cell_type": "markdown",
      "source": [
        "5. \tWrite a Python Program for cube sum of first n natural number"
      ],
      "metadata": {
        "id": "yQ_dfhcNO-Ja"
      }
    },
    {
      "cell_type": "code",
      "source": [
        "def cube_sum(number):\n",
        "  sum = 0\n",
        "  for i in range(1,number+1):\n",
        "    sum = sum + (i**3)\n",
        "  return sum;\n",
        "\n",
        "number = int(input(\"Enter the number : - \"))\n",
        "cube = cube_sum(number)\n",
        "print(f\"The cube sum of first n natural number is {cube} \")"
      ],
      "metadata": {
        "colab": {
          "base_uri": "https://localhost:8080/"
        },
        "id": "ZFTF8bxIVeZF",
        "outputId": "367e3eb2-60d2-4ea9-c59e-fb356bfec7de"
      },
      "execution_count": 20,
      "outputs": [
        {
          "output_type": "stream",
          "name": "stdout",
          "text": [
            "Enter the number : - 5\n",
            "The cube sum of first n natural number is 225 \n"
          ]
        }
      ]
    }
  ]
}
