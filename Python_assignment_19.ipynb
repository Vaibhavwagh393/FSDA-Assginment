{
  "nbformat": 4,
  "nbformat_minor": 0,
  "metadata": {
    "colab": {
      "provenance": []
    },
    "kernelspec": {
      "name": "python3",
      "display_name": "Python 3"
    },
    "language_info": {
      "name": "python"
    }
  },
  "cells": [
    {
      "cell_type": "markdown",
      "source": [
        "**1. Make a class called Thing with no contents and print it. Then, create an object called example from this class and also print it. Are the printed values the same or different?**\n",
        "\n",
        "\n"
      ],
      "metadata": {
        "id": "xGolTbLU4XSh"
      }
    },
    {
      "cell_type": "code",
      "source": [
        "class Thing:\n",
        "    pass\n",
        "\n",
        "print(Thing())\n",
        "example = Thing()\n",
        "print(example)"
      ],
      "metadata": {
        "colab": {
          "base_uri": "https://localhost:8080/"
        },
        "id": "38uEX3i_5th4",
        "outputId": "27c7611a-f9b3-4ad2-cca1-3123da9ada89"
      },
      "execution_count": 2,
      "outputs": [
        {
          "output_type": "stream",
          "name": "stdout",
          "text": [
            "<__main__.Thing object at 0x7f9e17d7aef0>\n",
            "<__main__.Thing object at 0x7f9e17d7acb0>\n"
          ]
        }
      ]
    },
    {
      "cell_type": "markdown",
      "source": [
        "**2. Create a new class called Thing2 and add the value 'abc' to the letters class attribute. Letters should be printed.**\n"
      ],
      "metadata": {
        "id": "H1LtA4qr4XX-"
      }
    },
    {
      "cell_type": "code",
      "source": [
        "class Thing2:\n",
        "    letters = 'abc'\n",
        "\n",
        "print(Thing2.letters)\n"
      ],
      "metadata": {
        "colab": {
          "base_uri": "https://localhost:8080/"
        },
        "id": "eP5EzmKU56AM",
        "outputId": "ab54f10e-6509-4188-e11f-22753d670b2e"
      },
      "execution_count": 5,
      "outputs": [
        {
          "output_type": "stream",
          "name": "stdout",
          "text": [
            "abc\n"
          ]
        }
      ]
    },
    {
      "cell_type": "markdown",
      "source": [
        "**3. Make yet another class called, of course, Thing3. This time, assign the value 'xyz' to an instance (object) attribute called letters. Print letters. Do you need to make an object from the class to do this?**\n"
      ],
      "metadata": {
        "id": "TnR0daVj4Xd6"
      }
    },
    {
      "cell_type": "code",
      "source": [
        "class Thing3:\n",
        "    def __init__(self):\n",
        "        self.letters = 'xyz'\n",
        "\n",
        "print(Thing3().letters)"
      ],
      "metadata": {
        "colab": {
          "base_uri": "https://localhost:8080/"
        },
        "id": "YJMf7EtD6uqU",
        "outputId": "98a7f3f1-2af7-4a2d-c4bd-4dfe3f96ff50"
      },
      "execution_count": 6,
      "outputs": [
        {
          "output_type": "stream",
          "name": "stdout",
          "text": [
            "xyz\n"
          ]
        }
      ]
    },
    {
      "cell_type": "markdown",
      "source": [
        "**4. Create an Element class with the instance attributes name, symbol, and number. Create a class object with the values 'Hydrogen,' 'H,' and 1.**\n"
      ],
      "metadata": {
        "id": "XCEk38Fh4Xi_"
      }
    },
    {
      "cell_type": "code",
      "source": [
        "class Element:\n",
        "    def __init__(self, name, symbol, number):\n",
        "        self.name = name\n",
        "        self.symbol = symbol\n",
        "        self.number = number\n",
        "\n",
        "hydrogen = Element('Hydrogen', 'H', 1)"
      ],
      "metadata": {
        "id": "TfzZiek_7E3h"
      },
      "execution_count": 15,
      "outputs": []
    },
    {
      "cell_type": "markdown",
      "source": [
        "**5. Make a dictionary with these keys and values: 'name': 'Hydrogen', 'symbol': 'H', 'number': 1. Then, create an object called hydrogen from class Element using this dictionary.**\n"
      ],
      "metadata": {
        "id": "MjH8M9444XpL"
      }
    },
    {
      "cell_type": "code",
      "source": [
        "element_data = {'name': 'Hydrogen', 'symbol': 'H', 'number': 1}\n",
        "hydrogen = Element(**element_data)"
      ],
      "metadata": {
        "id": "EiidI_KU7KBo"
      },
      "execution_count": 21,
      "outputs": []
    },
    {
      "cell_type": "markdown",
      "source": [
        "**6. For the Element class, define a method called dump() that prints the values of the object’s attributes (name, symbol, and number). Create the hydrogen object from this new definition and use dump() to print its attributes.**\n"
      ],
      "metadata": {
        "id": "DtAaBweB4Xvc"
      }
    },
    {
      "cell_type": "code",
      "source": [
        "class Element:\n",
        "    def __init__(self, name, symbol, number):\n",
        "        self.name = name\n",
        "        self.symbol = symbol\n",
        "        self.number = number\n",
        "\n",
        "    def dump(self):\n",
        "        print(f\"Name: {self.name}, Symbol: {self.symbol}, Number: {self.number}\")\n",
        "\n",
        "hydrogen = Element('Hydrogen', 'H', 1)\n",
        "hydrogen.dump()"
      ],
      "metadata": {
        "colab": {
          "base_uri": "https://localhost:8080/"
        },
        "id": "6V9c2ssk7u1J",
        "outputId": "e9cbfd52-c761-4e54-ef11-b7895e682a68"
      },
      "execution_count": 22,
      "outputs": [
        {
          "output_type": "stream",
          "name": "stdout",
          "text": [
            "Name: Hydrogen, Symbol: H, Number: 1\n"
          ]
        }
      ]
    },
    {
      "cell_type": "markdown",
      "source": [
        "**7. Call print(hydrogen). In the definition of Element, change the name of method dump to __str__, create a new hydrogen object, and call print(hydrogen) again.**\n"
      ],
      "metadata": {
        "id": "LE5gFO8Q4X1r"
      }
    },
    {
      "cell_type": "code",
      "source": [
        "class Element:\n",
        "    def __init__(self, name, symbol, number):\n",
        "        self.name = name\n",
        "        self.symbol = symbol\n",
        "        self.number = number\n",
        "\n",
        "    def __str__(self):\n",
        "        return f\"Name: {self.name}, Symbol: {self.symbol}, Number: {self.number}\"\n",
        "\n",
        "hydrogen = Element('Hydrogen', 'H', 1)\n",
        "print(hydrogen)\n"
      ],
      "metadata": {
        "colab": {
          "base_uri": "https://localhost:8080/"
        },
        "id": "PlngQlnb770e",
        "outputId": "6aee7563-f1c7-4356-94c0-6a3548546766"
      },
      "execution_count": 23,
      "outputs": [
        {
          "output_type": "stream",
          "name": "stdout",
          "text": [
            "Name: Hydrogen, Symbol: H, Number: 1\n"
          ]
        }
      ]
    },
    {
      "cell_type": "markdown",
      "source": [
        "**8. Modify Element to make the attributes name, symbol, and number private. Define a getter property for each to return its value.**\n"
      ],
      "metadata": {
        "id": "J2rDLYqO4X7a"
      }
    },
    {
      "cell_type": "code",
      "source": [
        "class Element:\n",
        "    def __init__(self, name, symbol, number):\n",
        "        self.__name = name\n",
        "        self.__symbol = symbol\n",
        "        self.__number = number\n",
        "\n",
        "    @property\n",
        "    def name(self):\n",
        "        return self.__name\n",
        "\n",
        "    @property\n",
        "    def symbol(self):\n",
        "        return self.__symbol\n",
        "\n",
        "    @property\n",
        "    def number(self):\n",
        "        return self.__number\n",
        "\n",
        "hydrogen = Element('Hydrogen', 'H', 1)\n",
        "print(hydrogen.name)\n",
        "print(hydrogen.symbol)\n",
        "print(hydrogen.number)"
      ],
      "metadata": {
        "colab": {
          "base_uri": "https://localhost:8080/"
        },
        "id": "prq9m61r8584",
        "outputId": "3300c3c5-c640-45a8-a36d-1018903068a3"
      },
      "execution_count": 24,
      "outputs": [
        {
          "output_type": "stream",
          "name": "stdout",
          "text": [
            "Hydrogen\n",
            "H\n",
            "1\n"
          ]
        }
      ]
    },
    {
      "cell_type": "markdown",
      "source": [
        "**9. Define three classes: Bear, Rabbit, and Octothorpe. For each, define only one method: eats(). This should return 'berries' (Bear), 'clover' (Rabbit), or 'campers' (Octothorpe). Create one object from each and print what it eats.**\n"
      ],
      "metadata": {
        "id": "GdzMM4hs4p2J"
      }
    },
    {
      "cell_type": "code",
      "source": [
        "class Bear:\n",
        "    def eats(self):\n",
        "        return 'berries'\n",
        "\n",
        "class Rabbit:\n",
        "    def eats(self):\n",
        "        return 'clover'\n",
        "\n",
        "class Octothorpe:\n",
        "    def eats(self):\n",
        "        return 'campers'\n",
        "\n",
        "bear = Bear()\n",
        "rabbit = Rabbit()\n",
        "octothorpe = Octothorpe()\n",
        "\n",
        "print(bear.eats())\n",
        "print(rabbit.eats())\n",
        "print(octothorpe.eats())"
      ],
      "metadata": {
        "colab": {
          "base_uri": "https://localhost:8080/"
        },
        "id": "WZ8I-RR39eq-",
        "outputId": "066779f7-8528-4be0-b82a-4d6b8ac73384"
      },
      "execution_count": 25,
      "outputs": [
        {
          "output_type": "stream",
          "name": "stdout",
          "text": [
            "berries\n",
            "clover\n",
            "campers\n"
          ]
        }
      ]
    },
    {
      "cell_type": "markdown",
      "source": [
        "**10. Define these classes: Laser, Claw, and SmartPhone. Each has only one method: does(). This returns 'disintegrate' (Laser), 'crush' (Claw), or 'ring' (SmartPhone). Then, define the class Robot that has one instance (object) of each of these. Define a does() method for the Robot that prints what its component objects do.**"
      ],
      "metadata": {
        "id": "t5shCpbX4p66"
      }
    },
    {
      "cell_type": "code",
      "source": [
        "class Laser:\n",
        "    def does(self):\n",
        "        return 'disintegrate'\n",
        "\n",
        "class Claw:\n",
        "    def does(self):\n",
        "        return 'crush'\n",
        "\n",
        "class SmartPhone:\n",
        "    def does(self):\n",
        "        return 'ring'\n",
        "\n",
        "class Robot:\n",
        "    def __init__(self):\n",
        "        self.laser = Laser()\n",
        "        self.claw = Claw()\n",
        "        self.smartphone = SmartPhone()\n",
        "\n",
        "    def does(self):\n",
        "        print(f\"Laser does: {self.laser.does()}\")\n",
        "        print(f\"Claw does: {self.claw.does()}\")\n",
        "        print(f\"SmartPhone does: {self.smartphone.does()}\")\n",
        "\n",
        "robot = Robot()\n",
        "robot.does()\n"
      ],
      "metadata": {
        "colab": {
          "base_uri": "https://localhost:8080/"
        },
        "id": "7adFuFOv9qkT",
        "outputId": "028f2b20-8cd8-4cf1-b5f1-5c5f3c8ea9bb"
      },
      "execution_count": 27,
      "outputs": [
        {
          "output_type": "stream",
          "name": "stdout",
          "text": [
            "Laser does: disintegrate\n",
            "Claw does: crush\n",
            "SmartPhone does: ring\n"
          ]
        }
      ]
    },
    {
      "cell_type": "code",
      "source": [],
      "metadata": {
        "id": "wRVnpCAJ-DX_"
      },
      "execution_count": null,
      "outputs": []
    }
  ]
}