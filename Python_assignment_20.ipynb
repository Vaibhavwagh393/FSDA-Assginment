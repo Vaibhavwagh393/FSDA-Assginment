{
  "nbformat": 4,
  "nbformat_minor": 0,
  "metadata": {
    "colab": {
      "provenance": []
    },
    "kernelspec": {
      "name": "python3",
      "display_name": "Python 3"
    },
    "language_info": {
      "name": "python"
    }
  },
  "cells": [
    {
      "cell_type": "markdown",
      "source": [
        "**1. Set the variable test1 to the string 'This is a test of the emergency text system,' and save test1 to a file named test.txt.**\n",
        "\n",
        "\n"
      ],
      "metadata": {
        "id": "zW9iPk5R--RG"
      }
    },
    {
      "cell_type": "code",
      "source": [
        "test1 = 'This is a test of the emergency text system'\n",
        "\n",
        "with open('test.txt', 'w') as file:\n",
        "    file.write(test1)"
      ],
      "metadata": {
        "id": "_TOppIVOGJ4M"
      },
      "execution_count": 1,
      "outputs": []
    },
    {
      "cell_type": "markdown",
      "source": [
        "**2. Read the contents of the file test.txt into the variable test2. Is there a difference between test 1 and test 2?**\n"
      ],
      "metadata": {
        "id": "Fq6tC5mmF72Y"
      }
    },
    {
      "cell_type": "code",
      "source": [
        "with open('test.txt', 'r') as file:\n",
        "    test2 = file.read()\n",
        "\n",
        "print(test1 == test2)\n"
      ],
      "metadata": {
        "colab": {
          "base_uri": "https://localhost:8080/"
        },
        "id": "1YE3hV4iGh6r",
        "outputId": "b8f689f7-6e65-4941-fddd-4aa56aa0434c"
      },
      "execution_count": 4,
      "outputs": [
        {
          "output_type": "stream",
          "name": "stdout",
          "text": [
            "True\n"
          ]
        }
      ]
    },
    {
      "cell_type": "markdown",
      "source": [
        "**3. Create a CSV file called books.csv by using these lines:\n",
        "title,author,year\n",
        "The Weirdstone of Brisingamen,Alan Garner,1960\n",
        "Perdido Street Station,China Miéville,2000\n",
        "Thud!,Terry Pratchett,2005\n",
        "The Spellman Files,Lisa Lutz,2007\n",
        "Small Gods,Terry Pratchett,1992**\n"
      ],
      "metadata": {
        "id": "vK6OtxUtF79O"
      }
    },
    {
      "cell_type": "code",
      "source": [
        "import csv\n",
        "\n",
        "data = [\n",
        "    ['title', 'author', 'year'],\n",
        "    ['The Weirdstone of Brisingamen', 'Alan Garner', '1960'],\n",
        "    ['Perdido Street Station', 'China Miéville', '2000'],\n",
        "    ['Thud!', 'Terry Pratchett', '2005'],\n",
        "    ['The Spellman Files', 'Lisa Lutz', '2007'],\n",
        "    ['Small Gods', 'Terry Pratchett', '1992']\n",
        "]\n",
        "\n",
        "filename = 'books.csv'\n",
        "\n",
        "with open(filename, 'w', newline='') as file:\n",
        "    writer = csv.writer(file)\n",
        "    writer.writerows(data)\n",
        "\n",
        "print(f'{filename} has been created successfully.')"
      ],
      "metadata": {
        "colab": {
          "base_uri": "https://localhost:8080/"
        },
        "id": "Yobx7fzzG9G2",
        "outputId": "b5b07dcd-f94c-47ca-ead2-a98260c0f799"
      },
      "execution_count": 7,
      "outputs": [
        {
          "output_type": "stream",
          "name": "stdout",
          "text": [
            "books.csv has been created successfully.\n"
          ]
        }
      ]
    },
    {
      "cell_type": "markdown",
      "source": [
        "**4. Use the sqlite3 module to create a SQLite database called books.db, and a table called books with these fields: title (text), author (text), and year (integer).**\n"
      ],
      "metadata": {
        "id": "DTMtK5goF8AS"
      }
    },
    {
      "cell_type": "code",
      "source": [
        "import sqlite3\n",
        "\n",
        "conn = sqlite3.connect('books.db')\n",
        "cursor = conn.cursor()\n",
        "\n",
        "cursor.execute('''\n",
        "    CREATE TABLE IF NOT EXISTS books (\n",
        "        title TEXT,\n",
        "        author TEXT,\n",
        "        year INTEGER\n",
        "    )\n",
        "''')\n",
        "\n",
        "conn.commit()\n",
        "conn.close()"
      ],
      "metadata": {
        "id": "sNRpmpdDHDM3"
      },
      "execution_count": 8,
      "outputs": []
    },
    {
      "cell_type": "markdown",
      "source": [
        "**5. Read books.csv and insert its data into the book table.**\n"
      ],
      "metadata": {
        "id": "SA2ViP_VF8DH"
      }
    },
    {
      "cell_type": "code",
      "source": [
        "import csv\n",
        "import sqlite3\n",
        "\n",
        "conn = sqlite3.connect('books.db')\n",
        "cursor = conn.cursor()\n",
        "\n",
        "with open('books.csv', 'r') as file:\n",
        "    csv_reader = csv.reader(file)\n",
        "    next(csv_reader)  # Skip the header row\n",
        "    for row in csv_reader:\n",
        "        title, author, year = row\n",
        "        cursor.execute('INSERT INTO books VALUES (?, ?, ?)', (title, author, int(year)))\n",
        "\n",
        "conn.commit()\n",
        "conn.close()"
      ],
      "metadata": {
        "id": "Iyngcz4oHJDR"
      },
      "execution_count": 9,
      "outputs": []
    },
    {
      "cell_type": "markdown",
      "source": [
        "**6. Select and print the title column from the book table in alphabetical order.**\n"
      ],
      "metadata": {
        "id": "nvQ9zYO-F8F-"
      }
    },
    {
      "cell_type": "code",
      "source": [
        "import sqlite3\n",
        "\n",
        "conn = sqlite3.connect('books.db')\n",
        "cursor = conn.cursor()\n",
        "\n",
        "cursor.execute('SELECT title FROM books ORDER BY title')\n",
        "titles = cursor.fetchall()\n",
        "\n",
        "for title in titles:\n",
        "    print(title[0])\n",
        "\n",
        "conn.close()"
      ],
      "metadata": {
        "colab": {
          "base_uri": "https://localhost:8080/"
        },
        "id": "yoJX8BADHw5e",
        "outputId": "66526217-12f7-494c-f205-bc1f4cbc428f"
      },
      "execution_count": 10,
      "outputs": [
        {
          "output_type": "stream",
          "name": "stdout",
          "text": [
            "Perdido Street Station\n",
            "Small Gods\n",
            "The Spellman Files\n",
            "The Weirdstone of Brisingamen\n",
            "Thud!\n"
          ]
        }
      ]
    },
    {
      "cell_type": "markdown",
      "source": [
        "**7. From the book table, select and print all columns in the order of publication.**\n"
      ],
      "metadata": {
        "id": "ujPutSV4F8Io"
      }
    },
    {
      "cell_type": "code",
      "source": [
        "import sqlite3\n",
        "\n",
        "conn = sqlite3.connect('books.db')\n",
        "cursor = conn.cursor()\n",
        "\n",
        "cursor.execute('SELECT * FROM books ORDER BY year')\n",
        "books = cursor.fetchall()\n",
        "\n",
        "for book in books:\n",
        "    print(book)\n",
        "\n",
        "conn.close()"
      ],
      "metadata": {
        "colab": {
          "base_uri": "https://localhost:8080/"
        },
        "id": "kOCT2lJQHzZN",
        "outputId": "79539a72-a211-44c3-a5c7-ca4e8286df98"
      },
      "execution_count": 11,
      "outputs": [
        {
          "output_type": "stream",
          "name": "stdout",
          "text": [
            "('The Weirdstone of Brisingamen', 'Alan Garner', 1960)\n",
            "('Small Gods', 'Terry Pratchett', 1992)\n",
            "('Perdido Street Station', 'China Miéville', 2000)\n",
            "('Thud!', 'Terry Pratchett', 2005)\n",
            "('The Spellman Files', 'Lisa Lutz', 2007)\n"
          ]
        }
      ]
    },
    {
      "cell_type": "markdown",
      "source": [
        "**8. Use the sqlalchemy module to connect to the sqlite3 database books.db that you just made in exercise 6.**\n"
      ],
      "metadata": {
        "id": "UcZs56TwF8LD"
      }
    },
    {
      "cell_type": "code",
      "source": [
        "import sqlalchemy\n",
        "\n",
        "engine = sqlalchemy.create_engine('sqlite:///books.db')\n",
        "connection = engine.connect()"
      ],
      "metadata": {
        "id": "bfw-mmFnH2pk"
      },
      "execution_count": 12,
      "outputs": []
    },
    {
      "cell_type": "markdown",
      "source": [
        "**9. Install the Redis server and the Python redis library (pip install redis) on your computer. Create a Redis hash called test with the fields count (1) and name ('Fester Bestertester'). Print all the fields for test.**\n"
      ],
      "metadata": {
        "id": "aRNgejPBF8NR"
      }
    },
    {
      "cell_type": "code",
      "source": [],
      "metadata": {
        "id": "qt7-tSyRH6Bf"
      },
      "execution_count": 16,
      "outputs": []
    },
    {
      "cell_type": "code",
      "source": [
        "!pip install redis\n",
        "import redis\n",
        "conn = redis.Redis()\n",
        "conn.hset('test',{\n",
        "    'count':1,\n",
        "    'name':'Fester Bestertester'\n",
        "})\n",
        "conn.hgetall('test')"
      ],
      "metadata": {
        "id": "7bFp2aMVJZmS"
      },
      "execution_count": null,
      "outputs": []
    },
    {
      "cell_type": "markdown",
      "source": [
        "**10. Increment the count field of test and print it.**"
      ],
      "metadata": {
        "id": "9WjlmEPIF8Qx"
      }
    },
    {
      "cell_type": "code",
      "source": [
        "conn.hincrby('test', 'count', 1)\n",
        "conn.hget('test', 'count')"
      ],
      "metadata": {
        "id": "DmgdE3NmH-u6"
      },
      "execution_count": 15,
      "outputs": []
    }
  ]
}