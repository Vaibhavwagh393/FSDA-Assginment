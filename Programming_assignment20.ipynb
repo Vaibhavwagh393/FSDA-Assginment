{
  "nbformat": 4,
  "nbformat_minor": 0,
  "metadata": {
    "colab": {
      "provenance": []
    },
    "kernelspec": {
      "name": "python3",
      "display_name": "Python 3"
    },
    "language_info": {
      "name": "python"
    }
  },
  "cells": [
    {
      "cell_type": "markdown",
      "source": [
        "1. Create a function that takes a list of strings and integers, and filters out the list so that it returns a list of integers only."
      ],
      "metadata": {
        "id": "NOoESC-Ve4pI"
      }
    },
    {
      "cell_type": "code",
      "source": [
        "def filter_list(lst):\n",
        "  lst1 = []\n",
        "  for i in range(len(lst)):\n",
        "    if (type(lst[i])==int):\n",
        "      lst1.append(lst[i])\n",
        "  return lst1"
      ],
      "metadata": {
        "id": "l8HWy367gVPd"
      },
      "execution_count": null,
      "outputs": []
    },
    {
      "cell_type": "code",
      "source": [
        "filter_list([1, 2, 3, \"a\", \"b\", 4]) "
      ],
      "metadata": {
        "colab": {
          "base_uri": "https://localhost:8080/"
        },
        "id": "5WbZ8to7gw9S",
        "outputId": "369d48ae-c16d-4318-d3cc-9d938e0e4e83"
      },
      "execution_count": null,
      "outputs": [
        {
          "output_type": "execute_result",
          "data": {
            "text/plain": [
              "[1, 2, 3, 4]"
            ]
          },
          "metadata": {},
          "execution_count": 20
        }
      ]
    },
    {
      "cell_type": "code",
      "source": [
        "filter_list([\"Nothing\", \"here\"])"
      ],
      "metadata": {
        "colab": {
          "base_uri": "https://localhost:8080/"
        },
        "id": "vXH2Ov3hhPtV",
        "outputId": "f38eb4d1-acf1-4719-dfa5-1789c9236a18"
      },
      "execution_count": null,
      "outputs": [
        {
          "output_type": "execute_result",
          "data": {
            "text/plain": [
              "[]"
            ]
          },
          "metadata": {},
          "execution_count": 22
        }
      ]
    },
    {
      "cell_type": "markdown",
      "source": [
        "2. Given a list of numbers, create a function which returns the list but with each element's index in the list added to itself. This means you add 0 to the number at index 0, add 1 to the number at index 1, etc..."
      ],
      "metadata": {
        "id": "T8c2LVZPhzKh"
      }
    },
    {
      "cell_type": "code",
      "source": [
        "def add_indexes(lst):\n",
        "  lst1=[]\n",
        "  for i in range(len(lst)):\n",
        "    a= lst[i]+i;\n",
        "    lst1.append(a)\n",
        "  return lst1"
      ],
      "metadata": {
        "id": "04jB6XZVixzj"
      },
      "execution_count": null,
      "outputs": []
    },
    {
      "cell_type": "code",
      "source": [
        "add_indexes([0, 0, 0, 0, 0])"
      ],
      "metadata": {
        "colab": {
          "base_uri": "https://localhost:8080/"
        },
        "id": "Qnr4J2c4kriQ",
        "outputId": "2cda0cd6-0a9f-41a0-9f8e-660b999c9e09"
      },
      "execution_count": null,
      "outputs": [
        {
          "output_type": "execute_result",
          "data": {
            "text/plain": [
              "[0, 1, 2, 3, 4]"
            ]
          },
          "metadata": {},
          "execution_count": 24
        }
      ]
    },
    {
      "cell_type": "code",
      "source": [
        "add_indexes([5, 4, 3, 2, 1]) "
      ],
      "metadata": {
        "colab": {
          "base_uri": "https://localhost:8080/"
        },
        "id": "PazYR954kzDJ",
        "outputId": "72411ebd-3f0b-4292-876e-78b28f3a1092"
      },
      "execution_count": null,
      "outputs": [
        {
          "output_type": "execute_result",
          "data": {
            "text/plain": [
              "[5, 5, 5, 5, 5]"
            ]
          },
          "metadata": {},
          "execution_count": 25
        }
      ]
    },
    {
      "cell_type": "markdown",
      "source": [
        "3. Create a function that takes the height and radius of a cone as arguments and returns the volume of the cone rounded to the nearest hundredth. See the resources tab for the formula."
      ],
      "metadata": {
        "id": "RdGR-l4Gk6Dj"
      }
    },
    {
      "cell_type": "code",
      "source": [
        "def cone_volume(h,r):\n",
        "  vol = round( (1/3) * 3.14 * h * (r**2) , 2 )\n",
        "  return vol"
      ],
      "metadata": {
        "id": "cKqOaARgmK-5"
      },
      "execution_count": null,
      "outputs": []
    },
    {
      "cell_type": "code",
      "source": [
        "cone_volume(3,2)"
      ],
      "metadata": {
        "colab": {
          "base_uri": "https://localhost:8080/"
        },
        "id": "1wzfzpcFm1Ke",
        "outputId": "1a12d9ce-9158-47f6-ae89-a1b5c6ea11ba"
      },
      "execution_count": null,
      "outputs": [
        {
          "output_type": "execute_result",
          "data": {
            "text/plain": [
              "12.56"
            ]
          },
          "metadata": {},
          "execution_count": 32
        }
      ]
    },
    {
      "cell_type": "code",
      "source": [
        "cone_volume(15, 6)"
      ],
      "metadata": {
        "colab": {
          "base_uri": "https://localhost:8080/"
        },
        "id": "9_8MGpJWnAVJ",
        "outputId": "787a3e3a-f171-4b37-b592-3acad4f3e2f1"
      },
      "execution_count": null,
      "outputs": [
        {
          "output_type": "execute_result",
          "data": {
            "text/plain": [
              "565.2"
            ]
          },
          "metadata": {},
          "execution_count": 34
        }
      ]
    },
    {
      "cell_type": "markdown",
      "source": [
        "4. This Triangular Number Sequence is generated from a pattern of dots that form a triangle. The first 5 numbers of the sequence, or dots, are: \n",
        "1, 3, 6, 10, 15\n",
        "This means that the first triangle has just one dot, the second one has three dots, the third one has 6 dots and so on.\n",
        "Write a function that gives the number of dots with its corresponding triangle number of the sequence."
      ],
      "metadata": {
        "id": "WZbURg8EnkEx"
      }
    },
    {
      "cell_type": "code",
      "source": [
        "def triangle(n):\n",
        "    if n <= 0:\n",
        "        return 0\n",
        "    else:\n",
        "        return (n * (n + 1)) // 2\n"
      ],
      "metadata": {
        "id": "A2Sv8sK25vBj"
      },
      "execution_count": 1,
      "outputs": []
    },
    {
      "cell_type": "code",
      "source": [
        "triangle(6)"
      ],
      "metadata": {
        "colab": {
          "base_uri": "https://localhost:8080/"
        },
        "id": "k9FG4pUP5yKT",
        "outputId": "28a81201-b15a-4d44-ca68-3af027275d54"
      },
      "execution_count": 2,
      "outputs": [
        {
          "output_type": "execute_result",
          "data": {
            "text/plain": [
              "21"
            ]
          },
          "metadata": {},
          "execution_count": 2
        }
      ]
    },
    {
      "cell_type": "markdown",
      "source": [
        "5. Create a function that takes a list of numbers between 1 and 10 (excluding one number) and returns the missing number."
      ],
      "metadata": {
        "id": "gADabiW8oM6d"
      }
    },
    {
      "cell_type": "code",
      "source": [
        "def missing_num(numbers):\n",
        "    full_list = [1, 2, 3, 4, 5, 6, 7, 8, 9, 10]\n",
        "    missing_number = sum(full_list) - sum(numbers)\n",
        "    return missing_number"
      ],
      "metadata": {
        "id": "em07yMuJoO6z"
      },
      "execution_count": 12,
      "outputs": []
    },
    {
      "cell_type": "code",
      "source": [
        "missing_num([1, 2, 3, 4, 6, 7, 8, 9, 10]) "
      ],
      "metadata": {
        "colab": {
          "base_uri": "https://localhost:8080/"
        },
        "id": "MOlNcskc6euy",
        "outputId": "c8e15d01-d74a-45f8-d901-4832a6e36e91"
      },
      "execution_count": 13,
      "outputs": [
        {
          "output_type": "execute_result",
          "data": {
            "text/plain": [
              "5"
            ]
          },
          "metadata": {},
          "execution_count": 13
        }
      ]
    },
    {
      "cell_type": "code",
      "source": [],
      "metadata": {
        "id": "CgPHR4616icX"
      },
      "execution_count": null,
      "outputs": []
    }
  ]
}