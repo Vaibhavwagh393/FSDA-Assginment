{
  "nbformat": 4,
  "nbformat_minor": 0,
  "metadata": {
    "colab": {
      "provenance": []
    },
    "kernelspec": {
      "name": "python3",
      "display_name": "Python 3"
    },
    "language_info": {
      "name": "python"
    }
  },
  "cells": [
    {
      "cell_type": "markdown",
      "source": [
        "##1. Write a function that takes a list and a number as arguments. Add the number to the end of the list, then remove the first element of the list. The function should then return the updated list."
      ],
      "metadata": {
        "id": "jcWnv3o3ul7N"
      }
    },
    {
      "cell_type": "code",
      "execution_count": null,
      "metadata": {
        "id": "j_woDevvtpEc"
      },
      "outputs": [],
      "source": [
        "def next_in_line(lst,next):\n",
        "  lst.pop(0)\n",
        "  lst.append(next)\n",
        "  print(lst)"
      ]
    },
    {
      "cell_type": "code",
      "source": [
        "a = [5,6,7,8,9,11,12]\n",
        "n = 13\n",
        "next_in_line(a,n)"
      ],
      "metadata": {
        "colab": {
          "base_uri": "https://localhost:8080/"
        },
        "id": "3WJH0geduBrB",
        "outputId": "97e94f34-fe31-489b-9fd7-977bd3dbaa77"
      },
      "execution_count": null,
      "outputs": [
        {
          "output_type": "stream",
          "name": "stdout",
          "text": [
            "[6, 7, 8, 9, 11, 12, 13]\n"
          ]
        }
      ]
    },
    {
      "cell_type": "markdown",
      "source": [
        "##2.Create the function that takes a list of dictionaries and returns the sum of people&#39;s budgets."
      ],
      "metadata": {
        "id": "zVdjcXyGvbLj"
      }
    },
    {
      "cell_type": "code",
      "source": [
        "def get_budgets(d):\n",
        "  sum = 0\n",
        "  for i in range(len(d)):\n",
        "    sum = sum + d[i].get(\"budget\")\n",
        "  print(f\"The sum of budgets is {sum}\")\n",
        "  "
      ],
      "metadata": {
        "id": "-l5m1uUevP3E"
      },
      "execution_count": null,
      "outputs": []
    },
    {
      "cell_type": "code",
      "source": [
        "get_budgets( [\n",
        "  { \"name\": \"John\", \"age\": 21, \"budget\": 23000 },\n",
        "  { \"name\": \"Steve\",  \"age\": 32, \"budget\": 40000 },\n",
        "  { \"name\": \"Martin\",  \"age\": 16, \"budget\": 2700 }\n",
        "] )\n"
      ],
      "metadata": {
        "colab": {
          "base_uri": "https://localhost:8080/"
        },
        "id": "R_wCpYpKOhyz",
        "outputId": "0811acf6-1d5a-4fab-b7a1-2a8ba4e46f8d"
      },
      "execution_count": null,
      "outputs": [
        {
          "output_type": "stream",
          "name": "stdout",
          "text": [
            "The sum of budgets is 65700\n"
          ]
        }
      ]
    },
    {
      "cell_type": "code",
      "source": [
        "get_budgets([\n",
        "  { \"name\": \"John\",  \"age\": 21, \"budget\": 29000 },\n",
        "  { \"name\": \"Steve\",  \"age\": 32, \"budget\": 32000 },\n",
        "  { \"name\": \"Martin\",  \"age\": 16, \"budget\": 1600 }\n",
        "]) \n"
      ],
      "metadata": {
        "colab": {
          "base_uri": "https://localhost:8080/"
        },
        "id": "RoU5f7DqRL4O",
        "outputId": "f74b3ef5-bc33-4609-cb59-1b9f9f241ae5"
      },
      "execution_count": null,
      "outputs": [
        {
          "output_type": "stream",
          "name": "stdout",
          "text": [
            "The sum of budgets is 62600\n"
          ]
        }
      ]
    },
    {
      "cell_type": "markdown",
      "source": [
        "##3.Create a function that takes a string and returns a string with its letters in alphabetical order."
      ],
      "metadata": {
        "id": "pRx_Wie7SGdv"
      }
    },
    {
      "cell_type": "code",
      "source": [
        "def alphabet_soup(word):\n",
        "  print( ''.join(sorted(word)) )"
      ],
      "metadata": {
        "id": "GgehEjJg0uUj"
      },
      "execution_count": null,
      "outputs": []
    },
    {
      "cell_type": "code",
      "source": [
        "alphabet_soup('helloword')"
      ],
      "metadata": {
        "colab": {
          "base_uri": "https://localhost:8080/"
        },
        "id": "P8Ciyivz08DO",
        "outputId": "5bc3d8d7-67ba-4686-a322-ea6e4ed58f83"
      },
      "execution_count": null,
      "outputs": [
        {
          "output_type": "stream",
          "name": "stdout",
          "text": [
            "dehlloorw\n"
          ]
        }
      ]
    },
    {
      "cell_type": "markdown",
      "source": [
        "##4. Create a function that accepts the principal p, the term in years t, the interest rate r, and the number of compounding periods per year n. The function returns the value at the end of term rounded to the nearest cent."
      ],
      "metadata": {
        "id": "6-kR2WtZSKmk"
      }
    },
    {
      "cell_type": "code",
      "source": [
        "def compound_interest(principle, year, rate, period):\n",
        "  amt = ( 1 + ( rate / period))**(year * period)  \n",
        "  amt = round((principle * amt ),2)  \n",
        "  print(amt)"
      ],
      "metadata": {
        "id": "8cyA77W3r7gL"
      },
      "execution_count": null,
      "outputs": []
    },
    {
      "cell_type": "code",
      "source": [
        "compound_interest(10000, 10, 0.06, 12)"
      ],
      "metadata": {
        "colab": {
          "base_uri": "https://localhost:8080/"
        },
        "id": "WoychDcqvcpM",
        "outputId": "e9ead194-ce38-49df-afef-e76d08c89d56"
      },
      "execution_count": null,
      "outputs": [
        {
          "output_type": "stream",
          "name": "stdout",
          "text": [
            "18193.97\n"
          ]
        }
      ]
    },
    {
      "cell_type": "code",
      "source": [
        "compound_interest(3500, 15, 0.1, 4)"
      ],
      "metadata": {
        "colab": {
          "base_uri": "https://localhost:8080/"
        },
        "id": "9YwIFe0szXEn",
        "outputId": "0eea2243-ea60-4612-d05c-07eea76a1933"
      },
      "execution_count": null,
      "outputs": [
        {
          "output_type": "stream",
          "name": "stdout",
          "text": [
            "15399.26\n"
          ]
        }
      ]
    },
    {
      "cell_type": "markdown",
      "source": [
        "#5. Write a function that takes a list of elements and returns only the integers."
      ],
      "metadata": {
        "id": "cVhvRuGbSRF0"
      }
    },
    {
      "cell_type": "code",
      "source": [
        "def return_only_integer(lst):\n",
        "  lst1=[]\n",
        "  for i in range(len(lst)):\n",
        "    if (type(lst[i])== int):\n",
        "      lst1.append(lst[i])\n",
        "  print(lst1)"
      ],
      "metadata": {
        "id": "HzvdKZqpSV5P"
      },
      "execution_count": null,
      "outputs": []
    },
    {
      "cell_type": "code",
      "source": [
        "return_only_integer([9, 2, \"space\", \"car\", \"lion\", 16])"
      ],
      "metadata": {
        "colab": {
          "base_uri": "https://localhost:8080/"
        },
        "id": "Ugsn30c-SEkx",
        "outputId": "5c389b1f-f84d-4a8f-b6b4-ffbed5bb1be1"
      },
      "execution_count": null,
      "outputs": [
        {
          "output_type": "stream",
          "name": "stdout",
          "text": [
            "[9, 2, 16]\n"
          ]
        }
      ]
    },
    {
      "cell_type": "code",
      "source": [
        "return_only_integer([10, \"121\", 56, 20, \"car\", 3, \"lion\",5.5,1000,\"6.3\"])"
      ],
      "metadata": {
        "colab": {
          "base_uri": "https://localhost:8080/"
        },
        "id": "K2i9kfYZroOK",
        "outputId": "a2d5c4ce-381a-4cd4-abd6-10a9eb642b88"
      },
      "execution_count": null,
      "outputs": [
        {
          "output_type": "stream",
          "name": "stdout",
          "text": [
            "[10, 56, 20, 3, 1000]\n"
          ]
        }
      ]
    },
    {
      "cell_type": "code",
      "source": [],
      "metadata": {
        "id": "D4mTO0oJr2pq"
      },
      "execution_count": null,
      "outputs": []
    }
  ]
}