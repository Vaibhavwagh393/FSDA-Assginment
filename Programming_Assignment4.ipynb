{
  "nbformat": 4,
  "nbformat_minor": 0,
  "metadata": {
    "colab": {
      "provenance": []
    },
    "kernelspec": {
      "name": "python3",
      "display_name": "Python 3"
    },
    "language_info": {
      "name": "python"
    }
  },
  "cells": [
    {
      "cell_type": "markdown",
      "source": [
        "1. Write a Python Program to Find the Factorial of a Number?"
      ],
      "metadata": {
        "id": "dxyZK-1N_AkW"
      }
    },
    {
      "cell_type": "code",
      "source": [
        "n = int(input(\"Enter the number \"))\n",
        "a = 1\n",
        "if n < 0:\n",
        "  print(\"factorial does not exist\")\n",
        "elif n == 0:\n",
        "  print(f\"Factorial of {n} is 1\")\n",
        "else:\n",
        "  for i in range (1,n+1):\n",
        "      a = a * i\n",
        "  print(f\"Factorial of {n} is {a}\")\n"
      ],
      "metadata": {
        "colab": {
          "base_uri": "https://localhost:8080/"
        },
        "id": "HIRa8PjMU7cp",
        "outputId": "c8707a96-d585-4021-c973-82e9a08bb6b9"
      },
      "execution_count": 19,
      "outputs": [
        {
          "output_type": "stream",
          "name": "stdout",
          "text": [
            "Enter the number 5\n",
            "Factorial of 5 is 120\n"
          ]
        }
      ]
    },
    {
      "cell_type": "markdown",
      "source": [
        "2. Write a Python Program to Display the multiplication Table?"
      ],
      "metadata": {
        "id": "tmeaJW0h_Ao8"
      }
    },
    {
      "cell_type": "code",
      "source": [
        "a = int(input(\"Multiplication table of \"))\n",
        "print(\"\\t \")\n",
        "for i in range (1,11):\n",
        "   b = a * i\n",
        "   print(f\"{a}X{i}={b} \")"
      ],
      "metadata": {
        "colab": {
          "base_uri": "https://localhost:8080/"
        },
        "id": "Vw32Te8jXl0C",
        "outputId": "2b7290bc-f74e-4bd0-f70d-19eaa96e7c9d"
      },
      "execution_count": 71,
      "outputs": [
        {
          "output_type": "stream",
          "name": "stdout",
          "text": [
            "Multiplication table of 8\n",
            "\t \n",
            "8X1=8 \n",
            "8X2=16 \n",
            "8X3=24 \n",
            "8X4=32 \n",
            "8X5=40 \n",
            "8X6=48 \n",
            "8X7=56 \n",
            "8X8=64 \n",
            "8X9=72 \n",
            "8X10=80 \n"
          ]
        }
      ]
    },
    {
      "cell_type": "markdown",
      "source": [
        "3. Write a Python Program to Print the Fibonacci sequence?"
      ],
      "metadata": {
        "id": "9Hzea4T0_Aqh"
      }
    },
    {
      "cell_type": "code",
      "source": [
        "n = int(input(\"How many terms you want \"))\n",
        "# fibonacci series 0 1 1 2 3 5 8 13\n",
        "f= 0\n",
        "s = 1\n",
        "if n == 1:\n",
        "  print(f)\n",
        "elif n ==2:\n",
        "  print(f,s)\n",
        "else:\n",
        "  print(f,s,end=\" \")\n",
        "  for i in range(2,n):\n",
        "    c = f + s \n",
        "    print(c,end=\" \")\n",
        "    f = s\n",
        "    s = c\n"
      ],
      "metadata": {
        "colab": {
          "base_uri": "https://localhost:8080/"
        },
        "id": "WSvVH6QuaZlF",
        "outputId": "d57eec21-7058-42f6-d3bd-b30f017b5c5e"
      },
      "execution_count": 27,
      "outputs": [
        {
          "output_type": "stream",
          "name": "stdout",
          "text": [
            "How many terms you want 8\n",
            "0 1 1 2 3 5 8 13 "
          ]
        }
      ]
    },
    {
      "cell_type": "markdown",
      "source": [
        "4. Write a Python Program to Check Armstrong Number?"
      ],
      "metadata": {
        "id": "wgJZlXDr_AsJ"
      }
    },
    {
      "cell_type": "code",
      "source": [
        "n = int(input(\"Enter a number: \"))\n",
        "t = n\n",
        "sum = 0\n",
        "a = len(str(n))\n",
        "\n",
        "while t > 0:\n",
        "   digit = t % 10\n",
        "   sum = sum +(digit ** a)\n",
        "   t = t // 10\n",
        "\n",
        "if n == sum:\n",
        "   print(n,\"is an Armstrong number\")\n",
        "else:\n",
        "   print(n,\"is not an Armstrong number\")"
      ],
      "metadata": {
        "colab": {
          "base_uri": "https://localhost:8080/"
        },
        "id": "xcGe3HRplxbZ",
        "outputId": "134267e6-a2c5-49d8-bba4-11d11d96d39d"
      },
      "execution_count": 65,
      "outputs": [
        {
          "output_type": "stream",
          "name": "stdout",
          "text": [
            "Enter a number: 1634\n",
            "1634 is an Armstrong number\n"
          ]
        }
      ]
    },
    {
      "cell_type": "markdown",
      "source": [
        "5. Write a Python Program to Find Armstrong Number in an Interval?\n"
      ],
      "metadata": {
        "id": "Mc2wBxHe_A9I"
      }
    },
    {
      "cell_type": "code",
      "source": [
        "low = int(input(\"Enter the lower range \"))\n",
        "hi = int(input(\"Enter the upper range \"))\n",
        "arm = list()\n",
        "for n in range(low,hi+1):\n",
        "  t = n\n",
        "  sum = 0\n",
        "  a = len(str(n))\n",
        "  while t > 0:\n",
        "    digit = t % 10\n",
        "    sum = sum +(digit ** a)\n",
        "    t = t // 10\n",
        "  if n == sum:\n",
        "   arm.append(n)\n",
        "print(\"Following numbers are armstrong number in interval\",low,\"and\",hi,)\n",
        "print(arm)"
      ],
      "metadata": {
        "colab": {
          "base_uri": "https://localhost:8080/"
        },
        "id": "6qK8erlNotuZ",
        "outputId": "2cc18826-815d-43b4-e42b-ba45cdfec9fd"
      },
      "execution_count": 72,
      "outputs": [
        {
          "output_type": "stream",
          "name": "stdout",
          "text": [
            "Enter the lower range 100\n",
            "Enter the upper range 4000\n",
            "Following numbers are armstrong number in interval 100 and 4000\n",
            "[153, 370, 371, 407, 1634]\n"
          ]
        }
      ]
    },
    {
      "cell_type": "markdown",
      "source": [
        "6. Write a Python Program to Find the Sum of Natural Numbers?"
      ],
      "metadata": {
        "id": "y3iw5iZk_Ww8"
      }
    },
    {
      "cell_type": "code",
      "source": [
        "num = int(input(\"Sum of Numbers upto which number \"))\n",
        "a = ((num*(num+1))*0.5)\n",
        "print(f\"Sum of first {num} natural number is {a}\")\n"
      ],
      "metadata": {
        "colab": {
          "base_uri": "https://localhost:8080/"
        },
        "id": "AYAXsDvYYpNg",
        "outputId": "ace18e85-96e1-4da9-b16a-2bb8f5c184e7"
      },
      "execution_count": 13,
      "outputs": [
        {
          "output_type": "stream",
          "name": "stdout",
          "text": [
            "Sum of Numbers upto which number 3\n",
            "Sum of first 3 natural number is 6.0\n"
          ]
        }
      ]
    },
    {
      "cell_type": "code",
      "source": [],
      "metadata": {
        "id": "SdPbSU-rrkCJ"
      },
      "execution_count": null,
      "outputs": []
    }
  ]
}