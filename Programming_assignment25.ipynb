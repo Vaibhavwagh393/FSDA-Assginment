{
  "nbformat": 4,
  "nbformat_minor": 0,
  "metadata": {
    "colab": {
      "provenance": []
    },
    "kernelspec": {
      "name": "python3",
      "display_name": "Python 3"
    },
    "language_info": {
      "name": "python"
    }
  },
  "cells": [
    {
      "cell_type": "markdown",
      "source": [
        "1. Create a function that takes three integer arguments (a, b, c) and returns the amount of integers which are of equal value."
      ],
      "metadata": {
        "id": "Ea5TJ6dPpF9Z"
      }
    },
    {
      "cell_type": "code",
      "source": [
        "def equal(a, b, c):\n",
        "    if a == b == c:\n",
        "        return 3\n",
        "    elif a == b or b == c or c == a:\n",
        "        return 2\n",
        "    else:\n",
        "        return 0\n"
      ],
      "metadata": {
        "id": "hAiuZiMnpItC"
      },
      "execution_count": 32,
      "outputs": []
    },
    {
      "cell_type": "code",
      "source": [
        "equal(1, 1, 1)"
      ],
      "metadata": {
        "colab": {
          "base_uri": "https://localhost:8080/"
        },
        "id": "xPaGsDZ5pTCu",
        "outputId": "e500c834-d05d-44e2-83f1-e06625e34d45"
      },
      "execution_count": 33,
      "outputs": [
        {
          "output_type": "execute_result",
          "data": {
            "text/plain": [
              "3"
            ]
          },
          "metadata": {},
          "execution_count": 33
        }
      ]
    },
    {
      "cell_type": "code",
      "source": [
        "equal(3, 4, 3) "
      ],
      "metadata": {
        "colab": {
          "base_uri": "https://localhost:8080/"
        },
        "id": "tLvPF1GApYMK",
        "outputId": "8cd9e387-763b-461e-e2ca-781a60c434e3"
      },
      "execution_count": 34,
      "outputs": [
        {
          "output_type": "execute_result",
          "data": {
            "text/plain": [
              "2"
            ]
          },
          "metadata": {},
          "execution_count": 34
        }
      ]
    },
    {
      "cell_type": "markdown",
      "source": [
        "2. Write a function that converts a dictionary into a list of keys-values tuples."
      ],
      "metadata": {
        "id": "rmjklXD_qtST"
      }
    },
    {
      "cell_type": "code",
      "source": [
        "def dict_to_list(d):\n",
        "    result = []\n",
        "    for k, v in d.items():\n",
        "        result.append((k, v))\n",
        "    return sorted(result)\n"
      ],
      "metadata": {
        "id": "92mWFBVHqw9f"
      },
      "execution_count": 35,
      "outputs": []
    },
    {
      "cell_type": "code",
      "source": [
        "dict_to_list({\n",
        "  \"likes\": 2,\n",
        "  \"dislikes\": 3,\n",
        "  \"followers\": 10\n",
        "})\n"
      ],
      "metadata": {
        "colab": {
          "base_uri": "https://localhost:8080/"
        },
        "id": "634SCYvFtPsk",
        "outputId": "ac366e14-ae55-4178-9a7d-0d8ca0f3181b"
      },
      "execution_count": 36,
      "outputs": [
        {
          "output_type": "execute_result",
          "data": {
            "text/plain": [
              "[('dislikes', 3), ('followers', 10), ('likes', 2)]"
            ]
          },
          "metadata": {},
          "execution_count": 36
        }
      ]
    },
    {
      "cell_type": "code",
      "source": [
        "dict_to_list({\n",
        "  \"D\": 1,\n",
        "  \"B\": 2,\n",
        "  \"C\": 3\n",
        "}) \n"
      ],
      "metadata": {
        "colab": {
          "base_uri": "https://localhost:8080/"
        },
        "id": "XZrOWB-DtRyL",
        "outputId": "2c59a230-184a-408a-f665-1c061d143651"
      },
      "execution_count": 37,
      "outputs": [
        {
          "output_type": "execute_result",
          "data": {
            "text/plain": [
              "[('B', 2), ('C', 3), ('D', 1)]"
            ]
          },
          "metadata": {},
          "execution_count": 37
        }
      ]
    },
    {
      "cell_type": "markdown",
      "source": [
        "3.Write a function that creates a dictionary with each (key, value) pair being the (lower case, upper case) versions of a letter, respectively."
      ],
      "metadata": {
        "id": "JHoxWL14pbhP"
      }
    },
    {
      "cell_type": "code",
      "source": [
        "def mapping(lst):\n",
        "    result = {}\n",
        "    for letter in lst:\n",
        "        result[letter] = letter.upper()\n",
        "    return result\n"
      ],
      "metadata": {
        "id": "BO8BLQixqRLw"
      },
      "execution_count": 38,
      "outputs": []
    },
    {
      "cell_type": "code",
      "source": [
        "def mapping_2(lst):\n",
        "    return {letter: letter.upper() for letter in lst}"
      ],
      "metadata": {
        "id": "3jltlVZbqAWW"
      },
      "execution_count": 39,
      "outputs": []
    },
    {
      "cell_type": "code",
      "source": [
        "mapping([\"p\", \"s\"])"
      ],
      "metadata": {
        "colab": {
          "base_uri": "https://localhost:8080/"
        },
        "id": "W3UEGY8nqVYX",
        "outputId": "752afeab-77aa-469d-e4f5-75b6de05ef38"
      },
      "execution_count": 40,
      "outputs": [
        {
          "output_type": "execute_result",
          "data": {
            "text/plain": [
              "{'p': 'P', 's': 'S'}"
            ]
          },
          "metadata": {},
          "execution_count": 40
        }
      ]
    },
    {
      "cell_type": "code",
      "source": [
        "mapping_2([\"a\", \"v\", \"y\", \"z\"])"
      ],
      "metadata": {
        "colab": {
          "base_uri": "https://localhost:8080/"
        },
        "id": "ecby3OjZqiyi",
        "outputId": "c69707d1-0123-43a1-b6df-7334537dfcc5"
      },
      "execution_count": 41,
      "outputs": [
        {
          "output_type": "execute_result",
          "data": {
            "text/plain": [
              "{'a': 'A', 'v': 'V', 'y': 'Y', 'z': 'Z'}"
            ]
          },
          "metadata": {},
          "execution_count": 41
        }
      ]
    },
    {
      "cell_type": "markdown",
      "source": [
        "4. Write a function, that replaces all vowels in a string with a specified vowel."
      ],
      "metadata": {
        "id": "LQJSSfLeoTPs"
      }
    },
    {
      "cell_type": "code",
      "execution_count": 42,
      "metadata": {
        "id": "G9OkSEWpfKpp"
      },
      "outputs": [],
      "source": [
        "def vow_replace(string1,charr):\n",
        "  string2=\"aeiou\"\n",
        "  string3=''\n",
        "  for i in string1:\n",
        "    if i in string2:\n",
        "      string3 = string3 + charr\n",
        "    else:\n",
        "      string3 = string3 + i\n",
        "  return string3\n",
        "  "
      ]
    },
    {
      "cell_type": "code",
      "source": [
        "vow_replace(\"cheese casserole\", \"o\")"
      ],
      "metadata": {
        "colab": {
          "base_uri": "https://localhost:8080/",
          "height": 36
        },
        "id": "gX3LKRgRorWN",
        "outputId": "c9689134-8ebd-4ab3-9ed8-eb05355e7b84"
      },
      "execution_count": 43,
      "outputs": [
        {
          "output_type": "execute_result",
          "data": {
            "text/plain": [
              "'chooso cossorolo'"
            ],
            "application/vnd.google.colaboratory.intrinsic+json": {
              "type": "string"
            }
          },
          "metadata": {},
          "execution_count": 43
        }
      ]
    },
    {
      "cell_type": "code",
      "source": [
        "vow_replace(\"stuffed jalapeno poppers\", \"e\") "
      ],
      "metadata": {
        "colab": {
          "base_uri": "https://localhost:8080/",
          "height": 36
        },
        "id": "21AWkNz0tw0Z",
        "outputId": "62b18b15-8b0e-4a20-9e9e-ca1ae81ecdd3"
      },
      "execution_count": 44,
      "outputs": [
        {
          "output_type": "execute_result",
          "data": {
            "text/plain": [
              "'steffed jelepene peppers'"
            ],
            "application/vnd.google.colaboratory.intrinsic+json": {
              "type": "string"
            }
          },
          "metadata": {},
          "execution_count": 44
        }
      ]
    },
    {
      "cell_type": "markdown",
      "source": [
        "5. Create a function that takes a string as input and capitalizes a letter if its ASCII code is even and returns its lower case version if its ASCII code is odd."
      ],
      "metadata": {
        "id": "-zghC6-1t-Gk"
      }
    },
    {
      "cell_type": "code",
      "source": [
        "def ascii_capitalize(s):\n",
        "    result = \"\"\n",
        "    for c in s:\n",
        "        if ord(c) % 2 == 0:\n",
        "            result += c.upper()\n",
        "        else:\n",
        "            result += c.lower()\n",
        "    return result"
      ],
      "metadata": {
        "id": "3xW1cl3vtvuf"
      },
      "execution_count": 45,
      "outputs": []
    },
    {
      "cell_type": "code",
      "source": [
        "ascii_capitalize(\"Oh what a beautiful morning.\")"
      ],
      "metadata": {
        "colab": {
          "base_uri": "https://localhost:8080/",
          "height": 36
        },
        "id": "HNpAMWqCovEt",
        "outputId": "e6602160-27db-48e3-9cc6-6fd3fb671733"
      },
      "execution_count": 46,
      "outputs": [
        {
          "output_type": "execute_result",
          "data": {
            "text/plain": [
              "'oH wHaT a BeauTiFuL moRNiNg.'"
            ],
            "application/vnd.google.colaboratory.intrinsic+json": {
              "type": "string"
            }
          },
          "metadata": {},
          "execution_count": 46
        }
      ]
    },
    {
      "cell_type": "code",
      "source": [
        "ascii_capitalize(\"THE LITTLE MERMAID\") "
      ],
      "metadata": {
        "colab": {
          "base_uri": "https://localhost:8080/",
          "height": 36
        },
        "id": "-WBO0aC9tsNf",
        "outputId": "ef77ed20-663c-470e-a6f4-7c51d1b86c4d"
      },
      "execution_count": 47,
      "outputs": [
        {
          "output_type": "execute_result",
          "data": {
            "text/plain": [
              "'THe LiTTLe meRmaiD'"
            ],
            "application/vnd.google.colaboratory.intrinsic+json": {
              "type": "string"
            }
          },
          "metadata": {},
          "execution_count": 47
        }
      ]
    },
    {
      "cell_type": "code",
      "source": [],
      "metadata": {
        "id": "nswmhNEn4bOz"
      },
      "execution_count": 47,
      "outputs": []
    }
  ]
}