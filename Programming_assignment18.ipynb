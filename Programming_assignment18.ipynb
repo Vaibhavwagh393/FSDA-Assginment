{
  "nbformat": 4,
  "nbformat_minor": 0,
  "metadata": {
    "colab": {
      "provenance": []
    },
    "kernelspec": {
      "name": "python3",
      "display_name": "Python 3"
    },
    "language_info": {
      "name": "python"
    }
  },
  "cells": [
    {
      "cell_type": "markdown",
      "source": [
        "1. Create a function that takes a list of non-negative integers and strings and return a new list without the strings."
      ],
      "metadata": {
        "id": "BHECqlwOb1Sq"
      }
    },
    {
      "cell_type": "code",
      "source": [
        "def filter_list(lst):\n",
        "  lst1 =[]\n",
        "  for i in lst:\n",
        "    if isinstance(i,int):\n",
        "      lst1.append(i)\n",
        "  return lst1"
      ],
      "metadata": {
        "id": "Pd0MasKIb5uC"
      },
      "execution_count": 95,
      "outputs": []
    },
    {
      "cell_type": "code",
      "source": [
        "filter_list([1, \"a\", \"b\", 0, 15]) "
      ],
      "metadata": {
        "colab": {
          "base_uri": "https://localhost:8080/"
        },
        "id": "27ieJm7ycdXN",
        "outputId": "57f5f498-43ec-48b3-c8d6-8f2785c7ec77"
      },
      "execution_count": 96,
      "outputs": [
        {
          "output_type": "execute_result",
          "data": {
            "text/plain": [
              "[1, 0, 15]"
            ]
          },
          "metadata": {},
          "execution_count": 96
        }
      ]
    },
    {
      "cell_type": "code",
      "source": [
        "filter_list([1, 2, \"aasf\", \"1\", \"123\", 123])"
      ],
      "metadata": {
        "colab": {
          "base_uri": "https://localhost:8080/"
        },
        "id": "Wa0S8uVKcgn0",
        "outputId": "5e8df59f-b3a4-45e8-f22f-3fc714dcb0c5"
      },
      "execution_count": 97,
      "outputs": [
        {
          "output_type": "execute_result",
          "data": {
            "text/plain": [
              "[1, 2, 123]"
            ]
          },
          "metadata": {},
          "execution_count": 97
        }
      ]
    },
    {
      "cell_type": "markdown",
      "source": [
        "2. The \"Reverser\" takes a string as input and returns that string in reverse order, with the opposite case."
      ],
      "metadata": {
        "id": "FChoCylDdnh9"
      }
    },
    {
      "cell_type": "code",
      "source": [
        "def reverse(word):\n",
        "  string =''\n",
        "  word = word[::-1]\n",
        "  for i in word:\n",
        "    if(i==i.upper()):\n",
        "      string = string + i.lower()\n",
        "    else:\n",
        "      string = string + i.upper()\n",
        "  return string\n",
        "  "
      ],
      "metadata": {
        "id": "eIZ_zgsEeL7e"
      },
      "execution_count": 98,
      "outputs": []
    },
    {
      "cell_type": "code",
      "source": [
        "reverse(\"Hello World\")"
      ],
      "metadata": {
        "colab": {
          "base_uri": "https://localhost:8080/",
          "height": 36
        },
        "id": "27OLk10-eXuZ",
        "outputId": "5f8f705f-eff5-4677-9aac-5c5944f9ebc3"
      },
      "execution_count": 99,
      "outputs": [
        {
          "output_type": "execute_result",
          "data": {
            "text/plain": [
              "'DLROw OLLEh'"
            ],
            "application/vnd.google.colaboratory.intrinsic+json": {
              "type": "string"
            }
          },
          "metadata": {},
          "execution_count": 99
        }
      ]
    },
    {
      "cell_type": "code",
      "source": [
        "reverse(\"Radar\")"
      ],
      "metadata": {
        "colab": {
          "base_uri": "https://localhost:8080/",
          "height": 36
        },
        "id": "LVGk2v8KgY-1",
        "outputId": "a2ca9247-2682-48db-f1c2-ed46835ca5dc"
      },
      "execution_count": 100,
      "outputs": [
        {
          "output_type": "execute_result",
          "data": {
            "text/plain": [
              "'RADAr'"
            ],
            "application/vnd.google.colaboratory.intrinsic+json": {
              "type": "string"
            }
          },
          "metadata": {},
          "execution_count": 100
        }
      ]
    },
    {
      "cell_type": "markdown",
      "source": [
        "3. You can assign variables from lists like this:\n",
        "lst = [1, 2, 3, 4, 5, 6]\n",
        "first = lst[0]\n",
        "middle = lst[1:-1]\n",
        "last = lst[-1]\n",
        "\n",
        "-- print(first) ➞ outputs 1\n",
        "\n",
        "-- print(middle) ➞ outputs [2, 3, 4, 5]\n",
        "\n",
        "-- print(last) ➞ outputs 6\n"
      ],
      "metadata": {
        "id": "i_8aCYwFgdl0"
      }
    },
    {
      "cell_type": "code",
      "source": [
        "first, *middle, last = [1,2,3,4,5,6]\n",
        "print(\"First :\",first)\n",
        "print(\"Middle : \",middle)\n",
        "print(\"Last : \",last)"
      ],
      "metadata": {
        "colab": {
          "base_uri": "https://localhost:8080/"
        },
        "id": "kriD7J05graR",
        "outputId": "ff54cec1-1b48-468e-adc4-5c568ee66c76"
      },
      "execution_count": 101,
      "outputs": [
        {
          "output_type": "stream",
          "name": "stdout",
          "text": [
            "First : 1\n",
            "Middle :  [2, 3, 4, 5]\n",
            "Last :  6\n"
          ]
        }
      ]
    },
    {
      "cell_type": "markdown",
      "source": [
        "4. Write a function that calculates the factorial of a number recursively."
      ],
      "metadata": {
        "id": "kLz4jTS0cl1J"
      }
    },
    {
      "cell_type": "code",
      "source": [
        "def factorial(num):\n",
        "  if num==1:\n",
        "    return num\n",
        "  else:\n",
        "    return num * factorial(num-1)"
      ],
      "metadata": {
        "id": "LJc3MAadc8VL"
      },
      "execution_count": 102,
      "outputs": []
    },
    {
      "cell_type": "code",
      "source": [
        "factorial(5)"
      ],
      "metadata": {
        "colab": {
          "base_uri": "https://localhost:8080/"
        },
        "id": "fuwrB33tcjdY",
        "outputId": "f492da1f-a791-41be-e9cf-afbdde5e8b2a"
      },
      "execution_count": 103,
      "outputs": [
        {
          "output_type": "execute_result",
          "data": {
            "text/plain": [
              "120"
            ]
          },
          "metadata": {},
          "execution_count": 103
        }
      ]
    },
    {
      "cell_type": "markdown",
      "source": [
        "5. Write a function that moves all elements of one type to the end of the list."
      ],
      "metadata": {
        "id": "MjIIxjBehiBK"
      }
    },
    {
      "cell_type": "code",
      "source": [
        "def move_to_end(lst,num):\n",
        "  \n",
        "    for i in range(len(lst)-1):\n",
        "        if lst[i] == num:\n",
        "          lst.remove(num)\n",
        "          lst.append(num)\n",
        "        else:\n",
        "            pass\n",
        "    return lst \n"
      ],
      "metadata": {
        "id": "kmm0Rk2VmNyH"
      },
      "execution_count": 117,
      "outputs": []
    },
    {
      "cell_type": "code",
      "source": [
        "move_to_end([1, 3, 2, 4, 4, 1], 1) "
      ],
      "metadata": {
        "colab": {
          "base_uri": "https://localhost:8080/"
        },
        "id": "skale0krnXs4",
        "outputId": "36f0ffd9-9299-46d0-bb2d-6132d5b82bbf"
      },
      "execution_count": 118,
      "outputs": [
        {
          "output_type": "execute_result",
          "data": {
            "text/plain": [
              "[3, 2, 4, 4, 1, 1]"
            ]
          },
          "metadata": {},
          "execution_count": 118
        }
      ]
    },
    {
      "cell_type": "code",
      "source": [
        "move_to_end([7, 8, 9, 1, 2, 3, 4], 9)"
      ],
      "metadata": {
        "colab": {
          "base_uri": "https://localhost:8080/"
        },
        "id": "JdxHAg-Vnd2q",
        "outputId": "a4ff5ddf-fec9-43db-bb3b-14df84995ac1"
      },
      "execution_count": 119,
      "outputs": [
        {
          "output_type": "execute_result",
          "data": {
            "text/plain": [
              "[7, 8, 1, 2, 3, 4, 9]"
            ]
          },
          "metadata": {},
          "execution_count": 119
        }
      ]
    },
    {
      "cell_type": "code",
      "source": [
        "move_to_end([\"a\", \"a\", \"a\", \"b\"], \"a\") "
      ],
      "metadata": {
        "colab": {
          "base_uri": "https://localhost:8080/"
        },
        "id": "fwvGI5LjovQr",
        "outputId": "dce8c5e2-5943-4f7e-f15d-751973223559"
      },
      "execution_count": 107,
      "outputs": [
        {
          "output_type": "execute_result",
          "data": {
            "text/plain": [
              "['b', 'a', 'a', 'a']"
            ]
          },
          "metadata": {},
          "execution_count": 107
        }
      ]
    },
    {
      "cell_type": "code",
      "source": [],
      "metadata": {
        "id": "GEdjZoCJqDNl"
      },
      "execution_count": 107,
      "outputs": []
    }
  ]
}