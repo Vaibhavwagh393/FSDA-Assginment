{
  "nbformat": 4,
  "nbformat_minor": 0,
  "metadata": {
    "colab": {
      "provenance": []
    },
    "kernelspec": {
      "name": "python3",
      "display_name": "Python 3"
    },
    "language_info": {
      "name": "python"
    }
  },
  "cells": [
    {
      "cell_type": "markdown",
      "source": [
        "1.\tWrite a Python program to Extract Unique values dictionary values?"
      ],
      "metadata": {
        "id": "krsOfs1-hJCR"
      }
    },
    {
      "cell_type": "code",
      "source": [
        "def extract_unique_values(dictionary):\n",
        "    unique_values = set()\n",
        "    for value_list in dictionary.values():\n",
        "        unique_values.update(value_list)\n",
        "    return list(unique_values)\n",
        "\n",
        "my_dict = {'a': [1, 2, 3], 'b': [2, 3, 4], 'c': [3, 4, 5]}\n",
        "unique_values = extract_unique_values(my_dict)\n",
        "print(unique_values)\n"
      ],
      "metadata": {
        "colab": {
          "base_uri": "https://localhost:8080/"
        },
        "id": "y-ba9Me4BW9o",
        "outputId": "002d2dad-e17d-45f1-dc98-6b805486f121"
      },
      "execution_count": 20,
      "outputs": [
        {
          "output_type": "stream",
          "name": "stdout",
          "text": [
            "[1, 2, 3, 4, 5]\n"
          ]
        }
      ]
    },
    {
      "cell_type": "markdown",
      "source": [
        "2.\tWrite a Python program to find the sum of all items in a dictionary?"
      ],
      "metadata": {
        "id": "POo6bBN8hI-x"
      }
    },
    {
      "cell_type": "code",
      "source": [
        "def sum_dict(dictionary):\n",
        "    total = sum(dictionary.values())\n",
        "    return total\n",
        "\n",
        "\n",
        "my_dict = {'a': 10, 'b': 20, 'c': 30}\n",
        "total_sum = sum_dict(my_dict)\n",
        "print(total_sum)\n"
      ],
      "metadata": {
        "colab": {
          "base_uri": "https://localhost:8080/"
        },
        "id": "ffyVPBCIBmA0",
        "outputId": "37a6d697-3710-4b56-8555-6307a7eb1633"
      },
      "execution_count": 21,
      "outputs": [
        {
          "output_type": "stream",
          "name": "stdout",
          "text": [
            "60\n"
          ]
        }
      ]
    },
    {
      "cell_type": "markdown",
      "source": [
        "3.\tWrite a Python program to Merging two Dictionaries?"
      ],
      "metadata": {
        "id": "5HxZQcAuhI4k"
      }
    },
    {
      "cell_type": "code",
      "source": [
        "def merge(dict1 , dict2):\n",
        "  merge_dict = { **dict1 , **dict2}\n",
        "  return merge_dict\n",
        "\n",
        "my_dict1 = {'a': 10, 'b': 20, 'c': 30}\n",
        "my_dict2 = {'d': 40, 'e': 80, 'f': 100}\n",
        "\n",
        "merge(my_dict1 , my_dict2)"
      ],
      "metadata": {
        "colab": {
          "base_uri": "https://localhost:8080/"
        },
        "id": "mlSsr_AZBrqw",
        "outputId": "f432e89b-dad8-4d37-bbab-f06b6e594615"
      },
      "execution_count": 22,
      "outputs": [
        {
          "output_type": "execute_result",
          "data": {
            "text/plain": [
              "{'a': 10, 'b': 20, 'c': 30, 'd': 40, 'e': 80, 'f': 100}"
            ]
          },
          "metadata": {},
          "execution_count": 22
        }
      ]
    },
    {
      "cell_type": "code",
      "source": [
        "def merge_1(dict1 , dict2):\n",
        "  dict1.update(dict2)\n",
        "  return dict1\n",
        "\n",
        "my_dict1 = {'a': 10, 'b': 20, 'c': 30}\n",
        "my_dict2 = {'d': 40, 'e': 80, 'f': 100}\n",
        "\n",
        "merge_1(my_dict1 , my_dict2)"
      ],
      "metadata": {
        "colab": {
          "base_uri": "https://localhost:8080/"
        },
        "id": "MV1Ud-ucCkot",
        "outputId": "22b956ed-975b-4303-c3a2-825e8c9574d1"
      },
      "execution_count": 23,
      "outputs": [
        {
          "output_type": "execute_result",
          "data": {
            "text/plain": [
              "{'a': 10, 'b': 20, 'c': 30, 'd': 40, 'e': 80, 'f': 100}"
            ]
          },
          "metadata": {},
          "execution_count": 23
        }
      ]
    },
    {
      "cell_type": "markdown",
      "source": [
        "4.\tWrite a Python program to convert key-values list to flat dictionary?"
      ],
      "metadata": {
        "id": "aJWjOAEjhIvS"
      }
    },
    {
      "cell_type": "code",
      "source": [
        "def flat(keys, values):\n",
        "   dict1 = dict(zip(keys,values))\n",
        "   return dict1\n",
        "\n",
        "keys = ['a', 'b', 'c', 'd', 'e']\n",
        "values = [ 10,20,30,40,50]\n",
        "flat(keys , values)"
      ],
      "metadata": {
        "colab": {
          "base_uri": "https://localhost:8080/"
        },
        "id": "l9xF3SYECwXK",
        "outputId": "d944a0f2-3af7-40b1-cebc-7be06b0eb703"
      },
      "execution_count": 24,
      "outputs": [
        {
          "output_type": "execute_result",
          "data": {
            "text/plain": [
              "{'a': 10, 'b': 20, 'c': 30, 'd': 40, 'e': 50}"
            ]
          },
          "metadata": {},
          "execution_count": 24
        }
      ]
    },
    {
      "cell_type": "markdown",
      "source": [
        "5.\tWrite a Python program to insertion at the beginning in OrderedDict?"
      ],
      "metadata": {
        "id": "i-MDzDG0hIn1"
      }
    },
    {
      "cell_type": "code",
      "source": [
        "from collections import OrderedDict\n",
        "\n",
        "def insert_at_beginning(ordered_dict, key, value):\n",
        "    ordered_dict[key] = value\n",
        "    ordered_dict.move_to_end(key, last=False)\n",
        "\n",
        "my_ordered_dict = OrderedDict([('a', 1), ('b', 2), ('c', 3)])\n",
        "insert_at_beginning(my_ordered_dict, 'x', 0)\n",
        "print(my_ordered_dict)\n"
      ],
      "metadata": {
        "colab": {
          "base_uri": "https://localhost:8080/"
        },
        "id": "Rds-vFxCFWL8",
        "outputId": "65164b01-d166-46b4-decd-9bed26c8eda2"
      },
      "execution_count": 25,
      "outputs": [
        {
          "output_type": "stream",
          "name": "stdout",
          "text": [
            "OrderedDict([('x', 0), ('a', 1), ('b', 2), ('c', 3)])\n"
          ]
        }
      ]
    },
    {
      "cell_type": "markdown",
      "source": [
        "6.\tWrite a Python program to check order of character in string using OrderedDict()?"
      ],
      "metadata": {
        "id": "GkuWaoinh9oQ"
      }
    },
    {
      "cell_type": "code",
      "source": [
        "from collections import OrderedDict\n",
        "\n",
        "def check_order_of_characters(string, pattern):\n",
        "    ordered_dict = OrderedDict.fromkeys(string)\n",
        "    j = 0\n",
        "    for key in ordered_dict:\n",
        "        if j == len(pattern):\n",
        "            break\n",
        "        if key == pattern[j]:\n",
        "            j += 1\n",
        "    return j == len(pattern)\n",
        "\n",
        "\n",
        "my_string = 'Hello World'\n",
        "my_pattern = 'loW'\n",
        "is_ordered = check_order_of_characters(my_string, my_pattern)\n",
        "print(is_ordered)\n"
      ],
      "metadata": {
        "colab": {
          "base_uri": "https://localhost:8080/"
        },
        "id": "N_lj-WVwFWri",
        "outputId": "e03db534-9225-46ea-dc73-7802e426a856"
      },
      "execution_count": 26,
      "outputs": [
        {
          "output_type": "stream",
          "name": "stdout",
          "text": [
            "True\n"
          ]
        }
      ]
    },
    {
      "cell_type": "markdown",
      "source": [
        "7.\tWrite a Python program to sort Python Dictionaries by Key or Value?"
      ],
      "metadata": {
        "id": "OKmzeh6Uh9dw"
      }
    },
    {
      "cell_type": "code",
      "source": [
        "def by_key(dictionary):\n",
        "    sorted_dict = dict(sorted(dictionary.items()))\n",
        "    return sorted_dict\n",
        "\n",
        "\n",
        "my_dict = {'b': 2, 'a': 1, 'c': 3}\n",
        "sorted_dict = by_key(my_dict)\n",
        "print(sorted_dict)\n"
      ],
      "metadata": {
        "colab": {
          "base_uri": "https://localhost:8080/"
        },
        "id": "Hw4jCSzlFXCr",
        "outputId": "93d4bc4f-5317-442c-b55f-a8df3b349d6f"
      },
      "execution_count": 27,
      "outputs": [
        {
          "output_type": "stream",
          "name": "stdout",
          "text": [
            "{'a': 1, 'b': 2, 'c': 3}\n"
          ]
        }
      ]
    },
    {
      "cell_type": "code",
      "source": [
        "def by_value(dictionary):\n",
        "    sorted_dict = dict(sorted(dictionary.items(), key=lambda item: item[1]))\n",
        "    return sorted_dict\n",
        "\n",
        "# Example usage\n",
        "my_dict = {'b': 1, 'a': 2, 'c': 3}\n",
        "sorted_dict = by_value(my_dict)\n",
        "print(sorted_dict)\n"
      ],
      "metadata": {
        "colab": {
          "base_uri": "https://localhost:8080/"
        },
        "id": "UfJ1VLTbF-xa",
        "outputId": "1f9cb19e-8bff-4be2-cea7-e7f73beaae30"
      },
      "execution_count": 28,
      "outputs": [
        {
          "output_type": "stream",
          "name": "stdout",
          "text": [
            "{'b': 1, 'a': 2, 'c': 3}\n"
          ]
        }
      ]
    },
    {
      "cell_type": "code",
      "source": [],
      "metadata": {
        "id": "-3-sOastGKwH"
      },
      "execution_count": 28,
      "outputs": []
    }
  ]
}