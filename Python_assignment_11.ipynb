{
  "nbformat": 4,
  "nbformat_minor": 0,
  "metadata": {
    "colab": {
      "provenance": []
    },
    "kernelspec": {
      "name": "python3",
      "display_name": "Python 3"
    },
    "language_info": {
      "name": "python"
    }
  },
  "cells": [
    {
      "cell_type": "markdown",
      "source": [
        "**1. Create an assert statement that throws an AssertionError if the variable spam is a negative integer.**\n",
        "\n"
      ],
      "metadata": {
        "id": "8va3sBkIX2Hp"
      }
    },
    {
      "cell_type": "code",
      "source": [
        "spam = -2\n",
        "assert spam >= 0, \"spam cannot be a negative integer\""
      ],
      "metadata": {
        "colab": {
          "base_uri": "https://localhost:8080/",
          "height": 183
        },
        "id": "LWg1dcX7iBY_",
        "outputId": "179e2cd2-0900-465d-b058-8fb29079c2ae"
      },
      "execution_count": 6,
      "outputs": [
        {
          "output_type": "error",
          "ename": "AssertionError",
          "evalue": "ignored",
          "traceback": [
            "\u001b[0;31m---------------------------------------------------------------------------\u001b[0m",
            "\u001b[0;31mAssertionError\u001b[0m                            Traceback (most recent call last)",
            "\u001b[0;32m<ipython-input-6-081fad44d259>\u001b[0m in \u001b[0;36m<cell line: 2>\u001b[0;34m()\u001b[0m\n\u001b[1;32m      1\u001b[0m \u001b[0mspam\u001b[0m \u001b[0;34m=\u001b[0m \u001b[0;34m-\u001b[0m\u001b[0;36m2\u001b[0m\u001b[0;34m\u001b[0m\u001b[0;34m\u001b[0m\u001b[0m\n\u001b[0;32m----> 2\u001b[0;31m \u001b[0;32massert\u001b[0m \u001b[0mspam\u001b[0m \u001b[0;34m>=\u001b[0m \u001b[0;36m0\u001b[0m\u001b[0;34m,\u001b[0m \u001b[0;34m\"spam cannot be a negative integer\"\u001b[0m\u001b[0;34m\u001b[0m\u001b[0;34m\u001b[0m\u001b[0m\n\u001b[0m",
            "\u001b[0;31mAssertionError\u001b[0m: spam cannot be a negative integer"
          ]
        }
      ]
    },
    {
      "cell_type": "markdown",
      "source": [
        "**2. Write an assert statement that triggers an AssertionError if the variables eggs and bacon contain strings that are the same as each other, even if their cases are different (that is, 'hello' and 'hello' are considered the same, and 'goodbye' and 'GOODbye' are also considered the same).**\n"
      ],
      "metadata": {
        "id": "SmXFQ-ogeHCo"
      }
    },
    {
      "cell_type": "code",
      "source": [
        "eggs = \"HelloWorld\"\n",
        "bacon =\"helloWORLD\"\n",
        "assert eggs.lower() != bacon.lower(), \"eggs and bacon strings cannot be the same\"\n"
      ],
      "metadata": {
        "colab": {
          "base_uri": "https://localhost:8080/",
          "height": 200
        },
        "id": "aGKZgx2iiVDq",
        "outputId": "bd3c8a00-572c-4b4b-f237-6e12dba2cf0c"
      },
      "execution_count": 7,
      "outputs": [
        {
          "output_type": "error",
          "ename": "AssertionError",
          "evalue": "ignored",
          "traceback": [
            "\u001b[0;31m---------------------------------------------------------------------------\u001b[0m",
            "\u001b[0;31mAssertionError\u001b[0m                            Traceback (most recent call last)",
            "\u001b[0;32m<ipython-input-7-32dfc9ee31cf>\u001b[0m in \u001b[0;36m<cell line: 3>\u001b[0;34m()\u001b[0m\n\u001b[1;32m      1\u001b[0m \u001b[0meggs\u001b[0m \u001b[0;34m=\u001b[0m \u001b[0;34m\"HelloWorld\"\u001b[0m\u001b[0;34m\u001b[0m\u001b[0;34m\u001b[0m\u001b[0m\n\u001b[1;32m      2\u001b[0m \u001b[0mbacon\u001b[0m \u001b[0;34m=\u001b[0m\u001b[0;34m\"helloWORLD\"\u001b[0m\u001b[0;34m\u001b[0m\u001b[0;34m\u001b[0m\u001b[0m\n\u001b[0;32m----> 3\u001b[0;31m \u001b[0;32massert\u001b[0m \u001b[0meggs\u001b[0m\u001b[0;34m.\u001b[0m\u001b[0mlower\u001b[0m\u001b[0;34m(\u001b[0m\u001b[0;34m)\u001b[0m \u001b[0;34m!=\u001b[0m \u001b[0mbacon\u001b[0m\u001b[0;34m.\u001b[0m\u001b[0mlower\u001b[0m\u001b[0;34m(\u001b[0m\u001b[0;34m)\u001b[0m\u001b[0;34m,\u001b[0m \u001b[0;34m\"eggs and bacon strings cannot be the same\"\u001b[0m\u001b[0;34m\u001b[0m\u001b[0;34m\u001b[0m\u001b[0m\n\u001b[0m",
            "\u001b[0;31mAssertionError\u001b[0m: eggs and bacon strings cannot be the same"
          ]
        }
      ]
    },
    {
      "cell_type": "markdown",
      "source": [
        "**3. Create an assert statement that throws an AssertionError every time.**\n",
        "\n"
      ],
      "metadata": {
        "id": "i3s-71NNeHXj"
      }
    },
    {
      "cell_type": "code",
      "source": [
        "assert False, \"This assert statement always triggers an AssertionError\"\n"
      ],
      "metadata": {
        "colab": {
          "base_uri": "https://localhost:8080/",
          "height": 165
        },
        "id": "K0cMn0adiin3",
        "outputId": "fa785a53-6db5-44ec-af43-1f121cb2ffdc"
      },
      "execution_count": 8,
      "outputs": [
        {
          "output_type": "error",
          "ename": "AssertionError",
          "evalue": "ignored",
          "traceback": [
            "\u001b[0;31m---------------------------------------------------------------------------\u001b[0m",
            "\u001b[0;31mAssertionError\u001b[0m                            Traceback (most recent call last)",
            "\u001b[0;32m<ipython-input-8-001f1fd43097>\u001b[0m in \u001b[0;36m<cell line: 1>\u001b[0;34m()\u001b[0m\n\u001b[0;32m----> 1\u001b[0;31m \u001b[0;32massert\u001b[0m \u001b[0;32mFalse\u001b[0m\u001b[0;34m,\u001b[0m \u001b[0;34m\"This assert statement always triggers an AssertionError\"\u001b[0m\u001b[0;34m\u001b[0m\u001b[0;34m\u001b[0m\u001b[0m\n\u001b[0m",
            "\u001b[0;31mAssertionError\u001b[0m: This assert statement always triggers an AssertionError"
          ]
        }
      ]
    },
    {
      "cell_type": "markdown",
      "source": [
        "**4. What are the two lines that must be present in your software in order to call logging.debug()?**\n"
      ],
      "metadata": {
        "id": "JL9TR1-1eH0y"
      }
    },
    {
      "cell_type": "code",
      "source": [
        "import logging\n",
        "logging.basicConfig(level=logging.DEBUG)\n"
      ],
      "metadata": {
        "id": "ps_cdLmgfkNI"
      },
      "execution_count": 1,
      "outputs": []
    },
    {
      "cell_type": "markdown",
      "source": [
        "**5. What are the two lines that your program must have in order to have logging.debug() send a logging message to a file named programLog.txt?**\n"
      ],
      "metadata": {
        "id": "Ole1EGUdeH3H"
      }
    },
    {
      "cell_type": "code",
      "source": [
        "import logging\n",
        "logging.basicConfig(filename='programLog.txt', level=logging.DEBUG)\n"
      ],
      "metadata": {
        "id": "Vb8zIMMgft4X"
      },
      "execution_count": 2,
      "outputs": []
    },
    {
      "cell_type": "markdown",
      "source": [
        "**6. What are the five levels of logging?**\n",
        "-->\n",
        "\n",
        "The five levels of logging, in increasing order of severity, are:\n",
        "\n",
        "1.  **DEBUG**: Detailed information, typically useful for debugging purposes.\n",
        "2.  **INFO**: General information about the program's execution.\n",
        "3.  **WARNING**: Indicates potential issues that may cause problems but are not\n",
        "    critical.\n",
        "4.  **ERROR**: Indicates error conditions that might still allow the program to continue.\n",
        "5.  **CRITICAL**: Indicates critical error conditions that might lead to the program's termination.\n",
        "\n"
      ],
      "metadata": {
        "id": "lyhSSQ5TeH5e"
      }
    },
    {
      "cell_type": "markdown",
      "source": [
        "**7. What line of code would you add to your software to disable all logging messages?**\n"
      ],
      "metadata": {
        "id": "L77PldHjeH7w"
      }
    },
    {
      "cell_type": "code",
      "source": [
        "logging.disable(logging.CRITICAL)"
      ],
      "metadata": {
        "id": "QD4oQXZpgTOj"
      },
      "execution_count": 3,
      "outputs": []
    },
    {
      "cell_type": "markdown",
      "source": [
        "**8.Why is using logging messages better than using print() to display the same message?**\n",
        "-->\n",
        "Logging messages can be easily enabled or disabled by changing the logging level, making it more flexible.Logging messages can include timestamps, log levels, and other metadata, providing more detailed information.\n",
        "\n",
        "\n"
      ],
      "metadata": {
        "id": "gxw2z63FeH_T"
      }
    },
    {
      "cell_type": "markdown",
      "source": [
        "**9. What are the differences between the Step Over, Step In, and Step Out buttons in the debugger?**\n",
        "-->\n",
        "*  Step Over: Executes the current line and advances to the next line in the code.\n",
        "*  Step In: Executes the current line and enters any function call, allowing you to debug inside the called function.\n",
        "*  Step Out: Executes the remaining lines in the current function and returns to the calling function, effectively \"stepping out\" of the current function.\n"
      ],
      "metadata": {
        "id": "tJts4VigeUBS"
      }
    },
    {
      "cell_type": "markdown",
      "source": [
        "**10.After you click Continue, when will the debugger stop ?**\n",
        "-->  After clicking Continue, the debugger will stop when it reaches the next breakpoint in the code or when the program execution completes.\n"
      ],
      "metadata": {
        "id": "So7U01NbeUHO"
      }
    },
    {
      "cell_type": "markdown",
      "source": [
        "**11. What is the concept of a breakpoint?**\n",
        "-->   A breakpoint is a designated point in the code where the debugger pauses program execution, allowing you to inspect the program's state and variables. By setting breakpoints, you can control the flow of execution and analyze the program's behavior at specific locations in the code."
      ],
      "metadata": {
        "id": "a0WGIVJAeXUc"
      }
    }
  ]
}