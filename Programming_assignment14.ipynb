{
  "nbformat": 4,
  "nbformat_minor": 0,
  "metadata": {
    "colab": {
      "provenance": []
    },
    "kernelspec": {
      "name": "python3",
      "display_name": "Python 3"
    },
    "language_info": {
      "name": "python"
    }
  },
  "cells": [
    {
      "cell_type": "markdown",
      "source": [
        "1. Define a class with a generator which can iterate the numbers, which are divisible by 7, between a given range 0 and n."
      ],
      "metadata": {
        "id": "ywubud0XcgCN"
      }
    },
    {
      "cell_type": "code",
      "source": [
        "class DivisibleBySeven:\n",
        "    def __init__(self, n):\n",
        "        self.n = n\n",
        "\n",
        "    def divisible_by_seven_generator(self):\n",
        "        for num in range(self.n + 1):\n",
        "            if num % 7 == 0:\n",
        "                yield num\n",
        "\n",
        "\n",
        "\n",
        "n = 60\n",
        "\n",
        "obj = DivisibleBySeven(n)\n",
        "generator = obj.divisible_by_seven_generator()\n",
        "\n",
        "for num in generator:\n",
        "    print(num, end=' ')\n"
      ],
      "metadata": {
        "colab": {
          "base_uri": "https://localhost:8080/"
        },
        "id": "gW7Lvo1Kcp0R",
        "outputId": "818afe9e-87a9-4a9d-e90b-969bddf94f3a"
      },
      "execution_count": 35,
      "outputs": [
        {
          "output_type": "stream",
          "name": "stdout",
          "text": [
            "0 7 14 21 28 35 42 49 56 "
          ]
        }
      ]
    },
    {
      "cell_type": "markdown",
      "source": [
        "2. Write a program to compute the frequency of the words from the input. The output should output after sorting the key alphanumerically. \n",
        "\n",
        "Suppose the following input is supplied to the program:\n",
        "\n",
        "New to Python or choosing between Python 2 and Python 3? Read Python 2 or Python 3.\n"
      ],
      "metadata": {
        "id": "4MTgtljdZ09g"
      }
    },
    {
      "cell_type": "code",
      "source": [
        "def to_count(string):\n",
        "  dict1 = {}\n",
        "  \n",
        "  for i in string.split(' '):\n",
        "    dict1[i] = dict1.get(i,0)+1\n",
        "  return dict1\n",
        "\n",
        "string = \"New to Python or choosing between Python 2 and Python 3? Read Python 2 or Python 3.\"   \n",
        "to_count(string)"
      ],
      "metadata": {
        "colab": {
          "base_uri": "https://localhost:8080/"
        },
        "id": "qle-SOiEZ2Lj",
        "outputId": "d1514f19-40af-471a-e31f-2508f5edf99a"
      },
      "execution_count": 36,
      "outputs": [
        {
          "output_type": "execute_result",
          "data": {
            "text/plain": [
              "{'New': 1,\n",
              " 'to': 1,\n",
              " 'Python': 5,\n",
              " 'or': 2,\n",
              " 'choosing': 1,\n",
              " 'between': 1,\n",
              " '2': 2,\n",
              " 'and': 1,\n",
              " '3?': 1,\n",
              " 'Read': 1,\n",
              " '3.': 1}"
            ]
          },
          "metadata": {},
          "execution_count": 36
        }
      ]
    },
    {
      "cell_type": "markdown",
      "source": [
        "3. Define a class Person and its two child classes: Male and Female. All classes have a method \"getGender\" which can print \"Male\" for Male class and \"Female\" for Female class."
      ],
      "metadata": {
        "id": "RpVgVVmvZWdT"
      }
    },
    {
      "cell_type": "code",
      "source": [
        "class Person:\n",
        "    def getGender(self):\n",
        "        pass\n",
        "\n",
        "\n",
        "class Male(Person):\n",
        "    def getGender(self):\n",
        "        return \"Male\"\n",
        "\n",
        "\n",
        "class Female(Person):\n",
        "    def getGender(self):\n",
        "        return \"Female\"\n",
        "\n",
        "\n",
        "# Example usage:\n",
        "person1 = Male()\n",
        "person2 = Female()\n",
        "\n",
        "print(person1.getGender())  \n",
        "print(person2.getGender())  \n"
      ],
      "metadata": {
        "colab": {
          "base_uri": "https://localhost:8080/"
        },
        "id": "By4-Mcz9ZYMb",
        "outputId": "b54f8328-beac-4774-8996-7fc3beafaf4a"
      },
      "execution_count": 37,
      "outputs": [
        {
          "output_type": "stream",
          "name": "stdout",
          "text": [
            "Male\n",
            "Female\n"
          ]
        }
      ]
    },
    {
      "cell_type": "markdown",
      "source": [
        "4. Please write a program to generate all sentences where subject is in [\"I\", \"You\"] and verb is in [\"Play\", \"Love\"] and the object is in [\"Hockey\",\"Football\"]."
      ],
      "metadata": {
        "id": "ogoDZ63ETZDJ"
      }
    },
    {
      "cell_type": "code",
      "source": [
        "subjects = [\"I\", \"You\"]\n",
        "verbs = [\"Play\", \"Love\"]\n",
        "objects = [\"Hockey\", \"Football\"]\n",
        "\n",
        "sentences = []\n",
        "\n",
        "for subject in subjects:\n",
        "    for verb in verbs:\n",
        "        for obj in objects:\n",
        "            sentence = f\"{subject} {verb} {obj}.\"\n",
        "            sentences.append(sentence)\n",
        "\n",
        "for sentence in sentences:\n",
        "    print(sentence)\n"
      ],
      "metadata": {
        "colab": {
          "base_uri": "https://localhost:8080/"
        },
        "id": "2fMwmVtpTaGS",
        "outputId": "678a1bf4-5f7f-497d-e0a1-0c865d891970"
      },
      "execution_count": 38,
      "outputs": [
        {
          "output_type": "stream",
          "name": "stdout",
          "text": [
            "I Play Hockey.\n",
            "I Play Football.\n",
            "I Love Hockey.\n",
            "I Love Football.\n",
            "You Play Hockey.\n",
            "You Play Football.\n",
            "You Love Hockey.\n",
            "You Love Football.\n"
          ]
        }
      ]
    },
    {
      "cell_type": "markdown",
      "source": [
        "5. Please write a program to compress and decompress the string \"hello world!hello world!hello world!hello world!\"."
      ],
      "metadata": {
        "id": "8h_ggdK1XYkE"
      }
    },
    {
      "cell_type": "code",
      "source": [
        "def compress_string(string):\n",
        "    compressed = ''\n",
        "    count = 1\n",
        "    for i in range(1, len(string)):\n",
        "        if string[i] == string[i - 1]:\n",
        "            count += 1\n",
        "        else:\n",
        "            compressed += string[i - 1] + str(count)\n",
        "            count = 1\n",
        "    compressed += string[-1] + str(count)\n",
        "    return compressed\n",
        "\n",
        "\n",
        "def decompress_string(string):\n",
        "    decompressed = ''\n",
        "    i = 0\n",
        "    while i < len(string):\n",
        "        char = string[i]\n",
        "        if char.isdigit():\n",
        "            count = ''\n",
        "            while i < len(string) - 1 and string[i + 1].isdigit():\n",
        "                count += string[i + 1]\n",
        "                i += 1\n",
        "            if count:\n",
        "                decompressed += char * int(count)\n",
        "            else:\n",
        "                decompressed += char\n",
        "        else:\n",
        "            decompressed += char\n",
        "        i += 1\n",
        "    return decompressed\n",
        "\n",
        "original_string = \"hello world!hello world!hello world!hello world!\"\n",
        "\n",
        "compressed_string = compress_string(original_string)\n",
        "print(f\"Compressed string: {compressed_string}\")\n",
        "\n",
        "decompressed_string = decompress_string(compressed_string)\n",
        "print(f\"Decompressed string: {decompressed_string}\")\n"
      ],
      "metadata": {
        "colab": {
          "base_uri": "https://localhost:8080/"
        },
        "id": "IqvA3b8iXakI",
        "outputId": "b230a755-9615-410d-ea4d-392e0175ec6c"
      },
      "execution_count": 39,
      "outputs": [
        {
          "output_type": "stream",
          "name": "stdout",
          "text": [
            "Compressed string: h1e1l2o1 1w1o1r1l1d1!1h1e1l2o1 1w1o1r1l1d1!1h1e1l2o1 1w1o1r1l1d1!1h1e1l2o1 1w1o1r1l1d1!1\n",
            "Decompressed string: h1e1l2o1 1w1o1r1l1d1!1h1e1l2o1 1w1o1r1l1d1!1h1e1l2o1 1w1o1r1l1d1!1h1e1l2o1 1w1o1r1l1d1!1\n"
          ]
        }
      ]
    },
    {
      "cell_type": "markdown",
      "source": [
        "6. Please write a binary search function which searches an item in a sorted list. The function should return the index of element to be searched in the list."
      ],
      "metadata": {
        "id": "UmTlKCvHTtkb"
      }
    },
    {
      "cell_type": "code",
      "source": [
        "def binary_search(lst, search_word):\n",
        "    lst.sort()  # Sort the list in place\n",
        "\n",
        "    left = 0\n",
        "    right = len(lst) - 1\n",
        "\n",
        "    while left <= right:\n",
        "        mid = (left + right) // 2\n",
        "\n",
        "        if lst[mid] == search_word:\n",
        "            return mid, lst\n",
        "        elif lst[mid] < search_word:\n",
        "            left = mid + 1\n",
        "        else:\n",
        "            right = mid - 1\n",
        "\n",
        "    return -1, lst  # Item not found\n",
        "\n",
        "\n",
        "lst = ['hello', 'world', 'python', 'java', 'data', 'science']\n",
        "search_word = 'java'\n",
        "\n",
        "result, sorted_list = binary_search(lst, search_word)\n",
        "if result != -1:\n",
        "    print(f\"Sorted list: {sorted_list}\\nIndex of '{search_word}' in the sorted list is {result}.\")\n",
        "else:\n",
        "    print(f\"'{search_word}' not found in the list.\")\n"
      ],
      "metadata": {
        "colab": {
          "base_uri": "https://localhost:8080/"
        },
        "id": "fAS3DUn7Tvt2",
        "outputId": "180a2d1c-71f6-4b8f-e1f1-3a9ac1cf39a4"
      },
      "execution_count": 40,
      "outputs": [
        {
          "output_type": "stream",
          "name": "stdout",
          "text": [
            "Sorted list: ['data', 'hello', 'java', 'python', 'science', 'world']\n",
            "Index of 'java' in the sorted list is 2.\n"
          ]
        }
      ]
    },
    {
      "cell_type": "code",
      "source": [],
      "metadata": {
        "id": "sYDA0jRmUHSM"
      },
      "execution_count": 40,
      "outputs": []
    }
  ]
}